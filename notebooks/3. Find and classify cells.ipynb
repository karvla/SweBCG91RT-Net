{
 "cells": [
  {
   "cell_type": "markdown",
   "metadata": {},
   "source": [
    "# 3. Find and Classify Cells"
   ]
  },
  {
   "cell_type": "code",
   "execution_count": 2,
   "metadata": {},
   "outputs": [],
   "source": [
    "from predict import make_pred, post_processing, make_pred_dataframe\n",
    "from dataset import TNBC2\n",
    "import os\n",
    "import random\n",
    "import matplotlib.pyplot as plt\n",
    "import config\n",
    "from tqdm import tqdm\n",
    "import numpy as np\n",
    "c = config.Config()\n",
    "n = 4"
   ]
  },
  {
   "cell_type": "code",
   "execution_count": null,
   "metadata": {},
   "outputs": [],
   "source": [
    "tnbc = TNBC2()\n",
    "model_name = 'unet_quip_10000'\n",
    "stride = int(c.WIDTH*3/2)\n",
    "\n",
    "for imid in tnbc.ids[:n]:\n",
    "    path = tnbc.file_name(imid)\n",
    "    img = tnbc.load_image(imid)\n",
    "    pred = make_pred(path, model_name, stride)\n",
    "    mask = post_processing(pred, 0.05)\n",
    "    \n",
    "    df_pred = make_pred_dataframe(imid, mask, img)\n",
    "    pred_class = np.zeros_like(mask).astype(np.uint8)\n",
    "    for _, row in df_pred[df_pred[\"image_id\"] == imid].iterrows():\n",
    "        pred_class[row[\"obj\"]] = (row[\"class\"]) * row[\"mask\"]\n",
    "        \n",
    "    \n",
    "    plt.figure(figsize=(40,20))\n",
    "    plt.subplot(121)\n",
    "    plt.imshow(img)\n",
    "    plt.subplot(121)\n",
    "    plt.imshow(pred, alpha=0.3)"
   ]
  },
  {
   "cell_type": "code",
   "execution_count": null,
   "metadata": {},
   "outputs": [],
   "source": []
  },
  {
   "cell_type": "markdown",
   "metadata": {},
   "source": [
    "## Predict and classify all TNBC"
   ]
  },
  {
   "cell_type": "code",
   "execution_count": null,
   "metadata": {},
   "outputs": [
    {
     "name": "stderr",
     "output_type": "stream",
     "text": [
      "  0%|          | 2/541 [00:04<19:00,  2.12s/it]"
     ]
    }
   ],
   "source": [
    "import importlib\n",
    "import dataset\n",
    "from dataset import TNBC2\n",
    "import keras.backend as K\n",
    "importlib.reload(dataset)\n",
    "\n",
    "tnbc = TNBC2()\n",
    "\n",
    "dfs = []\n",
    "for imid in tqdm(tnbc.ids):\n",
    "    mask = post_processing(make_pred(tnbc.file_name(imid), 'unet_quip_ds', int(3*c.HEIGHT/2)))\n",
    "    try:\n",
    "        dfs.append(make_pred_dataframe(imid, mask, tnbc.load_image(imid)))\n",
    "    except KeyError:\n",
    "        continue\n",
    "    K.clear_session()\n",
    "\n",
    "df_pat = make_patient_dataframe(pd.concat(dfs))\n",
    "df_pat.to_pickle('../data/tnbc2/tnbc.pickle')"
   ]
  },
  {
   "cell_type": "code",
   "execution_count": null,
   "metadata": {},
   "outputs": [],
   "source": [
    "df_pat = make_patient_dataframe(pd.concat(dfs))\n",
    "df_pat.to_pickle('../data/tnbc2/tnbc.pickle')"
   ]
  }
 ],
 "metadata": {
  "kernelspec": {
   "display_name": "SweBCG91RT-Net",
   "language": "python",
   "name": "swebcg91rt-net"
  },
  "language_info": {
   "codemirror_mode": {
    "name": "ipython",
    "version": 3
   },
   "file_extension": ".py",
   "mimetype": "text/x-python",
   "name": "python",
   "nbconvert_exporter": "python",
   "pygments_lexer": "ipython3",
   "version": "3.8.5"
  }
 },
 "nbformat": 4,
 "nbformat_minor": 4
}
