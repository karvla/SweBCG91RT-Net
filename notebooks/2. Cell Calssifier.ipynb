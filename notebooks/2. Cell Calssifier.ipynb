{
 "cells": [
  {
   "cell_type": "markdown",
   "metadata": {},
   "source": [
    "# 2. Cell Classifier\n",
    "This note book is for classifying cells in the first BMC data set, annotated by Felicia."
   ]
  },
  {
   "cell_type": "code",
   "execution_count": 9,
   "metadata": {},
   "outputs": [],
   "source": [
    "import os\n",
    "from pathlib import Path\n",
    "import random\n",
    "import numpy as np\n",
    "\n",
    "from skimage.draw import polygon\n",
    "from PIL import Image, ImageDraw\n",
    "import matplotlib.pyplot as plt\n",
    "from skimage.io import imread, imshow\n",
    "import imgaug.augmenters as iaa\n",
    "import keras\n",
    "from keras.utils import Sequence\n",
    "from keras.utils.np_utils import to_categorical   \n",
    "from keras.models import Model, load_model\n",
    "from keras.layers import Input, multiply\n",
    "from keras.layers.core import Dropout, Lambda\n",
    "from keras.layers.convolutional import Conv2D, Conv2DTranspose\n",
    "from keras.layers.pooling import MaxPooling2D\n",
    "from keras.layers.merge import concatenate\n",
    "from keras.callbacks import EarlyStopping, ModelCheckpoint\n",
    "import json\n",
    "import pandas as pd\n",
    "\n",
    "import utils\n",
    "from weighted_loss_unet import make_weighted_loss_unet, my_loss"
   ]
  },
  {
   "cell_type": "markdown",
   "metadata": {},
   "source": [
    "## Investigating data"
   ]
  },
  {
   "cell_type": "code",
   "execution_count": 10,
   "metadata": {},
   "outputs": [],
   "source": [
    "data_dir = Path(os.getcwd()).parent / 'data/swebcg91rt'\n",
    "with open(data_dir / 'annotations.json') as f:\n",
    "    annotations = json.load(f)"
   ]
  },
  {
   "cell_type": "code",
   "execution_count": 11,
   "metadata": {},
   "outputs": [
    {
     "data": {
      "text/plain": [
       "tumor           658\n",
       "immune cells    593\n",
       "stroma          421\n",
       "rbc              30\n",
       "necrosis          6\n",
       "Name: class, dtype: int64"
      ]
     },
     "execution_count": 11,
     "metadata": {},
     "output_type": "execute_result"
    }
   ],
   "source": [
    "data = []\n",
    "for _, item in utils.parse_annotations(annotations).items():\n",
    "    for cell in item:\n",
    "        data.append({'vertices' : cell['vertices'], 'class' : cell['class']})\n",
    "df = pd.DataFrame(data)\n",
    "df['class'].value_counts()"
   ]
  },
  {
   "cell_type": "code",
   "execution_count": 12,
   "metadata": {},
   "outputs": [],
   "source": [
    "# Dropping necrosis and rbc\n",
    "df = df[df['class'] != 'rbc']\n",
    "df = df[df['class'] != 'necrosis']"
   ]
  },
  {
   "cell_type": "code",
   "execution_count": 13,
   "metadata": {},
   "outputs": [],
   "source": [
    "WIDTH = 256\n",
    "HEIGHT = 256\n",
    "SHAPE = (WIDTH, HEIGHT)\n",
    "\n",
    "def normalize_vertices(vertices):\n",
    "    (x_min,y_min), (_, _) = utils.bounding_box(vertices)\n",
    "    return [(x - x_min, y - y_min) for x, y in vertices]\n",
    "\n",
    "def generate_mask(vertices):\n",
    "    img = Image.new(\"L\", (3000, 3000), 0)\n",
    "    ImageDraw.Draw(img).polygon(vertices, outline=1, fill=1)\n",
    "    (left, upper), (right, lower) = utils.bounding_box(vertices)\n",
    "    img = img.crop((left, upper, right+1, lower+1))\n",
    "    return np.asarray(img)\n",
    "\n",
    "df['bounding box'] = df['vertices'].apply(utils.bounding_box)\n",
    "df['shape'] = df['bounding box'].apply(lambda x: (x[1][1]-x[0][1], x[1][0]-x[0][0]))\n",
    "df['vertices normalized'] = df['vertices'].apply(normalize_vertices)\n",
    "df['mask'] = df['vertices'].apply(generate_mask)\n",
    "df['size'] = df['mask'].apply(np.sum)\n",
    "df = df[df['size'] != 0]"
   ]
  },
  {
   "cell_type": "code",
   "execution_count": 14,
   "metadata": {},
   "outputs": [
    {
     "data": {
      "text/plain": [
       "Text(0.5, 1.0, 'Major and minor axis ratio')"
      ]
     },
     "execution_count": 14,
     "metadata": {},
     "output_type": "execute_result"
    },
    {
     "data": {
      "image/png": "[encoded data removed]",
      "text/plain": [
       "<Figure size 432x288 with 1 Axes>"
      ]
     },
     "metadata": {
      "needs_background": "light"
     },
     "output_type": "display_data"
    }
   ],
   "source": [
    "# Exploring major and minor axis\n",
    "# https://alyssaq.github.io/2015/computing-the-axes-or-orientation-of-a-blob/\n",
    "\n",
    "def major_minor_axis(mask):\n",
    "    y, x = np.nonzero(mask)\n",
    "    x = x - np.mean(x)\n",
    "    y = y - np.mean(y)\n",
    "    coords = np.vstack([x, y])\n",
    "    cov = np.cov(coords)\n",
    "    evals, evecs = np.linalg.eig(cov)\n",
    "    v2, v1 = np.sort(evals)\n",
    "    return v1, v2\n",
    "\n",
    "df['major axis'] = df['mask'].apply(lambda x: major_minor_axis(x)[0])\n",
    "df['minor axis'] = df['mask'].apply(lambda x: major_minor_axis(x)[1])\n",
    "df['axis ratio'] = df['minor axis'] / df['major axis']\n",
    "df.groupby('class')['axis ratio'].plot.hist(bins = 100)\n",
    "plt.legend()\n",
    "plt.title('Major and minor axis ratio')"
   ]
  },
  {
   "cell_type": "code",
   "execution_count": 15,
   "metadata": {},
   "outputs": [
    {
     "name": "stdout",
     "output_type": "stream",
     "text": [
      "Max size: 39643\n",
      "Min size: 29\n"
     ]
    },
    {
     "data": {
      "text/plain": [
       "Text(0.5, 1.0, 'Sizes in pixels')"
      ]
     },
     "execution_count": 15,
     "metadata": {},
     "output_type": "execute_result"
    },
    {
     "data": {
      "image/png": "[encoded data removed]",
      "text/plain": [
       "<Figure size 432x288 with 1 Axes>"
      ]
     },
     "metadata": {
      "needs_background": "light"
     },
     "output_type": "display_data"
    },
    {
     "data": {
      "image/png": "[encoded data removed]",
      "text/plain": [
       "<Figure size 432x288 with 1 Axes>"
      ]
     },
     "metadata": {
      "needs_background": "light"
     },
     "output_type": "display_data"
    }
   ],
   "source": [
    "# Size Size varies between classes\n",
    "print('Max size:', df['size'].max())\n",
    "print('Min size:', df['size'].min())\n",
    "plt.figure()\n",
    "df.groupby('class')['size'].plot.hist(bins = 100)\n",
    "plt.legend()\n",
    "plt.figure()\n",
    "df.groupby('class')['size'].plot.hist(bins = 100, xlim=(0, 800))\n",
    "plt.legend()\n",
    "plt.title('Sizes in pixels')"
   ]
  },
  {
   "cell_type": "markdown",
   "metadata": {},
   "source": [
    "## Training basic model\n",
    "We've found that the axis ratio and size seem to differ. We will use these as features."
   ]
  },
  {
   "cell_type": "code",
   "execution_count": 29,
   "metadata": {},
   "outputs": [],
   "source": [
    "from sklearn.ensemble import RandomForestClassifier\n",
    "from sklearn.datasets import make_classification\n",
    "from sklearn.preprocessing import StandardScaler\n",
    "from sklearn.model_selection import KFold\n",
    "from sklearn.metrics import accuracy_score\n",
    "from sklearn.metrics import confusion_matrix, plot_confusion_matrix\n",
    "import time\n",
    "\n",
    "features = ['size', 'major axis', 'minor axis']\n",
    "classes = ['tumor', 'stroma', 'immune cells']\n",
    "df_class = pd.get_dummies(df['class'])\n",
    "df_features = pd.concat([df_class, df[features]], axis=1)\n",
    "\n",
    "np.random.seed(0) # Set random seed for test/train-split\n",
    "msk = np.random.rand(len(df_features)) < 0.8\n",
    "df_test = df_features[~msk]\n",
    "df_train = df_features[msk]\n",
    "\n",
    "X = df_train[features]\n",
    "y = df_train[classes]\n",
    "\n",
    "kf = KFold(n_splits=5,shuffle=True)\n",
    "kf.split(X)\n",
    "\n",
    "t = 1000 * time.time() # current time in milliseconds\n",
    "np.random.seed(int(t) % 2**32)\n",
    "cm_list = []\n",
    "for train_index, val_index in kf.split(X):\n",
    "    x_train, x_val = X.iloc[train_index], X.iloc[val_index]\n",
    "    y_train, y_val = y.iloc[train_index], y.iloc[val_index]\n",
    "    model = RandomForestClassifier(max_depth=2, random_state=0)\n",
    "    model.fit(x_train, y_train)\n",
    "    \n",
    "    y_pred = model.predict(x_val).argmax(axis=1)\n",
    "    y_val = y_val.values.argmax(axis=1)\n",
    "    cm_list.append(confusion_matrix(y_val, y_pred, normalize='true'))\n"
   ]
  },
  {
   "cell_type": "markdown",
   "metadata": {},
   "source": [
    "### Evaluation\n",
    "The validation scores seem pretty promesing."
   ]
  },
  {
   "cell_type": "code",
   "execution_count": 30,
   "metadata": {},
   "outputs": [
    {
     "data": {
      "text/plain": [
       "<AxesSubplot:>"
      ]
     },
     "execution_count": 30,
     "metadata": {},
     "output_type": "execute_result"
    },
    {
     "data": {
      "image/png": "[encoded data removed]",
      "text/plain": [
       "<Figure size 360x360 with 2 Axes>"
      ]
     },
     "metadata": {
      "needs_background": "light"
     },
     "output_type": "display_data"
    }
   ],
   "source": [
    "import seaborn as sn\n",
    "df_cm = pd.DataFrame(np.mean(cm_list, axis=0), index = classes)\n",
    "plt.figure(figsize=(5,5))\n",
    "sn.heatmap(df_cm, annot=True)"
   ]
  }
 ],
 "metadata": {
  "kernelspec": {
   "display_name": "SweBCG91RT-Net",
   "language": "python",
   "name": "swebcg91rt-net"
  },
  "language_info": {
   "codemirror_mode": {
    "name": "ipython",
    "version": 3
   },
   "file_extension": ".py",
   "mimetype": "text/x-python",
   "name": "python",
   "nbconvert_exporter": "python",
   "pygments_lexer": "ipython3",
   "version": "3.8.5"
  }
 },
 "nbformat": 4,
 "nbformat_minor": 4
}
