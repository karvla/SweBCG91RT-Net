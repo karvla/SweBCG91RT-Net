{
 "cells": [
  {
   "cell_type": "markdown",
   "metadata": {},
   "source": [
    "# 2. Cell Classifier\n",
    "This note book is for classifying cells in the first BMC data set, annotated by Felicia."
   ]
  },
  {
   "cell_type": "code",
   "execution_count": 1,
   "metadata": {},
   "outputs": [],
   "source": [
    "import os\n",
    "from pathlib import Path\n",
    "import random\n",
    "import numpy as np\n",
    "\n",
    "import tensorflow as tf\n",
    "gpu = tf.config.experimental.list_physical_devices('GPU')[0]\n",
    "tf.config.experimental.set_memory_growth(gpu, True)\n",
    "\n",
    "import keras\n",
    "from keras.utils import Sequence\n",
    "from keras.models import Model, load_model\n",
    "from keras.layers import Input, multiply\n",
    "from keras.layers.core import Dropout, Lambda\n",
    "from keras.layers.convolutional import Conv2D, Conv2DTranspose\n",
    "from keras.layers.pooling import MaxPooling2D\n",
    "from keras.layers.merge import concatenate\n",
    "from keras.callbacks import EarlyStopping, ModelCheckpoint\n",
    "from weighted_loss_unet import make_weighted_loss_unet, my_loss\n",
    "\n",
    "from tqdm import tqdm\n",
    "from PIL import Image, ImageDraw, ImageStat\n",
    "import matplotlib.pyplot as plt\n",
    "from skimage.io import imread, imshow\n",
    "import json\n",
    "import pandas as pd\n",
    "\n",
    "import utils\n",
    "from weighted_loss_unet import make_weighted_loss_unet, my_loss\n",
    "import config\n",
    "c = config.Config()"
   ]
  },
  {
   "cell_type": "markdown",
   "metadata": {},
   "source": [
    "## Investigating data"
   ]
  },
  {
   "cell_type": "code",
   "execution_count": 2,
   "metadata": {},
   "outputs": [
    {
     "data": {
      "text/plain": [
       "tumor           658\n",
       "immune cells    593\n",
       "stroma          421\n",
       "rbc              30\n",
       "necrosis          6\n",
       "Name: class, dtype: int64"
      ]
     },
     "execution_count": 2,
     "metadata": {},
     "output_type": "execute_result"
    }
   ],
   "source": [
    "from dataset import Swebcg\n",
    "df = Swebcg().get_dataframe()\n",
    "df['class'].value_counts()"
   ]
  },
  {
   "cell_type": "code",
   "execution_count": 3,
   "metadata": {},
   "outputs": [],
   "source": [
    "# Dropping necrosis and rbc and stroma\n",
    "df = df[df['class'] != 'rbc']\n",
    "df = df[df['class'] != 'necrosis']\n",
    "df = df[df['class'] != 'stroma']"
   ]
  },
  {
   "cell_type": "code",
   "execution_count": 4,
   "metadata": {},
   "outputs": [],
   "source": [
    "def normalize_vertices(vertices):\n",
    "    (x_min,y_min), (_, _) = utils.bounding_box(vertices)\n",
    "    return [(x - x_min, y - y_min) for x, y in vertices]\n",
    "\n",
    "def _bbox_to_slice(bbox):\n",
    "    return (slice(int(bbox[0][1]), int(bbox[1][1]), None), \n",
    "            slice(int(bbox[0][0]), int(bbox[1][0]), None))\n",
    "\n",
    "def generate_mask(vertices):\n",
    "    img = Image.new(\"L\", (3000, 3000), 0)\n",
    "    ImageDraw.Draw(img).polygon(vertices, outline=1, fill=1)\n",
    "    (left, upper), (right, lower) = utils.bounding_box(vertices)\n",
    "    img = img.crop((left, upper, right+1, lower+1))\n",
    "    return np.asarray(img)\n",
    "\n",
    "df['vertices normalized'] = df['vertices'].apply(normalize_vertices)\n",
    "df[\"obj\"] = df[\"vertices\"].apply(lambda x: _bbox_to_slice(utils.bounding_box(x)))\n",
    "df['mask'] = df['vertices'].apply(generate_mask)\n",
    "df['size'] = df['mask'].apply(np.sum)\n",
    "df = df[df['size'] != 0]"
   ]
  },
  {
   "cell_type": "code",
   "execution_count": 5,
   "metadata": {},
   "outputs": [
    {
     "data": {
      "text/plain": [
       "Text(0.5, 1.0, 'Major and minor axis ratio')"
      ]
     },
     "execution_count": 5,
     "metadata": {},
     "output_type": "execute_result"
    },
    {
     "data": {
      "image/png": "[encoded data removed]",
      "text/plain": [
       "<Figure size 432x288 with 1 Axes>"
      ]
     },
     "metadata": {
      "needs_background": "light"
     },
     "output_type": "display_data"
    }
   ],
   "source": [
    "# Exploring major and minor axis\n",
    "# https://alyssaq.github.io/2015/computing-the-axes-or-orientation-of-a-blob/\n",
    "\n",
    "def major_minor_axis(mask):\n",
    "    if np.sum(mask) < 2:\n",
    "        return 0, 0\n",
    "    y, x = np.nonzero(mask)\n",
    "    x = x - np.mean(x)\n",
    "    y = y - np.mean(y)\n",
    "    coords = np.vstack([x, y])\n",
    "    cov = np.cov(coords)\n",
    "    evals, evecs = np.linalg.eig(cov)\n",
    "    \n",
    "    v2, v1 = np.sort(evals)\n",
    "    return v1, v2\n",
    "\n",
    "df['major axis'] = df['mask'].apply(lambda x: major_minor_axis(x)[0])\n",
    "df['minor axis'] = df['mask'].apply(lambda x: major_minor_axis(x)[1])\n",
    "df['axis ratio'] = df['minor axis'] / df['major axis']\n",
    "df.groupby('class')['axis ratio'].plot.hist(bins = 100)\n",
    "plt.legend()\n",
    "plt.title('Major and minor axis ratio')"
   ]
  },
  {
   "cell_type": "code",
   "execution_count": 6,
   "metadata": {},
   "outputs": [
    {
     "name": "stdout",
     "output_type": "stream",
     "text": [
      "count    1244.000000\n",
      "mean      243.145498\n",
      "std       191.922045\n",
      "min        29.000000\n",
      "25%        89.000000\n",
      "50%       174.000000\n",
      "75%       360.250000\n",
      "max      1282.000000\n",
      "Name: size, dtype: float64\n"
     ]
    },
    {
     "data": {
      "text/plain": [
       "<matplotlib.legend.Legend at 0x7f8bdc1c2f70>"
      ]
     },
     "execution_count": 6,
     "metadata": {},
     "output_type": "execute_result"
    },
    {
     "data": {
      "image/png": "[encoded data removed]",
      "text/plain": [
       "<Figure size 432x288 with 1 Axes>"
      ]
     },
     "metadata": {
      "needs_background": "light"
     },
     "output_type": "display_data"
    }
   ],
   "source": [
    "# Size Size varies between classes\n",
    "print(df[\"size\"].describe())\n",
    "plt.figure()\n",
    "df.groupby('class')['size'].plot.hist(bins = 100)\n",
    "plt.legend()"
   ]
  },
  {
   "cell_type": "code",
   "execution_count": 7,
   "metadata": {},
   "outputs": [],
   "source": [
    "def none_zero_brightness(im):\n",
    "    b = np.nanmean(np.nanmean(np.where(im!=0,im,np.nan), 0))\n",
    "    if b is None:\n",
    "        return 0\n",
    "    else:\n",
    "        return b\n",
    "        \n",
    "    \n",
    "def avg_brightness(ids, masks, obj):\n",
    "    swebcg = Swebcg()\n",
    "    avg = []\n",
    "    \n",
    "    images = {}\n",
    "    for i in set(ids):\n",
    "        images[i] = swebcg.load_image(i)\n",
    "        \n",
    "    for imid, mask, obj in zip(ids, masks, obj):\n",
    "        img = images[imid][obj]\n",
    "        mask = mask[:img.shape[0], :img.shape[1]]\n",
    "        img = img[:mask.shape[0], :mask.shape[1], :]\n",
    "        img = img * np.dstack((mask, mask, mask))\n",
    "        avg.append(none_zero_brightness(img))\n",
    "    return avg"
   ]
  },
  {
   "cell_type": "code",
   "execution_count": 8,
   "metadata": {},
   "outputs": [
    {
     "name": "stderr",
     "output_type": "stream",
     "text": [
      "<ipython-input-7-d325032bd495>:2: RuntimeWarning: Mean of empty slice\n",
      "  b = np.nanmean(np.nanmean(np.where(im!=0,im,np.nan), 0))\n"
     ]
    },
    {
     "data": {
      "text/plain": [
       "Text(0.5, 1.0, 'Average brightness')"
      ]
     },
     "execution_count": 8,
     "metadata": {},
     "output_type": "execute_result"
    },
    {
     "data": {
      "image/png": "[encoded data removed]",
      "text/plain": [
       "<Figure size 432x288 with 1 Axes>"
      ]
     },
     "metadata": {
      "needs_background": "light"
     },
     "output_type": "display_data"
    }
   ],
   "source": [
    "df[\"avg_brightness\"] = avg_brightness(df[\"image_id\"], df[\"mask\"], df[\"obj\"])\n",
    "df.groupby('class')[\"avg_brightness\"].plot.hist(bins=100)\n",
    "plt.legend()\n",
    "plt.title(\"Average brightness\")"
   ]
  },
  {
   "cell_type": "markdown",
   "metadata": {},
   "source": [
    "## Training basic model\n",
    "We've found that the size, and brightness differ between classes. We will use these as features."
   ]
  },
  {
   "cell_type": "code",
   "execution_count": 9,
   "metadata": {},
   "outputs": [],
   "source": [
    "from sklearn.ensemble import RandomForestClassifier\n",
    "from sklearn.datasets import make_classification\n",
    "from sklearn.preprocessing import StandardScaler\n",
    "from sklearn.model_selection import KFold\n",
    "from sklearn.metrics import accuracy_score\n",
    "from sklearn.metrics import confusion_matrix, plot_confusion_matrix\n",
    "import time\n",
    "\n",
    "features = ['size', 'avg_brightness']\n",
    "classes = ['tumor', 'immune cells']\n",
    "df_class = pd.get_dummies(df['class'])\n",
    "df_features = pd.concat([df_class, df[features]], axis=1)\n",
    "\n",
    "np.random.seed(0) # Set random seed for test/train-split\n",
    "msk = np.random.rand(len(df_features)) < 0.8\n",
    "df_test = df_features[~msk]\n",
    "df_train = df_features[msk]\n",
    "\n",
    "X = df_train[features]\n",
    "y = df_train[classes]\n",
    "\n",
    "kf = KFold(n_splits=5,shuffle=True)\n",
    "kf.split(X)\n",
    "\n",
    "t = 1000 * time.time() # current time in milliseconds\n",
    "np.random.seed(int(t) % 2**32)\n",
    "cm_list = []\n",
    "for train_index, val_index in kf.split(X):\n",
    "    x_train, x_val = X.iloc[train_index], X.iloc[val_index]\n",
    "    y_train, y_val = y.iloc[train_index], y.iloc[val_index]\n",
    "    model = RandomForestClassifier(max_depth=2, random_state=0)\n",
    "    model.fit(x_train, y_train)\n",
    "    y_pred = model.predict(x_val).argmax(axis=1)\n",
    "    y_val = y_val.values.argmax(axis=1)\n",
    "    cm_list.append(confusion_matrix(y_val, y_pred, normalize='true'))\n"
   ]
  },
  {
   "cell_type": "markdown",
   "metadata": {},
   "source": [
    "### Evaluation\n",
    "The validation scores seem pretty promesing."
   ]
  },
  {
   "cell_type": "code",
   "execution_count": 10,
   "metadata": {},
   "outputs": [
    {
     "data": {
      "text/plain": [
       "<AxesSubplot:>"
      ]
     },
     "execution_count": 10,
     "metadata": {},
     "output_type": "execute_result"
    },
    {
     "data": {
      "image/png": "[encoded data removed]",
      "text/plain": [
       "<Figure size 360x360 with 2 Axes>"
      ]
     },
     "metadata": {
      "needs_background": "light"
     },
     "output_type": "display_data"
    }
   ],
   "source": [
    "import seaborn as sn\n",
    "df_cm = pd.DataFrame(np.mean(cm_list, axis=0), index = classes)\n",
    "plt.figure(figsize=(5,5))\n",
    "sn.heatmap(df_cm, annot=True)"
   ]
  },
  {
   "cell_type": "markdown",
   "metadata": {},
   "source": [
    "## Classifying masks predicted by U-Net"
   ]
  },
  {
   "cell_type": "code",
   "execution_count": 11,
   "metadata": {},
   "outputs": [],
   "source": [
    "def iou():\n",
    "    pass\n",
    "\n",
    "def _reshape_to_batch(patch):\n",
    "    n = int(np.sqrt(c.BATCH_SIZE))\n",
    "    batch = []\n",
    "    for col in np.array_split(patch,n, axis=0):\n",
    "        for b in np.array_split(col,n, axis=1):\n",
    "            batch.append(b)\n",
    "    return np.asarray(batch)\n",
    "            \n",
    "def _reshape_to_patch(batch):\n",
    "    n = int(np.sqrt(c.BATCH_SIZE))\n",
    "    patch = np.zeros((n * c.HEIGHT, n * c.WIDTH))\n",
    "    i = 0\n",
    "    for y in range(0, n * c.HEIGHT, c.HEIGHT):\n",
    "        for x in range(0, n * c.WIDTH, c.WIDTH):\n",
    "            patch[y:y+c.HEIGHT, x:x+c.WIDTH]  = batch[i,...]\n",
    "            i += 1\n",
    "    return patch"
   ]
  },
  {
   "cell_type": "code",
   "execution_count": 12,
   "metadata": {},
   "outputs": [],
   "source": [
    "from skimage.transform import resize\n",
    "from joblib import Memory\n",
    "\n",
    "memory = Memory('./cache')\n",
    "\n",
    "@memory.cache\n",
    "def make_pred(im_id, model_name):\n",
    "    model = keras.models.load_model(c.MODEL_DIR / f'unet/{model_name}.h5',\n",
    "                    custom_objects={'my_loss' : my_loss, 'iou': iou})\n",
    "    img = Swebcg().load_image(im_id)\n",
    "    scale = 2\n",
    "    img = resize(img, (img.shape[0]*scale, img.shape[1]*scale)) * 255\n",
    "    \n",
    "    b_width = int(np.sqrt(c.BATCH_SIZE))\n",
    "    stride = int(c.HEIGHT/2)\n",
    "    pred = np.zeros(img.shape[0:2])\n",
    "    norm_mat = np.ones_like(pred)\n",
    "    for y in range(0, pred.shape[1], stride):\n",
    "        for x in range(0, pred.shape[0], stride):\n",
    "            img_patch = img[y:y + b_width * c.HEIGHT, x:x + b_width * c.WIDTH]\n",
    "            batch_patch = np.zeros((b_width * c.HEIGHT, b_width * c.HEIGHT, c.CHANNELS))\n",
    "            batch_patch[:img_patch.shape[0], :img_patch.shape[1]] = img_patch\n",
    "            batch = _reshape_to_batch(batch_patch)\n",
    "            pred_batch = model.predict(batch)[...,1]\n",
    "            pred_patch = _reshape_to_patch(pred_batch)\n",
    "            pred[y:y+ b_width * c.HEIGHT, x:x + b_width * c.WIDTH] += pred_patch[:img_patch.shape[0], :img_patch.shape[1]]\n",
    "            norm_mat[y:y + b_width * c.HEIGHT, x:x + b_width * c.WIDTH] += 1\n",
    "    \n",
    "    pred = pred / norm_mat\n",
    "    return resize(pred, (int(img.shape[0]/scale), int(img.shape[1]/scale)))"
   ]
  },
  {
   "cell_type": "code",
   "execution_count": null,
   "metadata": {},
   "outputs": [
    {
     "name": "stderr",
     "output_type": "stream",
     "text": [
      "Postprocessing:   1%|▏         | 1/80 [00:00<00:37,  2.08it/s]"
     ]
    },
    {
     "name": "stdout",
     "output_type": "stream",
     "text": [
      "________________________________________________________________________________\n",
      "[Memory] Calling __main__--tank-data-arvid-SweBCG91RT-Net-notebooks-__ipython-input__.make_pred...\n",
      "make_pred('TNBC_Block_5_F5_HE', 'unet_quip_10000')\n",
      "WARNING:tensorflow:No training configuration found in the save file, so the model was *not* compiled. Compile it manually.\n",
      "______________________________________________________make_pred - 301.9s, 5.0min\n"
     ]
    },
    {
     "name": "stderr",
     "output_type": "stream",
     "text": [
      "Postprocessing:   2%|▎         | 2/80 [05:02<1:58:18, 91.00s/it]"
     ]
    },
    {
     "name": "stdout",
     "output_type": "stream",
     "text": [
      "________________________________________________________________________________\n",
      "[Memory] Calling __main__--tank-data-arvid-SweBCG91RT-Net-notebooks-__ipython-input__.make_pred...\n",
      "make_pred('TNBC_Block_5_G4_HE', 'unet_quip_10000')\n",
      "WARNING:tensorflow:No training configuration found in the save file, so the model was *not* compiled. Compile it manually.\n"
     ]
    }
   ],
   "source": [
    "from scipy.ndimage import find_objects\n",
    "from skimage import measure\n",
    "from skimage import segmentation\n",
    "from skimage import morphology\n",
    "\n",
    "# TODO\n",
    "#labels = segmentation.random_walker(mask, pred[~mask])\n",
    "\n",
    "def post_processing(prediction, p = [0.4, 5, 15]):\n",
    "    prediction = (prediction > p[0])\n",
    "    prediction = morphology.remove_small_holes(prediction, area_threshold=p[1])\n",
    "    prediction = morphology.remove_small_objects(prediction, min_size=p[2])\n",
    "    prediction = morphology.dilation(prediction, morphology.square(3))\n",
    "    return prediction\n",
    "\n",
    "def get_objects(mask):\n",
    "    all_labels = measure.label(mask, background=0)\n",
    "    return find_objects(all_labels)\n",
    "\n",
    "masks = {}\n",
    "for im_id in tqdm(df[\"image_id\"].unique(), desc=\"Postprocessing\"):\n",
    "    masks[im_id] = post_processing(make_pred(im_id, 'unet_quip_10000'))"
   ]
  },
  {
   "cell_type": "code",
   "execution_count": null,
   "metadata": {},
   "outputs": [],
   "source": [
    "plt.figure(figsize=(20,20))\n",
    "plt.imshow(list(masks.values())[0])"
   ]
  },
  {
   "cell_type": "code",
   "execution_count": null,
   "metadata": {},
   "outputs": [],
   "source": [
    "df = df[df[\"image_id\"].isin(masks.keys())]\n",
    "df[\"unet_mask\"] = df.apply(lambda x: masks[x.image_id][x.obj], axis=1)\n",
    "df[\"unet_avg_brightness\"] = avg_brightness(df[\"image_id\"], df[\"unet_mask\"], df[\"obj\"])\n",
    "df[\"unet_size\"] = df[\"unet_mask\"].apply(np.sum)"
   ]
  },
  {
   "cell_type": "code",
   "execution_count": null,
   "metadata": {},
   "outputs": [],
   "source": [
    "plt.figure(figsize=(8,8))\n",
    "plt.subplot(221)\n",
    "df.groupby(\"class\")[\"size\"].plot.hist(bins=50)\n",
    "plt.title(\"Size\")\n",
    "plt.legend()\n",
    "plt.subplot(222)\n",
    "df.groupby(\"class\")[\"unet_size\"].plot.hist(bins=50, alpha=0.8)\n",
    "plt.title(\"U-Net Size\")\n",
    "plt.legend()\n",
    "plt.subplot(223)\n",
    "df.groupby(\"class\")[\"avg_brightness\"].plot.hist(bins=50)\n",
    "plt.title(\"Brightness\")\n",
    "plt.legend()\n",
    "plt.subplot(224)\n",
    "df.groupby(\"class\")[\"unet_avg_brightness\"].plot.hist(bins=50, alpha=0.8)\n",
    "plt.title(\"U-Net brightness\")\n",
    "plt.legend()"
   ]
  },
  {
   "cell_type": "code",
   "execution_count": null,
   "metadata": {},
   "outputs": [],
   "source": [
    "plt.figure()\n",
    "swebcg = Swebcg()\n",
    "for idx, row in df[df[\"class\"] == \"tumor\"].sample(4, axis=0).iterrows():\n",
    "    plt.figure()\n",
    "    plt.subplot(131)\n",
    "    plt.imshow(swebcg.load_image(row[\"image_id\"])[row[\"obj\"]])\n",
    "    plt.subplot(132)\n",
    "    plt.imshow(row[\"mask\"])\n",
    "    plt.subplot(133)\n",
    "    plt.imshow(row[\"unet_mask\"])"
   ]
  },
  {
   "cell_type": "code",
   "execution_count": null,
   "metadata": {},
   "outputs": [],
   "source": [
    "# Most missing cells are tumor cells\n",
    "print((df[df[\"unet_size\"] == 0][\"class\"].value_counts()))"
   ]
  },
  {
   "cell_type": "code",
   "execution_count": null,
   "metadata": {},
   "outputs": [],
   "source": [
    "# Droping missing cells\n",
    "df = df[df[\"unet_size\"] > 0] \n",
    "df[\"pred_class\"] = model.predict(df[[\"unet_size\", \"unet_avg_brightness\"]].iloc[:]).argmax(axis=1)\n",
    "df[\"pred_class\"] = df[\"pred_class\"].apply(lambda x: classes[x])\n",
    "\n",
    "cm = confusion_matrix(df[\"class\"], df[\"pred_class\"], normalize='true')\n",
    "df_cm_unet = pd.DataFrame(cm, index = classes)\n",
    "plt.figure(figsize=(5,5))\n",
    "\n",
    "# Of none-missing cells most are correclty classified\n",
    "sn.heatmap(df_cm_unet, annot=True)"
   ]
  },
  {
   "cell_type": "code",
   "execution_count": null,
   "metadata": {},
   "outputs": [],
   "source": [
    "# Predicting all cells\n",
    "d = []\n",
    "for key, mask in tqdm(masks.items()):\n",
    "    for obj in get_objects(mask):\n",
    "        d.append({\"image_id\" : key,\n",
    "                  \"obj\" : obj})\n",
    "        \n",
    "df_pred = pd.DataFrame(d)\n",
    "df_pred[\"mask\"] = df_pred.apply(lambda x: masks[x.image_id][x.obj], axis=1)\n",
    "df_pred[\"avg_brightness\"] = avg_brightness(df_pred[\"image_id\"], df_pred[\"mask\"], df_pred[\"obj\"])\n",
    "df_pred[\"size\"] = df_pred[\"mask\"].apply(np.sum)\n",
    "df_pred[\"class\"] = model.predict(df_pred[features].iloc[:]).argmax(axis=1)\n",
    "df_pred[\"class_name\"] = df_pred[\"class\"].apply(lambda x: classes[x])"
   ]
  },
  {
   "cell_type": "code",
   "execution_count": null,
   "metadata": {},
   "outputs": [],
   "source": [
    "imid = Swebcg().ids[2]\n",
    "img = Swebcg().load_image(imid)\n",
    "pred = np.zeros((img.shape[0], img.shape[1]))\n",
    "print(df_pred[df_pred[\"image_id\"] == imid][\"class_name\"].value_counts())\n",
    "for _, row in df_pred[df_pred[\"image_id\"] == imid].iterrows():\n",
    "    pred[row[\"obj\"]] = (1 + row[\"class\"]) * row[\"mask\"]\n",
    "\n",
    "plt.figure(figsize=(30,30))\n",
    "plt.imshow(pred)\n",
    "plt.imshow(img, alpha=0.5)\n",
    "plt.figure(make_pred(imid, 'unet_monuseg_400'))"
   ]
  },
  {
   "cell_type": "code",
   "execution_count": null,
   "metadata": {},
   "outputs": [],
   "source": [
    "df_pred[\"size\"]"
   ]
  },
  {
   "cell_type": "code",
   "execution_count": null,
   "metadata": {},
   "outputs": [],
   "source": []
  }
 ],
 "metadata": {
  "kernelspec": {
   "display_name": "SweBCG91RT-Net",
   "language": "python",
   "name": "swebcg91rt-net"
  },
  "language_info": {
   "codemirror_mode": {
    "name": "ipython",
    "version": 3
   },
   "file_extension": ".py",
   "mimetype": "text/x-python",
   "name": "python",
   "nbconvert_exporter": "python",
   "pygments_lexer": "ipython3",
   "version": "3.8.5"
  }
 },
 "nbformat": 4,
 "nbformat_minor": 4
}
