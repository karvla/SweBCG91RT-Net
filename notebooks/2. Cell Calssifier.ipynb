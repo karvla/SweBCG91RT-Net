{
 "cells": [
  {
   "cell_type": "markdown",
   "metadata": {},
   "source": [
    "# 2. Cell Classifier\n",
    "This note book is for classifying cells in the first BMC data set, annotated by Felicia."
   ]
  },
  {
   "cell_type": "code",
   "execution_count": 1,
   "metadata": {},
   "outputs": [],
   "source": [
    "import os\n",
    "from pathlib import Path\n",
    "import random\n",
    "import numpy as np\n",
    "\n",
    "import tensorflow as tf\n",
    "gpu = tf.config.experimental.list_physical_devices('GPU')[0]\n",
    "tf.config.experimental.set_memory_growth(gpu, True)\n",
    "\n",
    "import keras\n",
    "from keras.utils import Sequence\n",
    "from keras.models import Model, load_model\n",
    "from keras.layers import Input, multiply\n",
    "from keras.layers.core import Dropout, Lambda\n",
    "from keras.layers.convolutional import Conv2D, Conv2DTranspose\n",
    "from keras.layers.pooling import MaxPooling2D\n",
    "from keras.layers.merge import concatenate\n",
    "from keras.callbacks import EarlyStopping, ModelCheckpoint\n",
    "from weighted_loss_unet import make_weighted_loss_unet, my_loss\n",
    "\n",
    "from PIL import Image, ImageDraw\n",
    "import matplotlib.pyplot as plt\n",
    "from skimage.io import imread, imshow\n",
    "import json\n",
    "import pandas as pd\n",
    "\n",
    "import utils\n",
    "from weighted_loss_unet import make_weighted_loss_unet, my_loss\n",
    "import config\n",
    "c = config.Config()"
   ]
  },
  {
   "cell_type": "markdown",
   "metadata": {},
   "source": [
    "## Investigating data"
   ]
  },
  {
   "cell_type": "code",
   "execution_count": 2,
   "metadata": {},
   "outputs": [
    {
     "data": {
      "text/plain": [
       "0       TNBC_Block_5_E6_HE\n",
       "1       TNBC_Block_5_E6_HE\n",
       "2       TNBC_Block_5_E6_HE\n",
       "3       TNBC_Block_5_E6_HE\n",
       "4       TNBC_Block_5_E6_HE\n",
       "               ...        \n",
       "1703    TNBC_Block_5_D8_HE\n",
       "1704    TNBC_Block_5_D8_HE\n",
       "1705    TNBC_Block_5_D8_HE\n",
       "1706    TNBC_Block_5_D8_HE\n",
       "1707    TNBC_Block_5_D8_HE\n",
       "Name: image_id, Length: 1708, dtype: object"
      ]
     },
     "execution_count": 2,
     "metadata": {},
     "output_type": "execute_result"
    }
   ],
   "source": [
    "from dataset import Swebcg\n",
    "df = Swebcg().get_dataframe()\n",
    "df['class'].value_counts()\n",
    "df['image_id']"
   ]
  },
  {
   "cell_type": "code",
   "execution_count": 3,
   "metadata": {},
   "outputs": [],
   "source": [
    "# Dropping necrosis and rbc\n",
    "df = df[df['class'] != 'rbc']\n",
    "df = df[df['class'] != 'necrosis']"
   ]
  },
  {
   "cell_type": "code",
   "execution_count": 4,
   "metadata": {},
   "outputs": [],
   "source": [
    "WIDTH = 256\n",
    "HEIGHT = 256\n",
    "SHAPE = (WIDTH, HEIGHT)\n",
    "\n",
    "def normalize_vertices(vertices):\n",
    "    (x_min,y_min), (_, _) = utils.bounding_box(vertices)\n",
    "    return [(x - x_min, y - y_min) for x, y in vertices]\n",
    "\n",
    "def generate_mask(vertices):\n",
    "    img = Image.new(\"L\", (3000, 3000), 0)\n",
    "    ImageDraw.Draw(img).polygon(vertices, outline=1, fill=1)\n",
    "    (left, upper), (right, lower) = utils.bounding_box(vertices)\n",
    "    img = img.crop((left, upper, right+1, lower+1))\n",
    "    return np.asarray(img)\n",
    "\n",
    "df['vertices normalized'] = df['vertices'].apply(normalize_vertices)\n",
    "df['mask'] = df['vertices'].apply(generate_mask)\n",
    "df['size'] = df['mask'].apply(np.sum)\n",
    "df = df[df['size'] != 0]"
   ]
  },
  {
   "cell_type": "code",
   "execution_count": 5,
   "metadata": {},
   "outputs": [
    {
     "data": {
      "text/plain": [
       "Text(0.5, 1.0, 'Major and minor axis ratio')"
      ]
     },
     "execution_count": 5,
     "metadata": {},
     "output_type": "execute_result"
    },
    {
     "data": {
      "image/png": "[encoded data removed]",
      "text/plain": [
       "<Figure size 432x288 with 1 Axes>"
      ]
     },
     "metadata": {
      "needs_background": "light"
     },
     "output_type": "display_data"
    }
   ],
   "source": [
    "# Exploring major and minor axis\n",
    "# https://alyssaq.github.io/2015/computing-the-axes-or-orientation-of-a-blob/\n",
    "\n",
    "def major_minor_axis(mask):\n",
    "    y, x = np.nonzero(mask)\n",
    "    x = x - np.mean(x)\n",
    "    y = y - np.mean(y)\n",
    "    coords = np.vstack([x, y])\n",
    "    cov = np.cov(coords)\n",
    "    evals, evecs = np.linalg.eig(cov)\n",
    "    v2, v1 = np.sort(evals)\n",
    "    return v1, v2\n",
    "\n",
    "df['major axis'] = df['mask'].apply(lambda x: major_minor_axis(x)[0])\n",
    "df['minor axis'] = df['mask'].apply(lambda x: major_minor_axis(x)[1])\n",
    "df['axis ratio'] = df['minor axis'] / df['major axis']\n",
    "df.groupby('class')['axis ratio'].plot.hist(bins = 100)\n",
    "plt.legend()\n",
    "plt.title('Major and minor axis ratio')"
   ]
  },
  {
   "cell_type": "code",
   "execution_count": 6,
   "metadata": {},
   "outputs": [
    {
     "name": "stdout",
     "output_type": "stream",
     "text": [
      "Max size: 39643\n",
      "Min size: 29\n"
     ]
    },
    {
     "data": {
      "text/plain": [
       "Text(0.5, 1.0, 'Sizes in pixels')"
      ]
     },
     "execution_count": 6,
     "metadata": {},
     "output_type": "execute_result"
    },
    {
     "data": {
      "image/png": "[encoded data removed]",
      "text/plain": [
       "<Figure size 432x288 with 1 Axes>"
      ]
     },
     "metadata": {
      "needs_background": "light"
     },
     "output_type": "display_data"
    },
    {
     "data": {
      "image/png": "[encoded data removed]",
      "text/plain": [
       "<Figure size 432x288 with 1 Axes>"
      ]
     },
     "metadata": {
      "needs_background": "light"
     },
     "output_type": "display_data"
    }
   ],
   "source": [
    "# Size Size varies between classes\n",
    "print('Max size:', df['size'].max())\n",
    "print('Min size:', df['size'].min())\n",
    "plt.figure()\n",
    "df.groupby('class')['size'].plot.hist(bins = 100)\n",
    "plt.legend()\n",
    "plt.figure()\n",
    "df.groupby('class')['size'].plot.hist(bins = 100, xlim=(0, 800))\n",
    "plt.legend()\n",
    "plt.title('Sizes in pixels')"
   ]
  },
  {
   "cell_type": "markdown",
   "metadata": {},
   "source": [
    "## Training basic model\n",
    "We've found that the axis ratio and size seem to differ. We will use these as features."
   ]
  },
  {
   "cell_type": "code",
   "execution_count": 7,
   "metadata": {},
   "outputs": [],
   "source": [
    "from sklearn.ensemble import RandomForestClassifier\n",
    "from sklearn.datasets import make_classification\n",
    "from sklearn.preprocessing import StandardScaler\n",
    "from sklearn.model_selection import KFold\n",
    "from sklearn.metrics import accuracy_score\n",
    "from sklearn.metrics import confusion_matrix, plot_confusion_matrix\n",
    "import time\n",
    "\n",
    "features = ['size', 'major axis', 'minor axis']\n",
    "classes = ['tumor', 'stroma', 'immune cells']\n",
    "df_class = pd.get_dummies(df['class'])\n",
    "df_features = pd.concat([df_class, df[features]], axis=1)\n",
    "\n",
    "np.random.seed(0) # Set random seed for test/train-split\n",
    "msk = np.random.rand(len(df_features)) < 0.8\n",
    "df_test = df_features[~msk]\n",
    "df_train = df_features[msk]\n",
    "\n",
    "X = df_train[features]\n",
    "y = df_train[classes]\n",
    "\n",
    "kf = KFold(n_splits=5,shuffle=True)\n",
    "kf.split(X)\n",
    "\n",
    "t = 1000 * time.time() # current time in milliseconds\n",
    "np.random.seed(int(t) % 2**32)\n",
    "cm_list = []\n",
    "for train_index, val_index in kf.split(X):\n",
    "    x_train, x_val = X.iloc[train_index], X.iloc[val_index]\n",
    "    y_train, y_val = y.iloc[train_index], y.iloc[val_index]\n",
    "    model = RandomForestClassifier(max_depth=2, random_state=0)\n",
    "    model.fit(x_train, y_train)\n",
    "    \n",
    "    y_pred = model.predict(x_val).argmax(axis=1)\n",
    "    y_val = y_val.values.argmax(axis=1)\n",
    "    cm_list.append(confusion_matrix(y_val, y_pred, normalize='true'))\n"
   ]
  },
  {
   "cell_type": "markdown",
   "metadata": {},
   "source": [
    "### Evaluation\n",
    "The validation scores seem pretty promesing."
   ]
  },
  {
   "cell_type": "code",
   "execution_count": 8,
   "metadata": {},
   "outputs": [
    {
     "data": {
      "text/plain": [
       "<AxesSubplot:>"
      ]
     },
     "execution_count": 8,
     "metadata": {},
     "output_type": "execute_result"
    },
    {
     "data": {
      "image/png": "[encoded data removed]",
      "text/plain": [
       "<Figure size 360x360 with 2 Axes>"
      ]
     },
     "metadata": {
      "needs_background": "light"
     },
     "output_type": "display_data"
    }
   ],
   "source": [
    "import seaborn as sn\n",
    "df_cm = pd.DataFrame(np.mean(cm_list, axis=0), index = classes)\n",
    "plt.figure(figsize=(5,5))\n",
    "sn.heatmap(df_cm, annot=True)"
   ]
  },
  {
   "cell_type": "markdown",
   "metadata": {},
   "source": [
    "## Classifying masks predicted by U-Net"
   ]
  },
  {
   "cell_type": "code",
   "execution_count": 9,
   "metadata": {},
   "outputs": [
    {
     "name": "stdout",
     "output_type": "stream",
     "text": [
      "Loading existing model...WARNING:tensorflow:No training configuration found in the save file, so the model was *not* compiled. Compile it manually.\n",
      "Done!\n"
     ]
    }
   ],
   "source": [
    "def iou():\n",
    "    pass\n",
    "\n",
    "name = 'unet_monuseg_400'\n",
    "model_dir = '../models/unet/'\n",
    "print(\"Loading existing model...\", end='')\n",
    "model_unet = keras.models.load_model(f'{model_dir}/{name}.h5',\n",
    "                    custom_objects={'my_loss' : my_loss, 'iou': iou})\n",
    "print(\"Done!\")"
   ]
  },
  {
   "cell_type": "code",
   "execution_count": 10,
   "metadata": {},
   "outputs": [],
   "source": [
    "from tqdm import tqdm\n",
    "\n",
    "def _reshape_to_batch(patch):\n",
    "    n = int(np.sqrt(c.BATCH_SIZE))\n",
    "    batch = []\n",
    "    for col in np.array_split(patch,n, axis=0):\n",
    "        for b in np.array_split(col,n, axis=1):\n",
    "            batch.append(b)\n",
    "    return np.asarray(batch)\n",
    "            \n",
    "def _reshape_to_patch(batch):\n",
    "    n = int(np.sqrt(c.BATCH_SIZE))\n",
    "    patch = np.zeros((n * c.HEIGHT, n * c.WIDTH))\n",
    "    i = 0\n",
    "    for y in range(0, n * c.HEIGHT, c.HEIGHT):\n",
    "        for x in range(0, n * c.WIDTH, c.WIDTH):\n",
    "            patch[y:y+c.HEIGHT, x:x+c.WIDTH]  = batch[i,...]\n",
    "            i += 1\n",
    "    return patch\n"
   ]
  },
  {
   "cell_type": "code",
   "execution_count": null,
   "metadata": {},
   "outputs": [
    {
     "name": "stdout",
     "output_type": "stream",
     "text": [
      "________________________________________________________________________________\n",
      "[Memory] Calling __main__--tank-data-arvid-SweBCG91RT-Net-notebooks-__ipython-input__.make_pred...\n",
      "make_pred('TNBC_Block_5_E6_HE', 'unet_monuseg_400')\n",
      "WARNING:tensorflow:No training configuration found in the save file, so the model was *not* compiled. Compile it manually.\n"
     ]
    },
    {
     "name": "stderr",
     "output_type": "stream",
     "text": [
      "100%|██████████| 51/51 [04:38<00:00,  5.46s/it]\n"
     ]
    },
    {
     "name": "stdout",
     "output_type": "stream",
     "text": [
      "______________________________________________________make_pred - 286.3s, 4.8min\n",
      "________________________________________________________________________________\n",
      "[Memory] Calling __main__--tank-data-arvid-SweBCG91RT-Net-notebooks-__ipython-input__.make_pred...\n",
      "make_pred('TNBC_Block_5_F5_HE', 'unet_monuseg_400')\n",
      "WARNING:tensorflow:No training configuration found in the save file, so the model was *not* compiled. Compile it manually.\n"
     ]
    },
    {
     "name": "stderr",
     "output_type": "stream",
     "text": [
      "100%|██████████| 51/51 [04:23<00:00,  5.17s/it]\n"
     ]
    },
    {
     "name": "stdout",
     "output_type": "stream",
     "text": [
      "______________________________________________________make_pred - 271.4s, 4.5min\n",
      "________________________________________________________________________________\n",
      "[Memory] Calling __main__--tank-data-arvid-SweBCG91RT-Net-notebooks-__ipython-input__.make_pred...\n",
      "make_pred('TNBC_Block_5_G4_HE', 'unet_monuseg_400')\n",
      "WARNING:tensorflow:No training configuration found in the save file, so the model was *not* compiled. Compile it manually.\n"
     ]
    },
    {
     "name": "stderr",
     "output_type": "stream",
     "text": [
      "100%|██████████| 51/51 [04:24<00:00,  5.18s/it]\n"
     ]
    },
    {
     "name": "stdout",
     "output_type": "stream",
     "text": [
      "______________________________________________________make_pred - 272.4s, 4.5min\n",
      "________________________________________________________________________________\n",
      "[Memory] Calling __main__--tank-data-arvid-SweBCG91RT-Net-notebooks-__ipython-input__.make_pred...\n",
      "make_pred('TNBC_Block_5_G5_HE', 'unet_monuseg_400')\n",
      "WARNING:tensorflow:No training configuration found in the save file, so the model was *not* compiled. Compile it manually.\n"
     ]
    },
    {
     "name": "stderr",
     "output_type": "stream",
     "text": [
      "100%|██████████| 51/51 [04:25<00:00,  5.20s/it]\n"
     ]
    },
    {
     "name": "stdout",
     "output_type": "stream",
     "text": [
      "______________________________________________________make_pred - 273.5s, 4.6min\n",
      "________________________________________________________________________________\n",
      "[Memory] Calling __main__--tank-data-arvid-SweBCG91RT-Net-notebooks-__ipython-input__.make_pred...\n",
      "make_pred('TNBC_Block_5_H2_HE', 'unet_monuseg_400')\n",
      "WARNING:tensorflow:No training configuration found in the save file, so the model was *not* compiled. Compile it manually.\n"
     ]
    },
    {
     "name": "stderr",
     "output_type": "stream",
     "text": [
      "100%|██████████| 51/51 [04:24<00:00,  5.18s/it]\n"
     ]
    },
    {
     "name": "stdout",
     "output_type": "stream",
     "text": [
      "______________________________________________________make_pred - 272.5s, 4.5min\n",
      "________________________________________________________________________________\n",
      "[Memory] Calling __main__--tank-data-arvid-SweBCG91RT-Net-notebooks-__ipython-input__.make_pred...\n",
      "make_pred('TNBC_Block_5_H8_HE', 'unet_monuseg_400')\n",
      "WARNING:tensorflow:No training configuration found in the save file, so the model was *not* compiled. Compile it manually.\n"
     ]
    },
    {
     "name": "stderr",
     "output_type": "stream",
     "text": [
      " 12%|█▏        | 6/51 [00:32<04:03,  5.41s/it]"
     ]
    }
   ],
   "source": [
    "from skimage.transform import resize\n",
    "from joblib import Memory\n",
    "\n",
    "memory = Memory('./cache')\n",
    "\n",
    "@memory.cache\n",
    "def make_pred(im_id, model_name):\n",
    "    model = keras.models.load_model(f'{model_dir}/{model_name}.h5',\n",
    "                    custom_objects={'my_loss' : my_loss, 'iou': iou})\n",
    "    img = Swebcg().load_image(im_id)\n",
    "    scale = 2\n",
    "    img = resize(img, (img.shape[0]*scale, img.shape[1]*scale)) * 255\n",
    "    \n",
    "    b_width = int(np.sqrt(c.BATCH_SIZE))\n",
    "    stride = int(c.HEIGHT/2)\n",
    "    pred = np.zeros(img.shape[0:2])\n",
    "    norm_mat = np.ones_like(pred)\n",
    "    for y in tqdm(range(0, pred.shape[1], stride)):\n",
    "        for x in range(0, pred.shape[0], stride):\n",
    "            img_patch = img[y:y + b_width * c.HEIGHT, x:x + b_width * c.WIDTH]\n",
    "            batch_patch = np.zeros((b_width * c.HEIGHT, b_width * c.HEIGHT, c.CHANNELS))\n",
    "            batch_patch[:img_patch.shape[0], :img_patch.shape[1]] = img_patch\n",
    "            batch = _reshape_to_batch(batch_patch)\n",
    "            pred_batch = model.predict(batch)[...,1]\n",
    "            pred_patch = _reshape_to_patch(pred_batch)\n",
    "            pred[y:y+ b_width * c.HEIGHT, x:x + b_width * c.WIDTH] += pred_patch[:img_patch.shape[0], :img_patch.shape[1]]\n",
    "            norm_mat[y:y + b_width * c.HEIGHT, x:x + b_width * c.WIDTH] += 1\n",
    "    \n",
    "    pred = pred / norm_mat\n",
    "    return resize(pred, (int(img.shape[0]/scale), int(img.shape[1]/scale)))\n",
    "\n",
    "predictions = {}\n",
    "for im_id in df[\"image_id\"].unique():\n",
    "    predictions[im_id] = make_pred(im_id, 'unet_monuseg_400')"
   ]
  },
  {
   "cell_type": "code",
   "execution_count": null,
   "metadata": {},
   "outputs": [],
   "source": [
    "plt.figure(figsize=(20,20))\n",
    "plt.imshow(pred)\n",
    "plt.colorbar()"
   ]
  },
  {
   "cell_type": "code",
   "execution_count": null,
   "metadata": {
    "collapsed": true,
    "jupyter": {
     "outputs_hidden": true
    }
   },
   "outputs": [],
   "source": [
    "\n",
    "\n"
   ]
  },
  {
   "cell_type": "code",
   "execution_count": null,
   "metadata": {},
   "outputs": [],
   "source": [
    "from scipy.ndimage import find_objects\n",
    "from skimage import measure\n",
    "from skimage import segmentation\n",
    "from skimage import morphology\n",
    "\n",
    "# TODO\n",
    "#labels = segmentation.random_walker(mask, pred[~mask])\n",
    "\n",
    "def post_processing(prediction, p = [0.4, 30, 30]):\n",
    "    prediction = (prediction > p[0])\n",
    "    prediction = morphology.remove_small_holes(prediction, area_threshold=p[1])\n",
    "    prediction = morphology.remove_small_objects(prediction, min_size=p[2])\n",
    "    prediction = morphology.dilation(prediction, morphology.square(2))\n",
    "    return prediction\n",
    "\n",
    "def get_objects(mask):\n",
    "    all_labels = measure.label(mask, background=0)\n",
    "    return find_objects(all_labels)\n",
    "\n",
    "for obj in random.choices(get_objects(mask), k=1):\n",
    "    plt.figure()\n",
    "    plt.subplot(131)\n",
    "    plt.imshow(img[obj])\n",
    "    plt.subplot(132)\n",
    "    plt.imshow(pred[obj])\n",
    "    plt.subplot(132)\n",
    "    plt.imshow(mask[obj])\n",
    "    \n",
    "df_pred = pd.DataFrame([{\"mask\" : np.array(mask[obj], dtype=np.int),\n",
    "                        \"obj\" : obj} for obj in get_objects(mask)])"
   ]
  },
  {
   "cell_type": "code",
   "execution_count": null,
   "metadata": {},
   "outputs": [],
   "source": []
  },
  {
   "cell_type": "code",
   "execution_count": null,
   "metadata": {},
   "outputs": [],
   "source": [
    "df_pred['size'] = df_pred['mask'].apply(np.sum)\n",
    "df_pred['major axis'] = df_pred['mask'].apply(lambda x: major_minor_axis(x)[0])\n",
    "df_pred['minor axis'] = df_pred['mask'].apply(lambda x: major_minor_axis(x)[1])\n",
    "df_pred['axis ratio'] = df_pred['minor axis'] / df_pred['major axis']\n",
    "\n",
    "X = df_pred[features]\n",
    "\n",
    "def one_hot_to_class(arr):\n",
    "    try:\n",
    "        return classes[np.where(arr == 1)[0][0]]\n",
    "    except:\n",
    "        return \"none\"\n",
    "\n",
    "def class_to_one_hot(cell_type):\n",
    "    oh = np.array([0,0,0])\n",
    "    oh[classes.index(cell_type)] = 1\n",
    "    return oh\n",
    "    \n",
    "df_pred[\"class\"] = [one_hot_to_class(k) for k in model.predict(X.iloc[:])]\n",
    "df_pred[\"class\"].value_counts()"
   ]
  },
  {
   "cell_type": "code",
   "execution_count": null,
   "metadata": {},
   "outputs": [],
   "source": [
    "def _bbox_to_slice(bbox):\n",
    "    return (slice(int(bbox[0][1]), int(bbox[1][1]), None), \n",
    "            slice(int(bbox[0][0]), int(bbox[1][0]), None))\n",
    "\n",
    "# Dropping all data not from img\n",
    "df = df[df[\"image_id\"] == Swebcg().ids[0]]\n",
    "df[\"obj\"] = df[\"vertices\"].apply(lambda x: _bbox_to_slice(utils.bounding_box(x)))\n",
    "\n",
    "cm_list_unet = []\n",
    "for cell_type, box in df[[\"class\", \"obj\"]].iloc:\n",
    "    m = mask[box]\n",
    "    pred = model.predict([[np.sum(mask), *major_minor_axis(mask)]])\n",
    "    cm_list_unet.append((cell_type, one_hot_to_class(pred[0])))\n",
    "    \n",
    "cm = confusion_matrix(*zip(*cm_list_unet), normalize='true')\n",
    "df_cm_unet = pd.DataFrame(cm, index = classes)\n",
    "plt.figure(figsize=(5,5))\n",
    "sn.heatmap(df_cm_unet, annot=True)"
   ]
  },
  {
   "cell_type": "code",
   "execution_count": null,
   "metadata": {},
   "outputs": [],
   "source": []
  },
  {
   "cell_type": "code",
   "execution_count": null,
   "metadata": {},
   "outputs": [],
   "source": [
    "2 * (1, 2)"
   ]
  }
 ],
 "metadata": {
  "kernelspec": {
   "display_name": "SweBCG91RT-Net",
   "language": "python",
   "name": "swebcg91rt-net"
  },
  "language_info": {
   "codemirror_mode": {
    "name": "ipython",
    "version": 3
   },
   "file_extension": ".py",
   "mimetype": "text/x-python",
   "name": "python",
   "nbconvert_exporter": "python",
   "pygments_lexer": "ipython3",
   "version": "3.8.5"
  }
 },
 "nbformat": 4,
 "nbformat_minor": 4
}
