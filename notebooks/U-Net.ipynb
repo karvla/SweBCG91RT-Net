{
 "cells": [
  {
   "cell_type": "markdown",
   "metadata": {},
   "source": [
    "# U-Net trained on the MoNuSeg data set"
   ]
  },
  {
   "cell_type": "code",
   "execution_count": 1,
   "metadata": {
    "lines_to_end_of_cell_marker": 2
   },
   "outputs": [],
   "source": [
    "import random\n",
    "import json\n",
    "from itertools import cycle\n",
    "import xml.etree.ElementTree as ET\n",
    "import os\n",
    "\n",
    "import pandas as pd\n",
    "import numpy as np\n",
    "import matplotlib.pyplot as plt\n",
    "from pathlib import Path\n",
    "\n",
    "from PIL import Image\n",
    "from PIL import Image, ImageDraw\n",
    "from skimage.draw import polygon\n",
    "from skimage.io import imread, imshow\n",
    "from skimage.transform import resize\n",
    "import imgaug.augmenters as iaa\n",
    "from imgaug.augmentables.segmaps import SegmentationMapsOnImage\n",
    "from keras.utils import Sequence\n",
    "from keras.models import Model, load_model\n",
    "from keras.layers import Input, multiply\n",
    "from keras.layers.core import Dropout, Lambda\n",
    "from keras.layers.convolutional import Conv2D, Conv2DTranspose\n",
    "from keras.layers.pooling import MaxPooling2D\n",
    "from keras.layers.merge import concatenate\n",
    "from keras.callbacks import EarlyStopping, ModelCheckpoint\n",
    "from keras import backend as K\n",
    "import pandas as pd\n",
    "import tensorflow as tf\n",
    "import wandb\n",
    "#from wandb.keras import WandbCallback\n",
    "\n",
    "import utils\n",
    "import monuseg_utils\n",
    "\n",
    "from augmented_sequence import AugmentedSequence"
   ]
  },
  {
   "cell_type": "code",
   "execution_count": 2,
   "metadata": {},
   "outputs": [],
   "source": [
    "monuseg_patinfo = pd.read_csv(Path(os.getcwd()) / 'patient_information.csv')"
   ]
  },
  {
   "cell_type": "code",
   "execution_count": 3,
   "metadata": {},
   "outputs": [],
   "source": [
    "IMG_WIDTH = 256\n",
    "IMG_HEIGHT = 256\n",
    "IMG_CHANNELS = 3\n",
    "BATCH_SIZE = 5\n",
    "\n",
    "monuseg_train_ids = monuseg_patinfo[monuseg_patinfo['training'] == 'yes']['patient_id']\n",
    "monuseg_test_ids = monuseg_patinfo[monuseg_patinfo['training'] == 'no']['patient_id']\n",
    "\n",
    "# Perform train, validation split\n",
    "monuseg_train_ids, monuseg_val_ids = utils.val_split(monuseg_train_ids)"
   ]
  },
  {
   "cell_type": "code",
   "execution_count": 4,
   "metadata": {},
   "outputs": [
    {
     "name": "stderr",
     "output_type": "stream",
     "text": [
      "/home/arvid/.conda/envs/SweBCG91RT-Net/lib/python3.8/site-packages/imgaug/augmentables/heatmaps.py:71: UserWarning: Value range of heatmap was chosen to be (0.00000000, 1.00000000), but found actual min/max of (0.00000000, 9.23116302). Array will be clipped to chosen value range.\n",
      "  ia.warn(\n"
     ]
    }
   ],
   "source": [
    "seq = iaa.Sequential([\n",
    "    iaa.CropToFixedSize(width=round(IMG_WIDTH*1.5), height=round(IMG_HEIGHT*1.5)),\n",
    "    iaa.flip.Flipud(p=0.5),\n",
    "    iaa.flip.Fliplr(p=0.5),\n",
    "    iaa.Affine(rotate=(-45,45)),\n",
    "    iaa.CropToFixedSize(width=IMG_WIDTH, height=IMG_HEIGHT, position=\"center\"),\n",
    "    iaa.Sometimes(0.2, iaa.SigmoidContrast(gain=(3, 10), cutoff=(0.4, 0.6))),\n",
    "    iaa.Sometimes(0.2, iaa.GaussianBlur(sigma=(0.0, 3.0)))\n",
    "    #iaa.Sometimes(0.2, iaa.EdgeDetect((0,0.5)))\n",
    "])\n",
    "\n",
    "val_sequential = iaa.Sequential([\n",
    "    iaa.CropToFixedSize(width=round(IMG_WIDTH*1.5), height=round(IMG_HEIGHT*1.5)),\n",
    "    iaa.flip.Flipud(p=0.5),\n",
    "    iaa.flip.Fliplr(p=0.5),\n",
    "    iaa.Affine(rotate=(-45,45)),\n",
    "    iaa.CropToFixedSize(width=IMG_WIDTH, height=IMG_HEIGHT, position=\"center\"),\n",
    "])\n",
    "\n",
    "train_seq = AugmentedSequence(monuseg_train_ids, BATCH_SIZE, seq, IMG_WIDTH, IMG_HEIGHT)\n",
    "val_seq = AugmentedSequence(monuseg_val_ids, BATCH_SIZE, val_sequential, IMG_WIDTH, IMG_HEIGHT)"
   ]
  },
  {
   "cell_type": "markdown",
   "metadata": {},
   "source": [
    "## Train U-Net\n",
    "The U-Net, along with the weight map loss function, was implemented by [jaidevd](https://jaidevd.github.io/posts/weighted-loss-functions-for-instance-segmentation/)."
   ]
  },
  {
   "cell_type": "code",
   "execution_count": null,
   "metadata": {
    "lines_to_next_cell": 0
   },
   "outputs": [
    {
     "name": "stdout",
     "output_type": "stream",
     "text": [
      "WARNING:tensorflow:From /home/arvid/.conda/envs/SweBCG91RT-Net/lib/python3.8/site-packages/tensorflow/python/ops/resource_variable_ops.py:1659: calling BaseResourceVariable.__init__ (from tensorflow.python.ops.resource_variable_ops) with constraint is deprecated and will be removed in a future version.\n",
      "Instructions for updating:\n",
      "If using Keras pass *_constraint arguments to layers.\n",
      "Epoch 1/150\n",
      "24/24 [==============================] - 7s 310ms/step - loss: 8.1988e-10 - mean_io_u: 0.3524 - val_loss: 7.4034e-10 - val_mean_io_u: 0.3310\n",
      "Epoch 2/150\n",
      "24/24 [==============================] - 7s 299ms/step - loss: 8.2810e-10 - mean_io_u: 0.3557 - val_loss: 7.4820e-10 - val_mean_io_u: 0.3293\n",
      "Epoch 3/150\n",
      "24/24 [==============================] - 7s 300ms/step - loss: 8.4891e-10 - mean_io_u: 0.3506 - val_loss: 8.2451e-10 - val_mean_io_u: 0.3162\n",
      "Epoch 4/150\n",
      "24/24 [==============================] - 7s 300ms/step - loss: 7.8489e-10 - mean_io_u: 0.3530 - val_loss: 8.1569e-10 - val_mean_io_u: 0.3226\n",
      "Epoch 5/150\n",
      "24/24 [==============================] - 7s 296ms/step - loss: 8.4045e-10 - mean_io_u: 0.3527 - val_loss: 7.3275e-10 - val_mean_io_u: 0.3261\n",
      "Epoch 6/150\n",
      "24/24 [==============================] - 7s 296ms/step - loss: 8.6249e-10 - mean_io_u: 0.3509 - val_loss: 7.5830e-10 - val_mean_io_u: 0.3276\n",
      "Epoch 7/150\n",
      "24/24 [==============================] - 7s 296ms/step - loss: 8.7463e-10 - mean_io_u: 0.3511 - val_loss: 7.3952e-10 - val_mean_io_u: 0.3289\n",
      "Epoch 8/150\n",
      "24/24 [==============================] - 7s 296ms/step - loss: 7.8439e-10 - mean_io_u: 0.3519 - val_loss: 7.5740e-10 - val_mean_io_u: 0.3227\n",
      "Epoch 9/150\n",
      "24/24 [==============================] - 7s 296ms/step - loss: 8.3315e-10 - mean_io_u: 0.3513 - val_loss: 7.4792e-10 - val_mean_io_u: 0.3274\n",
      "Epoch 10/150\n",
      "24/24 [==============================] - 7s 297ms/step - loss: 7.8803e-10 - mean_io_u: 0.3549 - val_loss: 7.3992e-10 - val_mean_io_u: 0.3280\n",
      "Epoch 11/150\n",
      "24/24 [==============================] - 7s 293ms/step - loss: 8.4683e-10 - mean_io_u: 0.3528 - val_loss: 7.5098e-10 - val_mean_io_u: 0.3317\n",
      "Epoch 12/150\n",
      "24/24 [==============================] - 7s 296ms/step - loss: 8.0078e-10 - mean_io_u: 0.3543 - val_loss: 7.2496e-10 - val_mean_io_u: 0.3277\n",
      "Epoch 13/150\n",
      "24/24 [==============================] - 7s 296ms/step - loss: 7.9183e-10 - mean_io_u: 0.3568 - val_loss: 7.4884e-10 - val_mean_io_u: 0.3220\n",
      "Epoch 14/150\n",
      "24/24 [==============================] - 7s 292ms/step - loss: 8.7056e-10 - mean_io_u: 0.3511 - val_loss: 7.0859e-10 - val_mean_io_u: 0.3292\n",
      "Epoch 15/150\n",
      "24/24 [==============================] - 7s 296ms/step - loss: 8.2358e-10 - mean_io_u: 0.3508 - val_loss: 7.3556e-10 - val_mean_io_u: 0.3327\n",
      "Epoch 16/150\n",
      "24/24 [==============================] - 7s 297ms/step - loss: 8.0886e-10 - mean_io_u: 0.3514 - val_loss: 7.1856e-10 - val_mean_io_u: 0.3236\n",
      "Epoch 17/150\n",
      "24/24 [==============================] - 7s 293ms/step - loss: 8.1827e-10 - mean_io_u: 0.3524 - val_loss: 7.0926e-10 - val_mean_io_u: 0.3281\n",
      "Epoch 18/150\n",
      "24/24 [==============================] - 7s 297ms/step - loss: 8.0216e-10 - mean_io_u: 0.3563 - val_loss: 8.1454e-10 - val_mean_io_u: 0.3258\n",
      "Epoch 19/150\n",
      "24/24 [==============================] - 7s 296ms/step - loss: 8.0721e-10 - mean_io_u: 0.3512 - val_loss: 7.1032e-10 - val_mean_io_u: 0.3240\n",
      "Epoch 20/150\n",
      "24/24 [==============================] - 7s 296ms/step - loss: 8.3695e-10 - mean_io_u: 0.3516 - val_loss: 8.0120e-10 - val_mean_io_u: 0.3223\n",
      "Epoch 21/150\n",
      "24/24 [==============================] - 7s 296ms/step - loss: 8.3594e-10 - mean_io_u: 0.3515 - val_loss: 7.7825e-10 - val_mean_io_u: 0.3284\n",
      "Epoch 22/150\n",
      "24/24 [==============================] - 7s 292ms/step - loss: 8.2475e-10 - mean_io_u: 0.3531 - val_loss: 7.1816e-10 - val_mean_io_u: 0.3251\n",
      "Epoch 23/150\n",
      "24/24 [==============================] - 7s 293ms/step - loss: 8.0180e-10 - mean_io_u: 0.3570 - val_loss: 7.4874e-10 - val_mean_io_u: 0.3297\n",
      "Epoch 24/150\n",
      " 9/24 [==========>...................] - ETA: 3s - loss: 7.5386e-10 - mean_io_u: 0.3424"
     ]
    }
   ],
   "source": [
    "\n",
    "tf.compat.v1.disable_eager_execution()\n",
    "from weighted_loss_unet import make_weighted_loss_unet, my_loss\n",
    "\n",
    "#wandb.init(project=\"swebcg91rt-net\")\n",
    "\n",
    "\n",
    "model = make_weighted_loss_unet((IMG_HEIGHT, IMG_WIDTH, IMG_CHANNELS), 1)\n",
    "model.compile(optimizer='adam', loss=my_loss, metrics=[tf.keras.metrics.MeanIoU(num_classes=2)])\n",
    "model.fit(train_seq, validation_data=val_seq, epochs=150)#, callbacks=[WandbCallback()]) \n",
    "\n",
    "\n",
    "# Save model to wandb\n",
    "#model.save(os.path.join(wandb.run.dir, \"model.h5\"))"
   ]
  },
  {
   "cell_type": "code",
   "execution_count": null,
   "metadata": {},
   "outputs": [],
   "source": []
  },
  {
   "cell_type": "code",
   "execution_count": null,
   "metadata": {
    "lines_to_next_cell": 2
   },
   "outputs": [],
   "source": []
  },
  {
   "cell_type": "code",
   "execution_count": null,
   "metadata": {},
   "outputs": [],
   "source": []
  }
 ],
 "metadata": {
  "jupytext": {
   "formats": "ipynb,py:light"
  },
  "kernelspec": {
   "display_name": "SweBCG91RT-Net",
   "language": "python",
   "name": "swebcg91rt-net"
  },
  "language_info": {
   "codemirror_mode": {
    "name": "ipython",
    "version": 3
   },
   "file_extension": ".py",
   "mimetype": "text/x-python",
   "name": "python",
   "nbconvert_exporter": "python",
   "pygments_lexer": "ipython3",
   "version": "3.8.5"
  }
 },
 "nbformat": 4,
 "nbformat_minor": 4
}
