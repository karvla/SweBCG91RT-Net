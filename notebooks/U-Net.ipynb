{
 "cells": [
  {
   "cell_type": "markdown",
   "metadata": {},
   "source": [
    "# U-Net trained on the MoNuSeg data set"
   ]
  },
  {
   "cell_type": "code",
   "execution_count": 1,
   "metadata": {
    "lines_to_end_of_cell_marker": 2
   },
   "outputs": [],
   "source": [
    "import random\n",
    "import json\n",
    "from itertools import cycle\n",
    "import xml.etree.ElementTree as ET\n",
    "import os\n",
    "\n",
    "import pandas as pd\n",
    "import numpy as np\n",
    "import matplotlib.pyplot as plt\n",
    "from pathlib import Path\n",
    "\n",
    "from PIL import Image\n",
    "from PIL import Image, ImageDraw\n",
    "from skimage.draw import polygon\n",
    "from skimage.io import imread, imshow\n",
    "from skimage.transform import resize\n",
    "import imgaug.augmenters as iaa\n",
    "from imgaug.augmentables.segmaps import SegmentationMapsOnImage\n",
    "from keras.utils import Sequence\n",
    "from keras.models import Model, load_model\n",
    "from keras.layers import Input, multiply\n",
    "from keras.layers.core import Dropout, Lambda\n",
    "from keras.layers.convolutional import Conv2D, Conv2DTranspose\n",
    "from keras.layers.pooling import MaxPooling2D\n",
    "from keras.layers.merge import concatenate\n",
    "from keras.callbacks import EarlyStopping, ModelCheckpoint\n",
    "from keras import backend as K\n",
    "import pandas as pd\n",
    "import tensorflow as tf\n",
    "#import wandb\n",
    "#from wandb.keras import WandbCallback\n",
    "\n",
    "import utils\n",
    "import monuseg_utils\n",
    "\n",
    "from augmented_sequence import AugmentedSequence"
   ]
  },
  {
   "cell_type": "code",
   "execution_count": 2,
   "metadata": {},
   "outputs": [],
   "source": [
    "IMG_WIDTH = 256\n",
    "IMG_HEIGHT = 256\n",
    "IMG_CHANNELS = 3\n",
    "BATCH_SIZE = 5"
   ]
  },
  {
   "cell_type": "markdown",
   "metadata": {},
   "source": [
    "## Setting up training, validation and test groups\n",
    "Should use all MoNuSeg data, not only the test data"
   ]
  },
  {
   "cell_type": "code",
   "execution_count": 3,
   "metadata": {},
   "outputs": [],
   "source": [
    "monuseg_patinfo = pd.read_csv(Path(os.getcwd()).parent / 'data/monuseg/patient_information.csv')\n",
    "\n",
    "monuseg_train_ids = monuseg_patinfo[monuseg_patinfo['training'] == 'yes']['patient_id']\n",
    "monuseg_test_ids = monuseg_patinfo[monuseg_patinfo['training'] == 'no']['patient_id']\n",
    "monuseg_train_ids, monuseg_val_ids = utils.val_split(monuseg_train_ids)"
   ]
  },
  {
   "cell_type": "markdown",
   "metadata": {},
   "source": [
    "## Data augmentation"
   ]
  },
  {
   "cell_type": "code",
   "execution_count": null,
   "metadata": {},
   "outputs": [],
   "source": [
    "seq = iaa.Sequential([\n",
    "    iaa.CropToFixedSize(width=round(IMG_WIDTH*1.5), height=round(IMG_HEIGHT*1.5)),\n",
    "    iaa.flip.Flipud(p=0.5),\n",
    "    iaa.flip.Fliplr(p=0.5),\n",
    "    iaa.Affine(rotate=(-45,45)),\n",
    "    iaa.CropToFixedSize(width=IMG_WIDTH, height=IMG_HEIGHT, position=\"center\"),\n",
    "    iaa.Sometimes(0.2, iaa.SigmoidContrast(gain=(3, 10), cutoff=(0.4, 0.6))),\n",
    "    iaa.Sometimes(0.2, iaa.GaussianBlur(sigma=(0.0, 3.0)))\n",
    "    #iaa.Sometimes(0.2, iaa.EdgeDetect((0,0.5)))\n",
    "])\n",
    "\n",
    "val_sequential = iaa.Sequential([\n",
    "    iaa.CropToFixedSize(width=round(IMG_WIDTH*1.5), height=round(IMG_HEIGHT*1.5)),\n",
    "    iaa.flip.Flipud(p=0.5),\n",
    "    iaa.flip.Fliplr(p=0.5),\n",
    "    iaa.Affine(rotate=(-45,45)),\n",
    "    iaa.CropToFixedSize(width=IMG_WIDTH, height=IMG_HEIGHT, position=\"center\"),\n",
    "])\n",
    "\n",
    "train_seq = AugmentedSequence(monuseg_train_ids, BATCH_SIZE, seq, IMG_WIDTH, IMG_HEIGHT)\n",
    "val_seq = AugmentedSequence(monuseg_val_ids, BATCH_SIZE, val_sequential, IMG_WIDTH, IMG_HEIGHT)"
   ]
  },
  {
   "cell_type": "markdown",
   "metadata": {},
   "source": [
    "## Train U-Net\n",
    "The U-Net, along with the weight map loss function, was implemented by [jaidevd](https://jaidevd.github.io/posts/weighted-loss-functions-for-instance-segmentation/)."
   ]
  },
  {
   "cell_type": "code",
   "execution_count": null,
   "metadata": {
    "lines_to_next_cell": 0
   },
   "outputs": [],
   "source": [
    "\n",
    "tf.compat.v1.disable_eager_execution()\n",
    "from weighted_loss_unet import make_weighted_loss_unet, my_loss\n",
    "\n",
    "#wandb.init(project=\"swebcg91rt-net\")\n",
    "\n",
    "\n",
    "model = make_weighted_loss_unet((IMG_HEIGHT, IMG_WIDTH, IMG_CHANNELS), 1)\n",
    "model.compile(optimizer='adam', loss=my_loss, metrics=[tf.keras.metrics.MeanIoU(num_classes=2)])\n",
    "model.fit(train_seq, validation_data=val_seq, epochs=150)#, callbacks=[WandbCallback()]) \n",
    "\n",
    "\n",
    "# Save model to wandb\n",
    "#model.save(os.path.join(wandb.run.dir, \"model.h5\"))"
   ]
  },
  {
   "cell_type": "code",
   "execution_count": null,
   "metadata": {},
   "outputs": [],
   "source": [
    "model.save('./models/unet_model.h5')\n"
   ]
  },
  {
   "cell_type": "markdown",
   "metadata": {},
   "source": [
    "## Predict on test set"
   ]
  },
  {
   "cell_type": "code",
   "execution_count": null,
   "metadata": {
    "lines_to_next_cell": 2
   },
   "outputs": [],
   "source": [
    "test_seq = iaa.Sequential([iaa.CropToFixedSize(width=IMG_WIDTH, height=IMG_HEIGHT)])\n",
    "test_gen = AugmentedSequence(monuseg_test_ids, BATCH_SIZE, test_seq, IMG_WIDTH, IMG_HEIGHT)"
   ]
  },
  {
   "cell_type": "code",
   "execution_count": null,
   "metadata": {},
   "outputs": [],
   "source": [
    "\n",
    "import motplotlib.gridspec as gridspec\n",
    "for i in range(len(test_gen)):\n",
    "    xb, yb"
   ]
  }
 ],
 "metadata": {
  "jupytext": {
   "formats": "ipynb,py:light"
  },
  "kernelspec": {
   "display_name": "SweBCG91RT-Net",
   "language": "python",
   "name": "swebcg91rt-net"
  },
  "language_info": {
   "codemirror_mode": {
    "name": "ipython",
    "version": 3
   },
   "file_extension": ".py",
   "mimetype": "text/x-python",
   "name": "python",
   "nbconvert_exporter": "python",
   "pygments_lexer": "ipython3",
   "version": "3.8.5"
  }
 },
 "nbformat": 4,
 "nbformat_minor": 4
}
