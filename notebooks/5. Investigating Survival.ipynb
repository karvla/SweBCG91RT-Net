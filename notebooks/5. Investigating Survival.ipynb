{
 "cells": [
  {
   "cell_type": "markdown",
   "metadata": {},
   "source": [
    "# 5. Investigating Survival/Recurrace\n",
    "This notebook is for exploring the connection between survival rate in TNBC and spacial distribution of TILs."
   ]
  },
  {
   "cell_type": "code",
   "execution_count": 1,
   "metadata": {},
   "outputs": [],
   "source": [
    "import pandas as pd\n",
    "from itertools import combinations\n",
    "import regex as re\n",
    "import seaborn as sns\n",
    "import numpy as np\n",
    "import matplotlib.pyplot as plt\n",
    "from dataset import TNBC2\n",
    "import os\n",
    "import numpy as np\n",
    "from numba import jit\n",
    "from tqdm import tqdm\n",
    "sns.set()\n",
    "sns.set_style(\"whitegrid\", {'axes.grid' : False})\n"
   ]
  },
  {
   "cell_type": "code",
   "execution_count": 2,
   "metadata": {},
   "outputs": [],
   "source": [
    "df_pat = pd.read_excel('../data/tnbc2/256_TNBC__F_LEION_till_arvid.xlsx')\n",
    "df_pat = df_pat.replace(-0.99, np.NaN)\n",
    "\n",
    "df_pat[\"TILs\"] = df_pat[\"TILs helsnitt\"]\n",
    "df_pat[\"nodes\"] = df_pat[\"Positive nodes\"]\n",
    "df_pat[\"age\"] = df_pat[\"Age at diagnosis\"]\n",
    "\n",
    "df_pat[\"treated\"] = df_pat[\"Chemo (schema)\"].apply(lambda x: int(x != \"None\"))\n",
    "df_pat[\"relapse\"] = df_pat[\"Relapse yes 1 no 0\"]\n",
    "df_pat[\"dead\"] = df_pat[\"Dead yes 1 no 0\"]\n",
    "df_pat[\"OS\"] = df_pat[\"OS yes 1 no 0\"]\n",
    "df_pat[\"IDFS\"] = df_pat[\"IDFS yes 1 no 0\"]\n",
    "df_pat[\"DRFI\"] = df_pat[\"DRFI Breast cancer spec\"]\n",
    "\n",
    "df_pat[\"distant_relapse\"] = (df_pat[\"Months_surgery_distant_relapse\"] > 0).apply(int)\n",
    "df_pat[\"local_relapse\"] = df_pat[\"relapse\"] - df_pat[\"distant_relapse\"]\n",
    "\n",
    "df_pat[\"rapid_dist_relapse\"] = df_pat[\"Months_surgery_distant_relapse\"] < 24"
   ]
  },
  {
   "cell_type": "code",
   "execution_count": 3,
   "metadata": {},
   "outputs": [],
   "source": [
    "import matplotlib.pyplot as plt\n",
    "import seaborn as sns\n",
    "from scipy.stats import pearsonr\n",
    "\n",
    "@jit(nopython=False)\n",
    "def ripleys_k(locations, t=50):\n",
    "    \"\"\"en.wikipedia.org/wiki/Spatial_descriptive_statistics#Ripley.27s_K_and_L_functions\"\"\"\n",
    "    n = locations.shape[0]\n",
    "    within_t = 0\n",
    "    z = np.array([[complex(x, y) for x, y in locations]])\n",
    "    distances = abs(z.T-z)\n",
    "    within_t = np.sum(distances[0] < t)\n",
    "        \n",
    "    return np.sqrt(within_t / n)\n",
    "\n",
    "def _patient_id(image_name):\n",
    "    block,  nr, letter = re.findall(r\"Block_(\\d).*_(.*)_([A-Z])_\", image_name)[0]\n",
    "    block_start = [1, 59, 113, 172, 210]\n",
    "    start = block_start[int(block)-1]\n",
    "    \n",
    "    letter = letter.lower()\n",
    "    key = np.array([i for i in range(start, start + int(10*12/2)) for n in range(2)]).reshape((10,12))\n",
    "    pat_id = key[int(nr)-1][11 - (ord(letter) - 97)]\n",
    "    return pat_id\n",
    "    \n",
    "def _tma_id(patient_id):\n",
    "    block_start = [1, 59, 113, 172, 210]\n",
    "    start = [s for s in block_start if patient_id >= s][-1]\n",
    "    block = block_start.index(start) + 1\n",
    "            \n",
    "    key = np.array([i for i in range(start, start + int(10*12/2)) for n in range(2)]).reshape((10,12))\n",
    "    Y, X = np.where(key == patient_id) \n",
    "    letters = [chr(11 - (x - 97)).upper() for x in X]\n",
    "    numbers = list(Y + 1)\n",
    "    return block, letters, numbers\n",
    "    \n",
    "def _image_path(patient_id):\n",
    "    block, letters, numbers = _tma_id(patient_id)\n",
    "    paths = []\n",
    "    dataset = TNBC2()\n",
    "    for let, num in zip(letters, numbers):\n",
    "        for file in os.listdir(dataset.image_dir):\n",
    "            b, n, l = re.findall(r\"Block_(\\d).*_(.*)_([A-Z])_\", file)[0]\n",
    "            if int(b) == block and int(n) == num and l == let:\n",
    "                paths.append(dataset.image_dir / file)\n",
    "    return paths\n",
    "\n",
    "def display(tma_id):\n",
    "    plt.figure(figsize=(20,10))\n",
    "    for n, path in enumerate(_image_path(tma_id), 1):\n",
    "        plt.subplot(1,2,n)\n",
    "        plt.imshow(imread(path))\n",
    "        \n",
    "def correlation(df, features):\n",
    "    corrmat = df[features].corr(method='spearman')\n",
    "    plt.figure(figsize=(8,8))\n",
    "    sns.clustermap(corrmat, vmin=-1, cmap=\"YlGnBu\", linewidth=0.1, annot=True)\n",
    "    \n",
    "def corrfunc(df, **kws):\n",
    "    x, y = zip(*df.dropna().values)\n",
    "    (r, p) = pearsonr(x, y)\n",
    "    ax = plt.gca()\n",
    "    ax.set_title(f\"r = {r:.2f}, p = {p:.2E}\")\n",
    "    "
   ]
  },
  {
   "cell_type": "markdown",
   "metadata": {},
   "source": [
    "## Split TILs into stromal and intratumoral\n",
    "\n",
    "<img src=\"../docs/stromal_intratumoral_tils.png\" width=\"500\" align=\"left\"/>\n"
   ]
  },
  {
   "cell_type": "code",
   "execution_count": 4,
   "metadata": {},
   "outputs": [],
   "source": [
    "from scipy.spatial import distance\n",
    "\n",
    "@jit(nopython=False)\n",
    "def tumor_stroma_tils(immune_loc, tumor_loc, r=50, factor=1.0):\n",
    "    \"\"\" Estimates which immune cells are Stromal TILs and which\n",
    "        are Intratumoral.\"\"\"\n",
    "    tumor_loc = np.array([list(coord) for coord in tumor_loc], np.float32)\n",
    "    immune_loc = np.array([list(coord) for coord in immune_loc], np.float32)\n",
    "    \n",
    "    tumor_dist = distance.cdist(tumor_loc,immune_loc)\n",
    "    immune_dist = distance.cdist(immune_loc,immune_loc)\n",
    "    \n",
    "    tumor_within_r = tumor_dist < r\n",
    "    immune_within_r = immune_dist < r\n",
    "    \n",
    "    n_tumor_within = tumor_within_r.sum(axis=0)\n",
    "    n_immune_within = immune_within_r.sum(axis=0)\n",
    "    \n",
    "    tumor_tils = n_tumor_within > n_immune_within*factor\n",
    "    stroma_tils = n_tumor_within*factor < n_immune_within\n",
    "\n",
    "    return immune_loc[tumor_tils], immune_loc[stroma_tils]\n",
    "\n",
    "size = 8\n",
    "def display_cells(df):\n",
    "    tnbc = TNBC2()\n",
    "    for n, row in df.iterrows():\n",
    "        immune_loc = row[\"immune_loc\"]\n",
    "        tumor_loc = row[\"tumor_loc\"]\n",
    "        imid = row[\"image_id\"]\n",
    "        img = tnbc.load_image(imid)\n",
    "\n",
    "        tumor_tils, stroma_tils = tumor_stroma_tils(immune_loc, tumor_loc)\n",
    "\n",
    "        plt.figure(figsize=(20,10))\n",
    "        plt.subplot(121)\n",
    "        plt.imshow(img)\n",
    "        plt.subplot(122)\n",
    "        ax = plt.gca()\n",
    "        ax.invert_yaxis()\n",
    "        args = lambda locs: list(zip(*locs))[::-1]\n",
    "        plt.title(f\"Tumor cells: {len(tumor_loc)}\\n TILs: {len(immune_loc)}\")\n",
    "        plt.scatter(*args(tumor_loc), label=\"Tumor cells\", s=size)\n",
    "        #plt.scatter(*args(immune_loc), label=\"TILs\", s=size)\n",
    "        plt.scatter(*args(tumor_tils), label=\"Intratumoral TILs\", s=size)\n",
    "        plt.scatter(*args(stroma_tils), label=\"Stromal TILs\", s=size)\n",
    "        plt.legend()\n",
    "    \n",
    "def pat_id_wsi(image_id):\n",
    "    try:\n",
    "        return int(re.findall(r\"\\d+\", image_id)[0])\n",
    "    except:\n",
    "        return np.NaN\n"
   ]
  },
  {
   "cell_type": "code",
   "execution_count": 5,
   "metadata": {},
   "outputs": [],
   "source": [
    "with pd.option_context('display.max_rows', None, 'display.max_columns', None):  # more options can be specified also\n",
    "    pass\n",
    "    #print(df_wsi.sort_values(\"TMAid\"))\n",
    "    #print(df_wsi[\"TMAid\"].value_counts())"
   ]
  },
  {
   "cell_type": "code",
   "execution_count": 6,
   "metadata": {},
   "outputs": [],
   "source": [
    "def box(point):\n",
    "    y, x = point\n",
    "    s = 15\n",
    "    x2, x1 = (int(x+s), int(x-s))\n",
    "    y2, y1 = (int(y+s), int(y-s))\n",
    "    return slice(y1, y2, None), slice(x1,x2,None)\n"
   ]
  },
  {
   "cell_type": "code",
   "execution_count": 7,
   "metadata": {},
   "outputs": [],
   "source": [
    "from joblib import Memory\n",
    "\n",
    "memory = Memory('./cache/')\n",
    "\n",
    "def make_dataframe(path, r1=50, r2=100, factor=1.5):\n",
    "    df_pred = pd.read_feather(path)\n",
    "    df_pred = df_pred[df_pred[\"tumor_loc\"].apply(lambda x: len(x) > 0)]\n",
    "    df_pred = df_pred[df_pred[\"immune_loc\"].apply(lambda x: len(x) > 0)]\n",
    "\n",
    "    df_pred[\"tumor_tils_loc\"], df_pred[\"stroma_tils_loc\"] = zip(*[\n",
    "        tumor_stroma_tils(im, tum, r2, factor) for im, tum in zip(df_pred[\"immune_loc\"], df_pred[\"tumor_loc\"])\n",
    "    ])\n",
    "    \n",
    "\n",
    "    df_pred[\"stroma_tils\"] = [len(loc) for loc in tqdm(df_pred[\"stroma_tils_loc\"])]\n",
    "    df_pred[\"tumor_tils\"] = [len(loc) for loc in tqdm(df_pred[\"tumor_tils_loc\"])]\n",
    "\n",
    "    df_pred[\"immune_cluster1\"] = [ripleys_k(loc, r1) for loc in tqdm(df_pred[\"immune_loc\"])]\n",
    "    df_pred[\"immune_cluster2\"] = [ripleys_k(loc, r1+60) for loc in tqdm(df_pred[\"immune_loc\"])]\n",
    "    df_pred[\"immune_cluster3\"] = [ripleys_k(loc, r1+80) for loc in tqdm(df_pred[\"immune_loc\"])]\n",
    "    df_pred[\"immune_cluster4\"] = [ripleys_k(loc, r1+120) for loc in tqdm(df_pred[\"immune_loc\"])]\n",
    "    \n",
    "    df_pred[\"tumor_cluster\"] = [ripleys_k(loc, r1) for loc in tqdm(df_pred[\"tumor_loc\"])]\n",
    "    \n",
    "    #df_pred[\"TMAid\"] = df_pred[\"image_id\"].apply(_patient_id)\n",
    "    df_pred[\"TMAid\"] = df_pred[\"image_id\"].apply(pat_id_wsi)\n",
    "    df_pred = df_pred[df_pred[\"image_id\"] != \"TNBC_Block_3_block_1_314054_8_M_HE\"]\n",
    "\n",
    "    df_pred_merged = df_pred.groupby(\"TMAid\").mean().reset_index()\n",
    "    df_all = pd.merge(df_pat, df_pred_merged, how='inner', on=[\"TMAid\"])\n",
    "\n",
    "    return df_all"
   ]
  },
  {
   "cell_type": "code",
   "execution_count": 8,
   "metadata": {},
   "outputs": [],
   "source": [
    "def plot_compare(ylabels, xlabels, df, **kwargs):\n",
    "    plt.figure(figsize=(5*len(ylabels),4))\n",
    "    features = [[x, y] for x in xlabels for y in ylabels]\n",
    "    for n, feat in enumerate(features, 1):\n",
    "        plt.subplot(1,len(ylabels),n)\n",
    "        sns.scatterplot(data=df, x=feat[0], y=feat[1], **kwargs)\n",
    "        corrfunc(df[feat])"
   ]
  },
  {
   "cell_type": "code",
   "execution_count": 14,
   "metadata": {},
   "outputs": [
    {
     "data": {
      "image/png": "[encoded data removed]",
      "text/plain": [
       "<Figure size 432x288 with 1 Axes>"
      ]
     },
     "metadata": {},
     "output_type": "display_data"
    },
    {
     "data": {
      "image/png": "[encoded data removed]",
      "text/plain": [
       "<Figure size 360x288 with 1 Axes>"
      ]
     },
     "metadata": {},
     "output_type": "display_data"
    }
   ],
   "source": [
    "sns.scatterplot(data=df_all, x=\"n_immune\", y=\"TILs\")\n",
    "plot_compare([\"TILs\"], [\"tumor_tils\"], df_all)"
   ]
  },
  {
   "cell_type": "code",
   "execution_count": 9,
   "metadata": {},
   "outputs": [
    {
     "ename": "NameError",
     "evalue": "name 'df_treated' is not defined",
     "output_type": "error",
     "traceback": [
      "\u001b[0;31m---------------------------------------------------------------------------\u001b[0m",
      "\u001b[0;31mNameError\u001b[0m                                 Traceback (most recent call last)",
      "\u001b[0;32m<ipython-input-9-a522e6b213d5>\u001b[0m in \u001b[0;36m<module>\u001b[0;34m\u001b[0m\n\u001b[0;32m----> 1\u001b[0;31m \u001b[0mdf_treated\u001b[0m\u001b[0;34m[\u001b[0m\u001b[0;34m\"st/ni\"\u001b[0m\u001b[0;34m]\u001b[0m \u001b[0;34m=\u001b[0m  \u001b[0mdf_treated\u001b[0m\u001b[0;34m[\u001b[0m\u001b[0;34m\"stroma_tils\"\u001b[0m\u001b[0;34m]\u001b[0m \u001b[0;34m/\u001b[0m \u001b[0mdf_treated\u001b[0m\u001b[0;34m[\u001b[0m\u001b[0;34m\"n_immune\"\u001b[0m\u001b[0;34m]\u001b[0m\u001b[0;34m\u001b[0m\u001b[0;34m\u001b[0m\u001b[0m\n\u001b[0m\u001b[1;32m      2\u001b[0m \u001b[0msns\u001b[0m\u001b[0;34m.\u001b[0m\u001b[0mscatterplot\u001b[0m\u001b[0;34m(\u001b[0m\u001b[0mdata\u001b[0m\u001b[0;34m=\u001b[0m\u001b[0mdf_treated\u001b[0m\u001b[0;34m,\u001b[0m \u001b[0mx\u001b[0m\u001b[0;34m=\u001b[0m\u001b[0;34m\"st/ni\"\u001b[0m\u001b[0;34m,\u001b[0m \u001b[0my\u001b[0m\u001b[0;34m=\u001b[0m\u001b[0;34m\"tumor_tils\"\u001b[0m\u001b[0;34m,\u001b[0m \u001b[0mhue\u001b[0m\u001b[0;34m=\u001b[0m\u001b[0;34m\"distant_relapse\"\u001b[0m\u001b[0;34m)\u001b[0m\u001b[0;34m\u001b[0m\u001b[0;34m\u001b[0m\u001b[0m\n",
      "\u001b[0;31mNameError\u001b[0m: name 'df_treated' is not defined"
     ]
    }
   ],
   "source": [
    "df_treated[\"st/ni\"] =  df_treated[\"stroma_tils\"] / df_treated[\"n_immune\"]\n",
    "sns.scatterplot(data=df_treated, x=\"st/ni\", y=\"tumor_tils\", hue=\"distant_relapse\")\n"
   ]
  },
  {
   "cell_type": "code",
   "execution_count": 128,
   "metadata": {},
   "outputs": [],
   "source": [
    "import statsmodels.api as sm\n",
    "from numpy import mean\n",
    "from numpy import std\n",
    "from sklearn.datasets import make_classification\n",
    "from sklearn.model_selection import StratifiedKFold\n",
    "from sklearn.model_selection import GridSearchCV\n",
    "from sklearn.metrics import confusion_matrix, roc_curve, roc_auc_score\n",
    "from sklearn.ensemble import RandomForestClassifier\n",
    "from sklearn import preprocessing\n",
    "import seaborn as sn\n",
    "from imblearn.over_sampling import SMOTE\n",
    "from imblearn.under_sampling import RandomUnderSampler\n",
    "from imblearn.pipeline import Pipeline\n",
    "from sklearn.preprocessing import PolynomialFeatures\n",
    "\n",
    "from sklearn.preprocessing import StandardScaler\n",
    "from sklearn.datasets import make_moons, make_circles, make_classification\n",
    "from sklearn.neural_network import MLPClassifier\n",
    "from sklearn.neighbors import KNeighborsClassifier\n",
    "from sklearn.svm import SVC\n",
    "from sklearn.gaussian_process import GaussianProcessClassifier\n",
    "from sklearn.gaussian_process.kernels import RBF\n",
    "from sklearn.tree import DecisionTreeClassifier\n",
    "from sklearn.ensemble import RandomForestClassifier, AdaBoostClassifier\n",
    "from sklearn.naive_bayes import GaussianNB\n",
    "from sklearn.discriminant_analysis import QuadraticDiscriminantAnalysis\n",
    "\n",
    "\n",
    "def _results_to_pandas(summary):\n",
    "    return pd.read_html(summary.tables[1].as_html(), header=0, index_col=0)[0]\n",
    "\n",
    "def logit(x_train, y_train, x_val, y_val):\n",
    "    model = sm.Logit(y_train, x_train).fit(disp=False)\n",
    "    return model.predict(x_val)\n",
    "\n",
    "def cross_validation(y, X, model = logit):\n",
    "    undersample = RandomUnderSampler(sampling_strategy=1.0, random_state=1)\n",
    "    oversample = SMOTE(sampling_strategy=0.4, random_state=1)\n",
    "\n",
    "    steps = [('o', oversample), ('u', undersample)]\n",
    "    pipeline = Pipeline(steps=steps)\n",
    "\n",
    "    cv_outer = StratifiedKFold(n_splits=5, shuffle=True, random_state=1)\n",
    "\n",
    "    true, pred, = ([], [])\n",
    "    summaries = []\n",
    "    for train_val_idx, test_idx in cv_outer.split(X, y):\n",
    "        X_train_val, X_test = X[train_val_idx], X[test_idx]\n",
    "        y_train_val, y_test = y[train_val_idx], y[test_idx]\n",
    "\n",
    "        cv_inner = StratifiedKFold(n_splits=5, shuffle=True, random_state=1)\n",
    "        for train_idx, val_idx in cv_inner.split(X_train_val, y_train_val):\n",
    "            x_train, x_val = X_train_val[train_idx], X_train_val[val_idx]\n",
    "            y_train, y_val = y_train_val[train_idx], y_train_val[val_idx]\n",
    "\n",
    "            #x_train, y_train = pipeline.fit_resample(x_train, y_train)\n",
    "            \n",
    "            y_pred = model(x_train, y_train, x_val, y_val)\n",
    "            true.extend(list(y_val))\n",
    "            pred.extend(list(y_pred))\n",
    "            #summaries.append(_results_to_pandas(model.summary()))\n",
    "                \n",
    "\n",
    "    #if results:\n",
    "    #    print(pd.concat(summaries).groupby(level=0).mean())\n",
    "        \n",
    "    return true, pred"
   ]
  },
  {
   "cell_type": "code",
   "execution_count": 10,
   "metadata": {
    "collapsed": true,
    "jupyter": {
     "outputs_hidden": true
    }
   },
   "outputs": [
    {
     "name": "stderr",
     "output_type": "stream",
     "text": [
      "<ipython-input-4-98d41abe1e54>:3: NumbaWarning: \n",
      "Compilation is falling back to object mode WITH looplifting enabled because Function \"tumor_stroma_tils\" failed type inference due to: non-precise type array(pyobject, 1d, C)\n",
      "During: typing of argument at <ipython-input-4-98d41abe1e54> (7)\n",
      "\n",
      "File \"<ipython-input-4-98d41abe1e54>\", line 7:\n",
      "def tumor_stroma_tils(immune_loc, tumor_loc, r=50, factor=1.0):\n",
      "    <source elided>\n",
      "        are Intratumoral.\"\"\"\n",
      "    tumor_loc = np.array([list(coord) for coord in tumor_loc], np.float32)\n",
      "    ^\n",
      "\n",
      "  @jit(nopython=False)\n",
      "/home/arvid/.conda/envs/SweBCG91RT-Net/lib/python3.8/site-packages/numba/core/object_mode_passes.py:177: NumbaWarning: Function \"tumor_stroma_tils\" was compiled in object mode without forceobj=True.\n",
      "\n",
      "File \"<ipython-input-4-98d41abe1e54>\", line 4:\n",
      "@jit(nopython=False)\n",
      "def tumor_stroma_tils(immune_loc, tumor_loc, r=50, factor=1.0):\n",
      "^\n",
      "\n",
      "  warnings.warn(errors.NumbaWarning(warn_msg,\n",
      "/home/arvid/.conda/envs/SweBCG91RT-Net/lib/python3.8/site-packages/numba/core/object_mode_passes.py:187: NumbaDeprecationWarning: \n",
      "Fall-back from the nopython compilation path to the object mode compilation path has been detected, this is deprecated behaviour.\n",
      "\n",
      "For more information visit https://numba.pydata.org/numba-doc/latest/reference/deprecation.html#deprecation-of-object-mode-fall-back-behaviour-when-using-jit\n",
      "\n",
      "File \"<ipython-input-4-98d41abe1e54>\", line 4:\n",
      "@jit(nopython=False)\n",
      "def tumor_stroma_tils(immune_loc, tumor_loc, r=50, factor=1.0):\n",
      "^\n",
      "\n",
      "  warnings.warn(errors.NumbaDeprecationWarning(msg,\n",
      "/home/arvid/.conda/envs/SweBCG91RT-Net/lib/python3.8/site-packages/numpy/core/_asarray.py:83: VisibleDeprecationWarning: Creating an ndarray from ragged nested sequences (which is a list-or-tuple of lists-or-tuples-or ndarrays with different lengths or shapes) is deprecated. If you meant to do this, you must specify 'dtype=object' when creating the ndarray\n",
      "  return array(a, dtype, copy=False, order=order)\n",
      "100%|██████████| 102051/102051 [00:00<00:00, 3211651.98it/s]\n",
      "100%|██████████| 102051/102051 [00:00<00:00, 3201251.36it/s]\n",
      "  0%|          | 0/102051 [00:00<?, ?it/s]<ipython-input-3-551c887b8910>:5: NumbaWarning: \n",
      "Compilation is falling back to object mode WITH looplifting enabled because Function \"ripleys_k\" failed type inference due to: non-precise type array(pyobject, 1d, C)\n",
      "During: typing of argument at <ipython-input-3-551c887b8910> (8)\n",
      "\n",
      "File \"<ipython-input-3-551c887b8910>\", line 8:\n",
      "def ripleys_k(locations, t=50):\n",
      "    <source elided>\n",
      "    \"\"\"en.wikipedia.org/wiki/Spatial_descriptive_statistics#Ripley.27s_K_and_L_functions\"\"\"\n",
      "    n = locations.shape[0]\n",
      "    ^\n",
      "\n",
      "  @jit(nopython=False)\n",
      "/home/arvid/.conda/envs/SweBCG91RT-Net/lib/python3.8/site-packages/numba/core/object_mode_passes.py:177: NumbaWarning: Function \"ripleys_k\" was compiled in object mode without forceobj=True.\n",
      "\n",
      "File \"<ipython-input-3-551c887b8910>\", line 6:\n",
      "@jit(nopython=False)\n",
      "def ripleys_k(locations, t=50):\n",
      "^\n",
      "\n",
      "  warnings.warn(errors.NumbaWarning(warn_msg,\n",
      "/home/arvid/.conda/envs/SweBCG91RT-Net/lib/python3.8/site-packages/numba/core/object_mode_passes.py:187: NumbaDeprecationWarning: \n",
      "Fall-back from the nopython compilation path to the object mode compilation path has been detected, this is deprecated behaviour.\n",
      "\n",
      "For more information visit https://numba.pydata.org/numba-doc/latest/reference/deprecation.html#deprecation-of-object-mode-fall-back-behaviour-when-using-jit\n",
      "\n",
      "File \"<ipython-input-3-551c887b8910>\", line 6:\n",
      "@jit(nopython=False)\n",
      "def ripleys_k(locations, t=50):\n",
      "^\n",
      "\n",
      "  warnings.warn(errors.NumbaDeprecationWarning(msg,\n",
      "100%|██████████| 102051/102051 [00:21<00:00, 4669.17it/s]\n",
      "100%|██████████| 102051/102051 [00:21<00:00, 4703.93it/s]\n",
      "100%|██████████| 102051/102051 [00:21<00:00, 4686.38it/s]\n",
      "100%|██████████| 102051/102051 [00:21<00:00, 4712.55it/s]\n",
      "100%|██████████| 102051/102051 [01:22<00:00, 1239.05it/s]\n"
     ]
    }
   ],
   "source": [
    "#df_all = make_dataframe('./wsi_unet_quip_10000_0.05_5_1.0_800.feather', 100, 100)\n",
    "#df_all = make_dataframe('./wsi_unet_quip_10000_0.05_5_1.0_800.feather')\n",
    "df_all = make_dataframe('./wsi_quip2_0.2_5_1.0_1600.feather')"
   ]
  },
  {
   "cell_type": "code",
   "execution_count": 196,
   "metadata": {},
   "outputs": [],
   "source": [
    "from itertools import combinations, chain, product, permutations\n",
    "from tqdm import tqdm\n",
    "from patsy import dmatrices\n",
    "group = [\"distant_relapse\"]\n",
    "\n",
    "features = [\n",
    "    #\"TILs\",\n",
    "    #\"immune_cluster1\",\n",
    "    #\"immune_cluster2\",\n",
    "    #\"immune_cluster3\",\n",
    "    #\"immune_cluster4\",\n",
    "    #\"tumor_cluster\",\n",
    "    #\"n_immune\",\n",
    "    #\"n_tumor\",\n",
    "    #\"stroma_tils\",\n",
    "    #\"tumor_tils\",\n",
    "    #\"tumor_area\",\n",
    "    #\"immune_area\",\n",
    "    \"age\",\n",
    "    #\"nodes\",\n",
    "]\n",
    "\n",
    "pd.options.mode.chained_assignment = None\n",
    "\n",
    "def try_interactions(data, features, group):\n",
    "    d = []\n",
    "    for f in tqdm(list(chain(*[combinations(features, i) for i in [1]]))):\n",
    "        f = list(f)\n",
    "        formulas = [\n",
    "             f\"{group} ~ {':'.join(f)}\",\n",
    "             f\"{group} ~ {'+'.join(f)}\",\n",
    "             f\"{group} ~ ({'+'.join(f)})**2\",\n",
    "             f\"{group} ~ ({'+'.join(f)})**3\",\n",
    "        ]\n",
    "        \n",
    "        for formula in formulas:\n",
    "            data_clean = data[f + [group]].replace([np.inf, -np.inf], np.nan).dropna()\n",
    "            y, X = dmatrices(formula, data_clean)\n",
    "            try:\n",
    "                true, pred = cross_validation(y, X, logit)\n",
    "                auc = roc_auc_score(true, pred)\n",
    "                tpr, fpr, thresholds = roc_curve(true, pred)\n",
    "                d.append({\n",
    "                    \"formula\" : formula,\n",
    "                    \"AUC\" : auc,\n",
    "                    \"roc\" : (tpr, fpr),\n",
    "                    \"thresh\" : thresholds,\n",
    "                })\n",
    "            except:\n",
    "                pass\n",
    "            \n",
    "    return pd.DataFrame(d).sort_values(\"AUC\", ascending=False)"
   ]
  },
  {
   "cell_type": "code",
   "execution_count": 183,
   "metadata": {},
   "outputs": [],
   "source": [
    "#df_all = make_dataframe('./wsi_unet_quip_10000_0.05_5_1.0_800.feather')"
   ]
  },
  {
   "cell_type": "code",
   "execution_count": 201,
   "metadata": {},
   "outputs": [
    {
     "data": {
      "text/plain": [
       "<AxesSubplot:xlabel='age', ylabel='Count'>"
      ]
     },
     "execution_count": 201,
     "metadata": {},
     "output_type": "execute_result"
    },
    {
     "data": {
      "image/png": "[encoded data removed]",
      "text/plain": [
       "<Figure size 432x288 with 1 Axes>"
      ]
     },
     "metadata": {},
     "output_type": "display_data"
    }
   ],
   "source": [
    "sns.histplot(data=df_treated, x=\"age\")"
   ]
  },
  {
   "cell_type": "code",
   "execution_count": 197,
   "metadata": {},
   "outputs": [
    {
     "name": "stderr",
     "output_type": "stream",
     "text": [
      "100%|██████████| 1/1 [00:00<00:00,  6.25it/s]\n",
      "100%|██████████| 1/1 [00:00<00:00,  6.12it/s]\n"
     ]
    }
   ],
   "source": [
    "df_treated = df_all[df_all[\"treated\"] == 1]\n",
    "df_distant = try_interactions(df_treated, features, \"distant_relapse\") \n",
    "df_local = try_interactions(df_treated, features, \"local_relapse\") "
   ]
  },
  {
   "cell_type": "code",
   "execution_count": 198,
   "metadata": {},
   "outputs": [
    {
     "data": {
      "text/plain": [
       "<matplotlib.legend.Legend at 0x7fe173dc7be0>"
      ]
     },
     "execution_count": 198,
     "metadata": {},
     "output_type": "execute_result"
    },
    {
     "data": {
      "image/png": "[encoded data removed]",
      "text/plain": [
       "<Figure size 576x576 with 1 Axes>"
      ]
     },
     "metadata": {},
     "output_type": "display_data"
    }
   ],
   "source": [
    "plt.figure(figsize=(8,8))\n",
    "sns.set()\n",
    "plt.title(\"Distant relapse, 800 tiles\")\n",
    "for n, row in df_distant.iloc[:3].iterrows():\n",
    "    plt.plot(*row[\"roc\"], label=f\"{round(row['AUC'],3)} {row['formula']}\")\n",
    "plt.legend()"
   ]
  },
  {
   "cell_type": "code",
   "execution_count": 199,
   "metadata": {},
   "outputs": [
    {
     "data": {
      "text/plain": [
       "<matplotlib.legend.Legend at 0x7fe173e9e190>"
      ]
     },
     "execution_count": 199,
     "metadata": {},
     "output_type": "execute_result"
    },
    {
     "data": {
      "image/png": "[encoded data removed]",
      "text/plain": [
       "<Figure size 576x576 with 1 Axes>"
      ]
     },
     "metadata": {},
     "output_type": "display_data"
    }
   ],
   "source": [
    "plt.figure(figsize=(8,8))\n",
    "plt.title(\"Local relapse, 800 tiles\")\n",
    "for n, row in df_local.iloc[0:3].iterrows():\n",
    "    plt.plot(*row[\"roc\"], label=f\"{round(row['AUC'],3)} {row['formula']}\")\n",
    "plt.legend()"
   ]
  },
  {
   "cell_type": "code",
   "execution_count": 16,
   "metadata": {},
   "outputs": [
    {
     "ename": "NameError",
     "evalue": "name 'df_all1' is not defined",
     "output_type": "error",
     "traceback": [
      "\u001b[0;31m---------------------------------------------------------------------------\u001b[0m",
      "\u001b[0;31mNameError\u001b[0m                                 Traceback (most recent call last)",
      "\u001b[0;32m<ipython-input-16-db178ecf1e37>\u001b[0m in \u001b[0;36m<module>\u001b[0;34m\u001b[0m\n\u001b[1;32m      6\u001b[0m \u001b[0;34m\u001b[0m\u001b[0m\n\u001b[1;32m      7\u001b[0m \u001b[0;34m\u001b[0m\u001b[0m\n\u001b[0;32m----> 8\u001b[0;31m \u001b[0mdf\u001b[0m \u001b[0;34m=\u001b[0m \u001b[0mdf_all1\u001b[0m\u001b[0;34m[\u001b[0m\u001b[0mdf_all1\u001b[0m\u001b[0;34m[\u001b[0m\u001b[0;34m\"treated\"\u001b[0m\u001b[0;34m]\u001b[0m \u001b[0;34m==\u001b[0m \u001b[0;36m1\u001b[0m\u001b[0;34m]\u001b[0m\u001b[0;34m\u001b[0m\u001b[0;34m\u001b[0m\u001b[0m\n\u001b[0m\u001b[1;32m      9\u001b[0m \u001b[0mtrue\u001b[0m\u001b[0;34m,\u001b[0m \u001b[0mpred\u001b[0m \u001b[0;34m=\u001b[0m \u001b[0mlogit_features\u001b[0m\u001b[0;34m(\u001b[0m\u001b[0;34m[\u001b[0m\u001b[0;34m'stroma_tils'\u001b[0m\u001b[0;34m]\u001b[0m\u001b[0;34m,\u001b[0m \u001b[0;34m[\u001b[0m\u001b[0;34m'local_relapse'\u001b[0m\u001b[0;34m]\u001b[0m \u001b[0;34m,\u001b[0m \u001b[0mdf_all\u001b[0m\u001b[0;34m)\u001b[0m\u001b[0;34m\u001b[0m\u001b[0;34m\u001b[0m\u001b[0m\n\u001b[1;32m     10\u001b[0m \u001b[0mtpr\u001b[0m\u001b[0;34m,\u001b[0m \u001b[0mfpr\u001b[0m\u001b[0;34m,\u001b[0m \u001b[0mthresholds\u001b[0m \u001b[0;34m=\u001b[0m \u001b[0mroc_curve\u001b[0m\u001b[0;34m(\u001b[0m\u001b[0mtrue\u001b[0m\u001b[0;34m,\u001b[0m \u001b[0mpred\u001b[0m\u001b[0;34m)\u001b[0m\u001b[0;34m\u001b[0m\u001b[0;34m\u001b[0m\u001b[0m\n",
      "\u001b[0;31mNameError\u001b[0m: name 'df_all1' is not defined"
     ]
    }
   ],
   "source": [
    "def logit_features(features, classes, df):\n",
    "    df = df[features + classes].dropna()\n",
    "    X = df[features].values\n",
    "    y = df[classes].values\n",
    "    return logit(y, X)\n",
    "    \n",
    "\n",
    "df = df_all1[df_all1[\"treated\"] == 1]\n",
    "true, pred = logit_features(['stroma_tils'], ['local_relapse'] , df_all)\n",
    "tpr, fpr, thresholds = roc_curve(true, pred)\n",
    "print(roc_auc_score(true, pred))\n",
    "plt.plot(tpr, fpr)"
   ]
  },
  {
   "cell_type": "code",
   "execution_count": null,
   "metadata": {},
   "outputs": [],
   "source": [
    "df2"
   ]
  },
  {
   "cell_type": "code",
   "execution_count": null,
   "metadata": {},
   "outputs": [],
   "source": [
    "df2"
   ]
  },
  {
   "cell_type": "code",
   "execution_count": null,
   "metadata": {},
   "outputs": [],
   "source": [
    "sns.histplot(data=df_all, x=\"immune_cluster1\")\n",
    "plt.figure()\n",
    "sns.histplot(data=df_all, x=\"immune_cluster2\")\n",
    "plt.figure()\n",
    "sns.histplot(data=df_all, x=\"immune_cluster3\")\n",
    "plt.figure()\n",
    "sns.histplot(data=df_all, x=\"immune_cluster4\")"
   ]
  },
  {
   "cell_type": "code",
   "execution_count": null,
   "metadata": {},
   "outputs": [],
   "source": [
    "from scipy.stats import ttest_ind\n",
    "features = [\n",
    "    \"TILs helsnitt\",\n",
    "    \"TILs TMA\",\n",
    "    \"immune_cluster\",\n",
    "    \"tumor_cluster\",\n",
    "    \"n_immune\",\n",
    "    \"n_tumor\",\n",
    "    \"stroma_tils\",\n",
    "    \"tumor_tils\",\n",
    "    \"immune_area\",\n",
    "    \"tumor_area\"\n",
    "]\n",
    "\n",
    "df = df_all1[df_all1[\"treated\"] == 1]\n",
    "groups = [\n",
    "    \"local_relapse\",\n",
    "    \"distant_relapse\",\n",
    "    \"dead\"\n",
    "]\n",
    "\n",
    "d = []\n",
    "for f in features:\n",
    "    for g in groups:\n",
    "        a = df[df[g] == 1][f].dropna()\n",
    "        b = df[df[g] == 0][f].dropna()\n",
    "        r, p = ttest_ind(a ,b)\n",
    "        d.append(\n",
    "        {\n",
    "            \"feature\" : f,\n",
    "            \"group\" : g,\n",
    "            \"r\" : r,\n",
    "            \"p\" : p,\n",
    "            \"n\" : (len(a), len(b))\n",
    "        })\n",
    "df_ttest = pd.DataFrame(d).sort_values(\"p\")\n",
    "df_ttest.iloc[:10]"
   ]
  }
 ],
 "metadata": {
  "kernelspec": {
   "display_name": "SweBCG91RT-Net",
   "language": "python",
   "name": "swebcg91rt-net"
  },
  "language_info": {
   "codemirror_mode": {
    "name": "ipython",
    "version": 3
   },
   "file_extension": ".py",
   "mimetype": "text/x-python",
   "name": "python",
   "nbconvert_exporter": "python",
   "pygments_lexer": "ipython3",
   "version": "3.8.2"
  }
 },
 "nbformat": 4,
 "nbformat_minor": 4
}
