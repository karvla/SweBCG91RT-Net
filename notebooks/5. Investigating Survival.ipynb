{
 "cells": [
  {
   "cell_type": "markdown",
   "metadata": {},
   "source": [
    "# 5. Investigating Survival/Recurrace\n",
    "This notebook is for exploring the connection between survival rate in TNBC and spacial distribution of TILs."
   ]
  },
  {
   "cell_type": "code",
   "execution_count": 1,
   "metadata": {},
   "outputs": [],
   "source": [
    "import pandas as pd\n",
    "from itertools import combinations\n",
    "import regex as re\n",
    "import seaborn as sns\n",
    "import numpy as np\n",
    "import matplotlib.pyplot as plt\n",
    "from dataset import TNBC2\n",
    "import os\n",
    "import numpy as np\n",
    "from numba import jit\n",
    "from tqdm import tqdm\n",
    "import matplotlib\n",
    "\n",
    "sns.set()\n",
    "sns.set_style(\"whitegrid\", {'axes.grid' : False})\n",
    "matplotlib.rcParams['font.family'] = \"serif\"\n"
   ]
  },
  {
   "cell_type": "code",
   "execution_count": 2,
   "metadata": {},
   "outputs": [],
   "source": [
    "df_pat = pd.read_excel('../data/tnbc2/256_TNBC__F_LEION_till_arvid.xlsx')\n",
    "df_pat = df_pat.replace(-0.99, np.NaN)\n",
    "df_pat = df_pat.replace(\"N/D\", np.NaN)\n",
    "\n",
    "df_pat[\"STR\"] = df_pat[\"TILs helsnitt\"]\n",
    "#df_pat[\"STR\"] = df_pat[\"TILs TMA\"]\n",
    "df_pat[\"nodes\"] = df_pat[\"Positive nodes\"]\n",
    "df_pat[\"age\"] = df_pat[\"Age at diagnosis\"]\n",
    "\n",
    "df_pat[\"treated\"] = df_pat[\"Chemo (schema)\"].apply(lambda x: x != \"None\")\n",
    "df_pat[\"relapse\"] = df_pat[\"Relapse yes 1 no 0\"].astype(np.bool)\n",
    "df_pat[\"dead\"] = df_pat[\"Dead yes 1 no 0\"].astype(np.bool)\n",
    "df_pat[\"OS\"] = df_pat[\"OS yes 1 no 0\"].astype(np.bool)\n",
    "df_pat[\"IDFS\"] = df_pat[\"IDFS yes 1 no 0\"].astype(np.bool)\n",
    "df_pat[\"DRFI\"] = df_pat[\"DRFI Breast cancer spec\"].astype(np.bool)\n",
    "\n",
    "df_pat[\"distant_relapse\"] = (df_pat[\"Months_surgery_distant_relapse\"] > 0)\n",
    "df_pat[\"local_relapse\"] = (df_pat[\"relapse\"].apply(int) - df_pat[\"distant_relapse\"].apply(int)) > 0\n",
    "\n",
    "df_pat[\"nodes\"] = df_pat[\"nodes\"].astype(float)"
   ]
  },
  {
   "cell_type": "code",
   "execution_count": 3,
   "metadata": {},
   "outputs": [],
   "source": [
    "import matplotlib.pyplot as plt\n",
    "import seaborn as sns\n",
    "from scipy.stats import pearsonr\n",
    "from scipy.spatial import distance\n",
    "\n",
    "def _image_path(patient_id):\n",
    "    block, letters, numbers = _tma_id(patient_id)\n",
    "    paths = []\n",
    "    dataset = TNBC2()\n",
    "    for let, num in zip(letters, numbers):\n",
    "        for file in os.listdir(dataset.image_dir):\n",
    "            b, n, l = re.findall(r\"Block_(\\d).*_(.*)_([A-Z])_\", file)[0]\n",
    "            if int(b) == block and int(n) == num and l == let:\n",
    "                paths.append(dataset.image_dir / file)\n",
    "    return paths\n",
    "\n",
    "def display(tma_id):\n",
    "    plt.figure(figsize=(20,10))\n",
    "    for n, path in enumerate(_image_path(tma_id), 1):\n",
    "        plt.subplot(1,2,n)\n",
    "        plt.imshow(imread(path))\n",
    "        \n",
    "def correlation(df, features):\n",
    "    corrmat = df[features].corr(method='spearman')\n",
    "    plt.figure(figsize=(8,8))\n",
    "    sns.clustermap(corrmat, vmin=-1, cmap=\"YlGnBu\", linewidth=0.1, annot=True)\n",
    "    \n",
    "def corrfunc(df, **kws):\n",
    "    x, y = zip(*df.dropna().values)\n",
    "    (r, p) = pearsonr(x, y)\n",
    "    ax = plt.gca()\n",
    "    ax.set_title(f\"r = {r:.2f}, p = {p:.2E}\")\n",
    "    "
   ]
  },
  {
   "cell_type": "markdown",
   "metadata": {},
   "source": [
    "## Split TILs into stromal and intratumoral\n",
    "\n",
    "<img src=\"../docs/stromal_intratumoral_tils.png\" width=\"500\" align=\"left\"/>\n"
   ]
  },
  {
   "cell_type": "code",
   "execution_count": 4,
   "metadata": {},
   "outputs": [],
   "source": [
    "\n",
    "def tumor_stroma_tils(immune_loc, tumor_loc, radius=[60], factor=2.0):\n",
    "    \"\"\" Estimates which immune cells are Stromal TILs and which\n",
    "        are Intratumoral.\"\"\"\n",
    "    n_tils= {}\n",
    "    \n",
    "    tumor_loc = np.array([list(coord) for coord in tumor_loc], np.float32)\n",
    "    immune_loc = np.array([list(coord) for coord in immune_loc], np.float32)\n",
    "    \n",
    "    if len(immune_loc) == 0 or len(tumor_loc) == 0:\n",
    "        return {}\n",
    "    \n",
    "    tumor_dist = distance.cdist(tumor_loc,immune_loc)\n",
    "    immune_dist = distance.cdist(immune_loc,immune_loc)\n",
    "    \n",
    "    for r in radius:\n",
    "        tumor_within_r = tumor_dist < r\n",
    "        immune_within_r = immune_dist < r\n",
    "    \n",
    "        n_tumor_within = tumor_within_r.sum(axis=0)\n",
    "        n_immune_within = immune_within_r.sum(axis=0)\n",
    "    \n",
    "        n_tils[f\"t_tils_{r}\"] = (n_tumor_within > n_immune_within*factor).astype(np.uint8).sum()\n",
    "        n_tils[f\"s_tils_{r}\"] = (n_tumor_within*factor < n_immune_within).astype(np.uint8).sum()\n",
    "        \n",
    "    return n_tils\n",
    "\n",
    "def ripleys_k(locations, radius=[200, 250, 300]):\n",
    "    \"\"\"en.wikipedia.org/wiki/Spatial_descriptive_statistics#Ripley.27s_K_and_L_functions\"\"\"\n",
    "    if len(locations) == 0:\n",
    "        return dict([\n",
    "            (f\"k_{r}\" , np.NaN) for r in radius\n",
    "        ])\n",
    "    locations = np.array([list(coord) for coord in locations], np.float32)\n",
    "    n = locations.shape[0]\n",
    "    distances = distance.cdist(locations, locations)\n",
    "    return dict([\n",
    "        (f\"k_{r}\" , 1024**2*np.sum(distances[0,1:] < r) / n**2) for r in radius\n",
    "    ])\n",
    "\n",
    "\n",
    "size = 8\n",
    "def display_cells(df):\n",
    "    tnbc = TNBC2()\n",
    "    for n, row in df.iterrows():\n",
    "        immune_loc = row[\"immune_loc\"]\n",
    "        tumor_loc = row[\"tumor_loc\"]\n",
    "        imid = row[\"image_id\"]\n",
    "        img = tnbc.load_image(imid)\n",
    "\n",
    "        tumor_tils, stroma_tils = tumor_stroma_tils(immune_loc, tumor_loc)\n",
    "\n",
    "        plt.figure(figsize=(20,10))\n",
    "        plt.subplot(121)\n",
    "        plt.imshow(img)\n",
    "        plt.subplot(122)\n",
    "        ax = plt.gca()\n",
    "        ax.invert_yaxis()\n",
    "        args = lambda locs: list(zip(*locs))[::-1]\n",
    "        plt.title(f\"Tumor cells: {len(tumor_loc)}\\n TILs: {len(immune_loc)}\")\n",
    "        plt.scatter(*args(tumor_loc), label=\"Tumor cells\", s=size)\n",
    "        #plt.scatter(*args(immune_loc), label=\"TILs\", s=size)\n",
    "        plt.scatter(*args(tumor_tils), label=\"Intratumoral TILs\", s=size)\n",
    "        plt.scatter(*args(stroma_tils), label=\"Stromal TILs\", s=size)\n",
    "        plt.legend()\n",
    "    \n",
    "def pat_id_wsi(image_id):\n",
    "    try:\n",
    "        return int(re.findall(r\"\\d+\", image_id)[0])\n",
    "    except:\n",
    "        return np.NaN\n",
    "\n",
    "def pat_id_tma(image_name):\n",
    "    block,  nr, letter = re.findall(r\"Block_(\\d).*_(.*)_([A-Z])_\", image_name)[0]\n",
    "    block_start = [1, 59, 113, 172, 210]\n",
    "    start = block_start[int(block)-1]\n",
    "    \n",
    "    letter = letter.lower()\n",
    "    key = np.array([i for i in range(start, start + int(10*12/2)) for n in range(2)]).reshape((10,12))\n",
    "    pat_id = key[int(nr)-1][11 - (ord(letter) - 97)]\n",
    "    return pat_id\n",
    "    \n",
    "def _tma_id(patient_id):\n",
    "    block_start = [1, 59, 113, 172, 210]\n",
    "    start = [s for s in block_start if patient_id >= s][-1]\n",
    "    block = block_start.index(start) + 1\n",
    "            \n",
    "    key = np.array([i for i in range(start, start + int(10*12/2)) for n in range(2)]).reshape((10,12))\n",
    "    Y, X = np.where(key == patient_id) \n",
    "    letters = [chr(11 - (x - 97)).upper() for x in X]\n",
    "    numbers = list(Y + 1)\n",
    "    return block, letters, numbers\n",
    "    "
   ]
  },
  {
   "cell_type": "code",
   "execution_count": 5,
   "metadata": {},
   "outputs": [],
   "source": [
    "with pd.option_context('display.max_rows', None, 'display.max_columns', None):  # more options can be specified also\n",
    "    pass\n",
    "    #print(df_wsi.sort_values(\"TMAid\"))\n",
    "    #print(df_wsi[\"TMAid\"].value_counts())"
   ]
  },
  {
   "cell_type": "code",
   "execution_count": 36,
   "metadata": {},
   "outputs": [],
   "source": [
    "from joblib import Memory\n",
    "\n",
    "memory = Memory('./cache/')\n",
    "\n",
    "def extract_features(path):\n",
    "    df = pd.read_feather(path)\n",
    "    \n",
    "    n_tils = ([\n",
    "        tumor_stroma_tils(imloc, tumloc, [10, 50, 100])\n",
    "        for imloc, tumloc in tqdm(zip(df[\"immune_loc\"], df[\"tumor_loc\"]), total=len(df))\n",
    "    ])\n",
    "    df = pd.concat([df, pd.DataFrame(n_tils)], axis=1)\n",
    "    \n",
    "    r = [10, 100, 300]\n",
    "    df_immune_k = pd.DataFrame([ripleys_k(imloc, r) for imloc in tqdm(df[\"immune_loc\"])])\n",
    "    df = pd.concat([df, df_immune_k.add_prefix(\"immune_\")], axis=1)\n",
    "                                     \n",
    "    df_tumor_k = pd.DataFrame([ripleys_k(tumloc, r) for tumloc in tqdm(df[\"tumor_loc\"])])\n",
    "    df = pd.concat([df, df_tumor_k.add_prefix(\"tumor_\")], axis=1)\n",
    "    return df\n",
    "\n",
    "\n",
    "def merge_patient_data_wsi(df_wsi, df_pat):\n",
    "    df_mean = df_wsi.groupby(\"image_id\").mean().reset_index()\n",
    "    df_mean[\"TMAid\"] = df_mean[\"image_id\"].apply(pat_id_wsi)\n",
    "    df_all = pd.merge(df_pat, df_mean, how='inner', on=[\"TMAid\"])\n",
    "    return df_all\n",
    "\n",
    "def merge_patient_data_tma(df_tma, df_pat):\n",
    "    df_mean = df_tma.groupby(\"image_id\").mean().reset_index()\n",
    "    df_mean[\"TMAid\"] = df_mean[\"image_id\"].apply(pat_id_tma)\n",
    "    df_all = pd.merge(df_pat, df_mean, how='inner', on=[\"TMAid\"])\n",
    "\n",
    "    return df_all\n"
   ]
  },
  {
   "cell_type": "code",
   "execution_count": 7,
   "metadata": {},
   "outputs": [],
   "source": [
    "#pd.concat([pd.read_feather(\"./wsi_quip2_0.2_5_1.0_800_part1.feather\"),\n",
    "#           pd.read_feather(\"./.tmp.pickle\")]).reset_index(\n",
    "#).to_feather(\"./wsi_quip2_0.2_5_1.0_800.feather\")\n",
    "#df = pd.read_feather(\"./wsi_quip2_0.2_5_1.0_800.feather\")"
   ]
  },
  {
   "cell_type": "code",
   "execution_count": 61,
   "metadata": {},
   "outputs": [
    {
     "name": "stderr",
     "output_type": "stream",
     "text": [
      "100%|██████████| 210537/210537 [02:27<00:00, 1431.42it/s]\n",
      "100%|██████████| 210537/210537 [00:41<00:00, 5044.57it/s]\n",
      "100%|██████████| 210537/210537 [01:38<00:00, 2133.87it/s]\n"
     ]
    }
   ],
   "source": [
    "df_wsi = None\n",
    "df_wsi = extract_features('./wsi_quip2_0.2_5_1.0_800.feather')"
   ]
  },
  {
   "cell_type": "code",
   "execution_count": 62,
   "metadata": {},
   "outputs": [],
   "source": [
    "df_all = merge_patient_data_wsi(df_wsi, df_pat)\n",
    "#auc_formula(df_all[df_all[\"treated\"]], f\"distant_relapse ~ n_tumor\")"
   ]
  },
  {
   "cell_type": "code",
   "execution_count": 63,
   "metadata": {},
   "outputs": [
    {
     "data": {
      "text/plain": [
       "<AxesSubplot:ylabel='Frequency'>"
      ]
     },
     "execution_count": 63,
     "metadata": {},
     "output_type": "execute_result"
    },
    {
     "data": {
      "image/png": "[encoded data removed]",
      "text/plain": [
       "<Figure size 432x288 with 1 Axes>"
      ]
     },
     "metadata": {},
     "output_type": "display_data"
    }
   ],
   "source": [
    "df_wsi[\"n_tumor\"].plot.hist()\n",
    "df_wsi[\"n_immune\"].plot.hist()"
   ]
  },
  {
   "cell_type": "code",
   "execution_count": 64,
   "metadata": {},
   "outputs": [],
   "source": [
    "def plot_compare(ylabels, xlabels, df, **kwargs):\n",
    "    plt.figure(figsize=(5*len(ylabels),4))\n",
    "    features = [[x, y] for x in xlabels for y in ylabels]\n",
    "    for n, feat in enumerate(features, 1):\n",
    "        plt.subplot(1,len(ylabels),n)\n",
    "        sns.scatterplot(data=df, x=feat[0], y=feat[1], **kwargs)\n",
    "        corrfunc(df[feat])"
   ]
  },
  {
   "cell_type": "code",
   "execution_count": 65,
   "metadata": {},
   "outputs": [
    {
     "data": {
      "image/png": "[encoded data removed]",
      "text/plain": [
       "<Figure size 360x288 with 1 Axes>"
      ]
     },
     "metadata": {},
     "output_type": "display_data"
    }
   ],
   "source": [
    "plot_compare([\"immune_k_100\"], [\"immune_k_10\"], df_all[df_all[\"treated\"]], hue=\"distant_relapse\")"
   ]
  },
  {
   "cell_type": "code",
   "execution_count": 66,
   "metadata": {},
   "outputs": [],
   "source": [
    "import statsmodels.api as sm\n",
    "from numpy import mean\n",
    "from numpy import std\n",
    "from sklearn.datasets import make_classification\n",
    "from sklearn.model_selection import StratifiedKFold\n",
    "from sklearn.model_selection import GridSearchCV\n",
    "from sklearn.metrics import confusion_matrix, roc_curve, roc_auc_score\n",
    "from sklearn.ensemble import RandomForestClassifier\n",
    "from sklearn import preprocessing\n",
    "import seaborn as sn\n",
    "from imblearn.over_sampling import SMOTE\n",
    "from imblearn.under_sampling import RandomUnderSampler\n",
    "from imblearn.pipeline import Pipeline\n",
    "from sklearn.preprocessing import PolynomialFeatures\n",
    "\n",
    "from sklearn.preprocessing import StandardScaler\n",
    "from sklearn.datasets import make_moons, make_circles, make_classification\n",
    "from sklearn.neural_network import MLPClassifier\n",
    "from sklearn.neighbors import KNeighborsClassifier\n",
    "from sklearn.svm import LinearSVC as SVC\n",
    "from sklearn.gaussian_process import GaussianProcessClassifier\n",
    "from sklearn.gaussian_process.kernels import RBF\n",
    "from sklearn.tree import DecisionTreeClassifier\n",
    "from sklearn.ensemble import RandomForestClassifier, AdaBoostClassifier\n",
    "from sklearn.naive_bayes import GaussianNB\n",
    "from sklearn.discriminant_analysis import QuadraticDiscriminantAnalysis\n",
    "from sklearn.linear_model import LogisticRegression\n",
    "from numpy.linalg import LinAlgError\n",
    "from statsmodels.tools.sm_exceptions import PerfectSeparationError\n",
    "from sklearn.neural_network import MLPClassifier\n",
    "\n",
    "\n",
    "def _results_to_pandas(summary):\n",
    "    return pd.read_html(summary.tables[1].as_html(), header=0, index_col=0)[0]\n",
    "\n",
    "def logit(x_train, y_train, x_val, y_val):\n",
    "    try:\n",
    "        model = sm.Logit(y_train, x_train).fit(disp=False)\n",
    "        return model.predict(x_val), model\n",
    "    except (LinAlgError, PerfectSeparationError):\n",
    "        return np.random.rand(*y_val.shape), None\n",
    "        \n",
    "def logit_sklearn(x_train, y_train, x_val, y_val):\n",
    "    model = LogisticRegression()\n",
    "    model.fit(x_train, y_train.ravel())\n",
    "    return model.predict(x_val)\n",
    "\n",
    "def scv(x_train, y_train, x_val, y_val):\n",
    "    model = SVC(max_iter=80000)\n",
    "    model.fit(x_train, y_train.ravel())\n",
    "    return model.predict(x_val), None\n",
    "\n",
    "def mlp(x_train, y_train, x_val, y_val):\n",
    "    model = MLPClassifier((5,2), max_iter=9000)\n",
    "    model.fit(x_train, y_train.ravel())\n",
    "    return model.predict(x_val), None\n",
    "\n",
    "def random_forest(x_train, y_train, x_val, y_val):\n",
    "    model = RandomForestClassifier()\n",
    "    model.fit(x_train, y_train.ravel())\n",
    "    return model.predict(x_val), None\n",
    "\n",
    "def cross_validation(y, X, model = logit):\n",
    "    if len(y.shape) > 1:\n",
    "        y = y.iloc[:,0]\n",
    "\n",
    "    X = (X-X.mean())/X.std()\n",
    "    X[\"Intercept\"] = 1.0\n",
    "    \n",
    "    true, pred, = ([], [])\n",
    "    summaries = []\n",
    "    \n",
    "    cv_outer = StratifiedKFold(n_splits=5, shuffle=True, random_state=1)\n",
    "    for train_val_idx, test_idx in cv_outer.split(X, y):\n",
    "        X_train_val, X_test = X.iloc[train_val_idx], X.iloc[test_idx]\n",
    "        y_train_val, y_test = y.iloc[train_val_idx], y.iloc[test_idx]\n",
    "\n",
    "        cv_inner = StratifiedKFold(n_splits=5, shuffle=True, random_state=1)\n",
    "        for train_idx, val_idx in cv_inner.split(X_train_val, y_train_val):\n",
    "            x_train, x_val = X_train_val.iloc[train_idx], X_train_val.iloc[val_idx]\n",
    "            y_train, y_val = y_train_val.iloc[train_idx], y_train_val.iloc[val_idx]\n",
    "\n",
    "            #x_train, y_train = pipeline.fit_resample(x_train, y_train)\n",
    "            \n",
    "            y_pred, m = model(x_train, y_train, x_val, y_val)\n",
    "            true.extend(list(y_val))\n",
    "            pred.extend(list(y_pred))\n",
    "            if m:\n",
    "                summaries.append(_results_to_pandas(m.summary()))\n",
    "                \n",
    "    if summaries:\n",
    "        result = sum(summaries) / len(summaries)\n",
    "    else:\n",
    "        result = None\n",
    "        \n",
    "    return true, pred, result"
   ]
  },
  {
   "cell_type": "code",
   "execution_count": 67,
   "metadata": {},
   "outputs": [],
   "source": [
    "from itertools import combinations, chain, product, permutations\n",
    "from tqdm import tqdm\n",
    "from patsy import dmatrices, dmatrix\n",
    "from scipy.stats import pearsonr\n",
    "group = [\"distant_relapse\"]\n",
    "\n",
    "features = [\n",
    "    \"STR\",\n",
    "    \"n_immune\",\n",
    "    \"n_tumor\",\n",
    "    \"tumor_area\",\n",
    "    \"immune_area\",\n",
    "    \"age\",\n",
    "    \"nodes\",\n",
    "    'tumor_k_100',\n",
    "    'immune_k_100',\n",
    "    \"t_tils_100\",\n",
    "    \"s_tils_100\",\n",
    "]\n",
    "\n",
    "#features.extend([\n",
    "#    c for c in df_all.columns \n",
    "#    if c.startswith(\"tumor_k\") \n",
    "#    or c.startswith(\"immune_k\")\n",
    "#    or c.startswith(\"t_tils\")\n",
    "#    or c.startswith(\"s_tils\")\n",
    "#])\n",
    "\n",
    "pd.options.mode.chained_assignment = None\n",
    "\n",
    "def _add_intercept(df):\n",
    "    df = pd.DataFrame(df)\n",
    "    df[\"Intercept\"] = 1.0\n",
    "    return df\n",
    "    \n",
    "\n",
    "def try_interactions(data, features, group, n_features = [1]):\n",
    "    d = []\n",
    "    for f in tqdm(list(chain(*[combinations(features, i) for i in n_features]))):\n",
    "        f = list(f)\n",
    "        nona = data[f + [group]].dropna()\n",
    "        y = nona[group]\n",
    "        X = nona[f]\n",
    "        true, pred, results = cross_validation(y, X, logit)\n",
    "        auc = roc_auc_score(true, pred)\n",
    "        fpr, tpr, thresholds = roc_curve(true, pred)\n",
    "        d.append({\n",
    "            \"formula\" : '+'.join(f),\n",
    "            \"AUC\" : auc,\n",
    "            \"tpr\" : tpr,\n",
    "            \"fpr\" : fpr,\n",
    "            \"thresh\" : thresholds,\n",
    "            \"model\" : results,\n",
    "        })\n",
    "            \n",
    "    return pd.DataFrame(d).sort_values(\"AUC\", ascending=False)\n",
    "\n",
    "def best_features(df,features, target, n=10):\n",
    "    result = []\n",
    "    for f in features:\n",
    "        y, X = dmatrices(f\"{target} ~ {f}\", df, NA_action='drop', return_type='dataframe')\n",
    "        true, pred, _ = cross_validation(y, X, logit)\n",
    "        auc = roc_auc_score(true, pred)\n",
    "        result.append((f, auc))\n",
    "        \n",
    "    return [f[0] for f in sorted(result, key = lambda x: x[1], reverse=True)[:n]]\n",
    "\n",
    "def filter_correlated(df, corr_limit = 0.9):\n",
    "    corr_matrix = df.corr().abs()\n",
    "    upper = corr_matrix.where(np.triu(np.ones(corr_matrix.shape), k=1).astype(np.bool))\n",
    "    to_drop = [column for column in upper.columns if any(upper[column] > corr_limit)]\n",
    "    return df.drop(to_drop, axis=1)\n",
    "\n",
    "def high_correlation(df, corr_limit):\n",
    "    return [(a,b) for a, b in combinations(df.columns, 2)\n",
    "            if df[[a,b]].corr().iloc[0,1] > corr_limit]\n",
    "\n",
    "def worse_predictor(df, feature_pairs, target):\n",
    "    f = []\n",
    "    for a, b in feature_pairs:\n",
    "        f.append(min(a,b, key = lambda x: auc_formula(df, f\"{target} ~ {x}\")))\n",
    "    return set(f)\n",
    "\n",
    "def auc_formula(data, formula):\n",
    "    y, X = dmatrices(formula, data, NA_action='drop', return_type='dataframe')\n",
    "    true, pred, m = cross_validation(y, X, logit)\n",
    "   # print(m)\n",
    "    return roc_auc_score(true, pred)\n"
   ]
  },
  {
   "cell_type": "code",
   "execution_count": 68,
   "metadata": {},
   "outputs": [
    {
     "data": {
      "text/plain": [
       "0.6951883647397394"
      ]
     },
     "execution_count": 68,
     "metadata": {},
     "output_type": "execute_result"
    }
   ],
   "source": [
    "df_all[features[:2]].corr().iloc[0,1]"
   ]
  },
  {
   "cell_type": "code",
   "execution_count": 69,
   "metadata": {},
   "outputs": [
    {
     "data": {
      "text/plain": [
       "2046"
      ]
     },
     "execution_count": 69,
     "metadata": {},
     "output_type": "execute_result"
    }
   ],
   "source": [
    "len(list(chain(*[combinations(features, i) for i in range(1,len(features))])))"
   ]
  },
  {
   "cell_type": "code",
   "execution_count": 70,
   "metadata": {},
   "outputs": [
    {
     "data": {
      "text/plain": [
       "0.7114507299270073"
      ]
     },
     "execution_count": 70,
     "metadata": {},
     "output_type": "execute_result"
    }
   ],
   "source": [
    "auc_formula(df_all[df_all[\"treated\"]], f\"distant_relapse ~ n_immune\")"
   ]
  },
  {
   "cell_type": "code",
   "execution_count": 71,
   "metadata": {},
   "outputs": [
    {
     "data": {
      "text/html": [
       "<div>\n",
       "<style scoped>\n",
       "    .dataframe tbody tr th:only-of-type {\n",
       "        vertical-align: middle;\n",
       "    }\n",
       "\n",
       "    .dataframe tbody tr th {\n",
       "        vertical-align: top;\n",
       "    }\n",
       "\n",
       "    .dataframe thead th {\n",
       "        text-align: right;\n",
       "    }\n",
       "</style>\n",
       "<table border=\"1\" class=\"dataframe\">\n",
       "  <thead>\n",
       "    <tr style=\"text-align: right;\">\n",
       "      <th></th>\n",
       "      <th>STR</th>\n",
       "      <th>n_immune</th>\n",
       "      <th>n_tumor</th>\n",
       "      <th>tumor_area</th>\n",
       "      <th>immune_area</th>\n",
       "      <th>age</th>\n",
       "      <th>nodes</th>\n",
       "      <th>tumor_k_100</th>\n",
       "      <th>immune_k_100</th>\n",
       "      <th>t_tils_100</th>\n",
       "      <th>s_tils_100</th>\n",
       "    </tr>\n",
       "  </thead>\n",
       "  <tbody>\n",
       "    <tr>\n",
       "      <th>0</th>\n",
       "      <td>0.35</td>\n",
       "      <td>89.482544</td>\n",
       "      <td>214.337905</td>\n",
       "      <td>124352.632170</td>\n",
       "      <td>10595.902743</td>\n",
       "      <td>32</td>\n",
       "      <td>0.0</td>\n",
       "      <td>326.226538</td>\n",
       "      <td>598.793086</td>\n",
       "      <td>22.547382</td>\n",
       "      <td>27.869077</td>\n",
       "    </tr>\n",
       "    <tr>\n",
       "      <th>1</th>\n",
       "      <td>0.65</td>\n",
       "      <td>124.878901</td>\n",
       "      <td>255.027466</td>\n",
       "      <td>165228.555556</td>\n",
       "      <td>16108.255930</td>\n",
       "      <td>82</td>\n",
       "      <td>0.0</td>\n",
       "      <td>142.390544</td>\n",
       "      <td>244.411009</td>\n",
       "      <td>33.217228</td>\n",
       "      <td>20.058677</td>\n",
       "    </tr>\n",
       "    <tr>\n",
       "      <th>2</th>\n",
       "      <td>0.40</td>\n",
       "      <td>65.453300</td>\n",
       "      <td>93.429639</td>\n",
       "      <td>38609.535492</td>\n",
       "      <td>8965.356164</td>\n",
       "      <td>64</td>\n",
       "      <td>0.0</td>\n",
       "      <td>752.465337</td>\n",
       "      <td>1422.240771</td>\n",
       "      <td>8.010076</td>\n",
       "      <td>28.392947</td>\n",
       "    </tr>\n",
       "    <tr>\n",
       "      <th>3</th>\n",
       "      <td>0.40</td>\n",
       "      <td>108.946384</td>\n",
       "      <td>241.089776</td>\n",
       "      <td>146677.657107</td>\n",
       "      <td>13902.001247</td>\n",
       "      <td>62</td>\n",
       "      <td>0.0</td>\n",
       "      <td>195.220944</td>\n",
       "      <td>385.134434</td>\n",
       "      <td>29.253117</td>\n",
       "      <td>26.405237</td>\n",
       "    </tr>\n",
       "    <tr>\n",
       "      <th>4</th>\n",
       "      <td>0.10</td>\n",
       "      <td>56.811721</td>\n",
       "      <td>107.375312</td>\n",
       "      <td>45444.980050</td>\n",
       "      <td>8095.572319</td>\n",
       "      <td>70</td>\n",
       "      <td>1.0</td>\n",
       "      <td>775.604807</td>\n",
       "      <td>1397.421012</td>\n",
       "      <td>7.571250</td>\n",
       "      <td>22.706250</td>\n",
       "    </tr>\n",
       "    <tr>\n",
       "      <th>...</th>\n",
       "      <td>...</td>\n",
       "      <td>...</td>\n",
       "      <td>...</td>\n",
       "      <td>...</td>\n",
       "      <td>...</td>\n",
       "      <td>...</td>\n",
       "      <td>...</td>\n",
       "      <td>...</td>\n",
       "      <td>...</td>\n",
       "      <td>...</td>\n",
       "      <td>...</td>\n",
       "    </tr>\n",
       "    <tr>\n",
       "      <th>215</th>\n",
       "      <td>0.70</td>\n",
       "      <td>78.988764</td>\n",
       "      <td>325.264669</td>\n",
       "      <td>166300.460674</td>\n",
       "      <td>11385.925094</td>\n",
       "      <td>64</td>\n",
       "      <td>0.0</td>\n",
       "      <td>67.049334</td>\n",
       "      <td>483.238364</td>\n",
       "      <td>39.159800</td>\n",
       "      <td>3.912609</td>\n",
       "    </tr>\n",
       "    <tr>\n",
       "      <th>216</th>\n",
       "      <td>0.60</td>\n",
       "      <td>86.818528</td>\n",
       "      <td>157.368020</td>\n",
       "      <td>66387.087563</td>\n",
       "      <td>12667.616751</td>\n",
       "      <td>32</td>\n",
       "      <td>0.0</td>\n",
       "      <td>361.640672</td>\n",
       "      <td>2265.988313</td>\n",
       "      <td>15.696154</td>\n",
       "      <td>28.524359</td>\n",
       "    </tr>\n",
       "    <tr>\n",
       "      <th>217</th>\n",
       "      <td>0.15</td>\n",
       "      <td>35.400996</td>\n",
       "      <td>153.377335</td>\n",
       "      <td>58033.777086</td>\n",
       "      <td>4629.737235</td>\n",
       "      <td>56</td>\n",
       "      <td>0.0</td>\n",
       "      <td>1229.884842</td>\n",
       "      <td>3327.934800</td>\n",
       "      <td>14.310167</td>\n",
       "      <td>3.845560</td>\n",
       "    </tr>\n",
       "    <tr>\n",
       "      <th>218</th>\n",
       "      <td>0.10</td>\n",
       "      <td>34.172070</td>\n",
       "      <td>243.500000</td>\n",
       "      <td>116645.746883</td>\n",
       "      <td>4171.168329</td>\n",
       "      <td>43</td>\n",
       "      <td>0.0</td>\n",
       "      <td>142.915293</td>\n",
       "      <td>1135.547841</td>\n",
       "      <td>18.890704</td>\n",
       "      <td>3.265075</td>\n",
       "    </tr>\n",
       "    <tr>\n",
       "      <th>219</th>\n",
       "      <td>0.10</td>\n",
       "      <td>50.404467</td>\n",
       "      <td>174.178660</td>\n",
       "      <td>83155.825062</td>\n",
       "      <td>6779.579404</td>\n",
       "      <td>51</td>\n",
       "      <td>3.0</td>\n",
       "      <td>270.273631</td>\n",
       "      <td>1566.590834</td>\n",
       "      <td>15.478908</td>\n",
       "      <td>8.076923</td>\n",
       "    </tr>\n",
       "  </tbody>\n",
       "</table>\n",
       "<p>220 rows × 11 columns</p>\n",
       "</div>"
      ],
      "text/plain": [
       "      STR    n_immune     n_tumor     tumor_area   immune_area  age  nodes  \\\n",
       "0    0.35   89.482544  214.337905  124352.632170  10595.902743   32    0.0   \n",
       "1    0.65  124.878901  255.027466  165228.555556  16108.255930   82    0.0   \n",
       "2    0.40   65.453300   93.429639   38609.535492   8965.356164   64    0.0   \n",
       "3    0.40  108.946384  241.089776  146677.657107  13902.001247   62    0.0   \n",
       "4    0.10   56.811721  107.375312   45444.980050   8095.572319   70    1.0   \n",
       "..    ...         ...         ...            ...           ...  ...    ...   \n",
       "215  0.70   78.988764  325.264669  166300.460674  11385.925094   64    0.0   \n",
       "216  0.60   86.818528  157.368020   66387.087563  12667.616751   32    0.0   \n",
       "217  0.15   35.400996  153.377335   58033.777086   4629.737235   56    0.0   \n",
       "218  0.10   34.172070  243.500000  116645.746883   4171.168329   43    0.0   \n",
       "219  0.10   50.404467  174.178660   83155.825062   6779.579404   51    3.0   \n",
       "\n",
       "     tumor_k_100  immune_k_100  t_tils_100  s_tils_100  \n",
       "0     326.226538    598.793086   22.547382   27.869077  \n",
       "1     142.390544    244.411009   33.217228   20.058677  \n",
       "2     752.465337   1422.240771    8.010076   28.392947  \n",
       "3     195.220944    385.134434   29.253117   26.405237  \n",
       "4     775.604807   1397.421012    7.571250   22.706250  \n",
       "..           ...           ...         ...         ...  \n",
       "215    67.049334    483.238364   39.159800    3.912609  \n",
       "216   361.640672   2265.988313   15.696154   28.524359  \n",
       "217  1229.884842   3327.934800   14.310167    3.845560  \n",
       "218   142.915293   1135.547841   18.890704    3.265075  \n",
       "219   270.273631   1566.590834   15.478908    8.076923  \n",
       "\n",
       "[220 rows x 11 columns]"
      ]
     },
     "execution_count": 71,
     "metadata": {},
     "output_type": "execute_result"
    }
   ],
   "source": [
    "df_all[features]"
   ]
  },
  {
   "cell_type": "code",
   "execution_count": 72,
   "metadata": {},
   "outputs": [],
   "source": [
    "def select_features(df, target, treated):\n",
    "    df = df[df[\"treated\"] == int(treated)]\n",
    "    df_target = df[target]\n",
    "    df[target] = df_target\n",
    "    df_results = try_interactions(df, features, target, n_features=range(1,len(features)+1))\n",
    "    df_results[\"Treated\"] = treated\n",
    "    df_results[\"Outcome\"] = target\n",
    "    return df_results\n",
    "#def select_features(df, target, treated):\n",
    "#    df = df[df[\"treated\"] == int(treated)]\n",
    "#    df_target = df[target]\n",
    "#    f = filter_correlated(df[features],  0.95).columns\n",
    "#    df = dmatrix(f\"({'+'.join(f)})**3 - 1\", df, return_type='dataframe')\n",
    "#    f = df.columns\n",
    "#    df[target] = df_target\n",
    "#    f = best_features(df, f, target, 20)\n",
    "#    f = filter_correlated(df[f],  0.95).columns\n",
    "#    df_results = try_interactions(df, f, target, n_features=[1,2,3,4]) \n",
    "#    df_results[\"Treated\"] = treated\n",
    "#    df_results[\"Outcome\"] = target\n",
    "#    return df_results.head()"
   ]
  },
  {
   "cell_type": "code",
   "execution_count": 74,
   "metadata": {},
   "outputs": [
    {
     "name": "stderr",
     "output_type": "stream",
     "text": [
      "100%|██████████| 2047/2047 [14:24<00:00,  2.37it/s]\n"
     ]
    }
   ],
   "source": [
    "distant_treated = select_features(df_all, \"distant_relapse\", treated=True)"
   ]
  },
  {
   "cell_type": "code",
   "execution_count": null,
   "metadata": {},
   "outputs": [
    {
     "name": "stderr",
     "output_type": "stream",
     "text": [
      " 16%|█▌        | 328/2047 [01:55<10:45,  2.66it/s]"
     ]
    }
   ],
   "source": [
    "local_treated = select_features(df_all, \"local_relapse\", treated=True)"
   ]
  },
  {
   "cell_type": "code",
   "execution_count": null,
   "metadata": {},
   "outputs": [],
   "source": [
    "dead_treated = select_features(df_all, \"dead\", treated=True)"
   ]
  },
  {
   "cell_type": "code",
   "execution_count": null,
   "metadata": {},
   "outputs": [],
   "source": [
    "def label(feature):\n",
    "    return feature\n",
    "    r = re.findall(\"\\d{1,3}\", feature)\n",
    "    if feature == \"n_immune\":\n",
    "        return \"$N_i$\"\n",
    "    elif feature == \"n_tumor\":\n",
    "        return \"$N_t$\"\n",
    "    elif feature == \"immune_area\":\n",
    "        return \"$A_i$\"\n",
    "    elif feature == \"tumor_area\":\n",
    "        return \"$A_t$\"\n",
    "    elif feature.startswith(\"s_tils\"):\n",
    "        return \"$N_{is}(\" + r[0] + \")$\"\n",
    "    elif feature.startswith(\"t_tils\"):\n",
    "        return \"$N_{it}(\" + r[0] + \")$\"\n",
    "    elif feature.startswith(\"immune_k\"):\n",
    "        return \"$K_{i}(\" + r[0] + \")$\"\n",
    "    elif feature.startswith(\"tumor_k\"):\n",
    "        return \"$K_{t}(\" + r[0] + \")$\"\n",
    "    else:\n",
    "        return feature\n",
    "\n",
    "def plot_roc(df, i=5):\n",
    "    for _, row in list(df.iterrows())[:i]:\n",
    "        print(row[\"model\"])\n",
    "        x = row[\"fpr\"]\n",
    "        y = row[\"tpr\"]\n",
    "        auc= round(row[\"AUC\"], 3)\n",
    "        sns.lineplot(x=x, y=y, linewidth=4, label=f\"{label(row['formula'])}, AUC: {auc}\")\n",
    "        \n",
    "plt.figure(figsize=(15, 5))\n",
    "plt.tight_layout()\n",
    "matplotlib.rcParams['font.size'] = 20\n",
    "\n",
    "plt.subplot(131)\n",
    "title = \"Distant relapse\"\n",
    "plt.title(title)\n",
    "plot_roc(distant_treated)\n",
    "plt.ylabel(\"True positive rate\")\n",
    "plt.xlabel(\"False positive rate\")\n",
    "\n",
    "plt.subplot(132)\n",
    "plt.title(\"Local relapse\")\n",
    "plot_roc(local_treated)\n",
    "plt.xlabel(\"False positive rate\")\n",
    "\n",
    "plt.subplot(133)\n",
    "plt.title(\"Overall survival\")\n",
    "plot_roc(dead_treated)\n",
    "plt.xlabel(\"False positive rate\")\n",
    "plt.savefig(\"../docs/outcome_roc_tma.svg\", bbox_inches='tight')"
   ]
  },
  {
   "cell_type": "code",
   "execution_count": null,
   "metadata": {},
   "outputs": [],
   "source": [
    "# Without intercept"
   ]
  },
  {
   "cell_type": "code",
   "execution_count": null,
   "metadata": {},
   "outputs": [],
   "source": [
    "# With intercept"
   ]
  },
  {
   "cell_type": "code",
   "execution_count": null,
   "metadata": {
    "jupyter": {
     "source_hidden": true
    }
   },
   "outputs": [],
   "source": [
    "target = \"local_relapse\"\n",
    "df = df_all[df_all[\"treated\"] == 1]\n",
    "df_target = df[target]\n",
    "f = filter_correlated(df[features],  0.90).columns\n",
    "df = dmatrix(f\"({'+'.join(f)})**3 - 1\", df, return_type='dataframe')\n",
    "f = df.columns\n",
    "df[target] = df_target\n",
    "print(len(f))\n",
    "f = best_features(df, f, target, 20)\n",
    "f = filter_correlated(df[f],  0.95).columns\n",
    "df_distant = try_interactions(df, f, target, n_features=[1,2,3,4]) "
   ]
  },
  {
   "cell_type": "code",
   "execution_count": null,
   "metadata": {
    "jupyter": {
     "source_hidden": true
    }
   },
   "outputs": [],
   "source": [
    "plt.figure(figsize=(8,8))\n",
    "plt.title(\"Local relapse, 800 tiles\")\n",
    "for n, row in df_distant.iloc[0:20].iterrows():\n",
    "    plt.plot(*row[\"roc\"], label=f\"{round(row['AUC'],3)} {row['formula']}\")\n",
    "plt.legend()\n",
    "plt.legend(bbox_to_anchor=(1.05, 1), loc=2, borderaxespad=0.)"
   ]
  },
  {
   "cell_type": "code",
   "execution_count": null,
   "metadata": {},
   "outputs": [],
   "source": [
    "def test_samples(df_wsi, formula):\n",
    "    d = []\n",
    "    n_max = df_wsi[\"image_id\"].value_counts().min()\n",
    "    print(n_max)\n",
    "    for n in tqdm([1,5,10,100, n_max]):\n",
    "        for i in range(10):\n",
    "            df_wsi_sample = df_wsi.groupby(\"image_id\").sample(n, replace=False)\n",
    "            \n",
    "\n",
    "            df = merge_patient_data_wsi(df_wsi_sample, df_pat[df_pat[\"treated\"]])\n",
    "            y, X = dmatrices(formula, df, NA_action = \"drop\", return_type=\"dataframe\")\n",
    "            true, pred, _ = cross_validation(y, X, logit)\n",
    "            auc = roc_auc_score(true, pred)\n",
    "            tpr, fpr, thresholds = roc_curve(true, pred)\n",
    "            d.append({\n",
    "                \"Number of samples\" : n,\n",
    "                \"formula\" : formula,\n",
    "                \"AUC\" : auc,\n",
    "                \"roc\" : (tpr, fpr),\n",
    "                \"thresh\" : thresholds,\n",
    "            })\n",
    "        \n",
    "    return pd.DataFrame(d)\n"
   ]
  },
  {
   "cell_type": "code",
   "execution_count": null,
   "metadata": {},
   "outputs": [],
   "source": [
    "#results_distant = test_samples(df_wsi, df_distant[\"formula\"].iloc[0])\n",
    "results_distant = test_samples(df_wsi, \"distant_relapse ~ n_immune\")\n"
   ]
  },
  {
   "cell_type": "code",
   "execution_count": null,
   "metadata": {},
   "outputs": [],
   "source": [
    "sns.swarmplot(data=results_distant, y=\"AUC\", x=\"Number of samples\")"
   ]
  },
  {
   "cell_type": "code",
   "execution_count": null,
   "metadata": {},
   "outputs": [],
   "source": [
    "results_local = test_samples(df_wsi, df_local[\"formula\"].iloc[0])\n",
    "plt.figure()\n",
    "sns.boxplot(data=results_distant, y=\"AUC\", x=\"n_samples\")"
   ]
  },
  {
   "cell_type": "code",
   "execution_count": null,
   "metadata": {},
   "outputs": [],
   "source": [
    "formula = \"distant_relapse ~ n_tumor*(tumor_tils1+tumor_cluster)\"\n",
    "print(results_distant[\"formula\"].iloc[0])\n",
    "\n",
    "df_wsi_sample = df_wsi.groupby(\"image_id\").sample(400, replace=False)\n",
    "df = merge_patient_data(df_wsi_sample, df_pat[df_pat[\"treated\"] == 1])\n",
    "df = df[features + [\"distant_relapse\"]].replace([np.inf, -np.inf], np.nan).dropna()\n",
    "y, X = dmatrices(formula, df, NA_action=\"drop\")\n",
    "true, pred = cross_validation(y, X, logit)\n",
    "auc = roc_auc_score(true, pred)\n",
    "tpr, fpr, thresholds = roc_curve(true, pred)\n",
    "print(auc)"
   ]
  },
  {
   "cell_type": "code",
   "execution_count": null,
   "metadata": {},
   "outputs": [],
   "source": [
    "df_all[\"nodes\"].isna().value_counts()"
   ]
  },
  {
   "cell_type": "code",
   "execution_count": null,
   "metadata": {},
   "outputs": [],
   "source": [
    "import os \n",
    "from shutil import copyfile\n",
    "path = \"../data/tnbc_wsi/images/\"\n",
    "for image_name in os.listdir(path):\n",
    "    pat_id =  pat_id_wsi(image_name)\n",
    "    if pat_id in df_pat.index and df_pat.loc[pat_id][\"treated\"]:\n",
    "        copyfile(os.path.join(path, image_name), \"../data/tnbc_wsi/treated/\" + image_name)"
   ]
  },
  {
   "cell_type": "code",
   "execution_count": null,
   "metadata": {},
   "outputs": [],
   "source": [
    "df_pat[\"treated\"].value_counts()"
   ]
  }
 ],
 "metadata": {
  "kernelspec": {
   "display_name": "Python 3",
   "language": "python",
   "name": "python3"
  },
  "language_info": {
   "codemirror_mode": {
    "name": "ipython",
    "version": 3
   },
   "file_extension": ".py",
   "mimetype": "text/x-python",
   "name": "python",
   "nbconvert_exporter": "python",
   "pygments_lexer": "ipython3",
   "version": "3.8.2"
  }
 },
 "nbformat": 4,
 "nbformat_minor": 4
}
