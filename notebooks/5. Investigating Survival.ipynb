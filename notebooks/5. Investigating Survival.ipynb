{
 "cells": [
  {
   "cell_type": "markdown",
   "metadata": {},
   "source": [
    "# 5. Investigating Survival/Recurrace\n",
    "This notebook is for exploring the connection between survival rate in TNBC and spacial distribution of TILs."
   ]
  },
  {
   "cell_type": "code",
   "execution_count": 2,
   "metadata": {},
   "outputs": [],
   "source": [
    "import pandas as pd\n",
    "from itertools import combinations\n",
    "import regex as re\n",
    "import seaborn as sns\n",
    "import numpy as np\n",
    "import matplotlib.pyplot as plt\n",
    "from dataset import TNBC2\n",
    "import os\n",
    "import numpy as np\n",
    "from numba import jit\n",
    "from tqdm import tqdm\n",
    "import matplotlib\n",
    "sns.set()\n",
    "sns.set_style(\"whitegrid\", {'axes.grid' : False})\n",
    "matplotlib.rcParams['font.family'] = \"serif\"\n"
   ]
  },
  {
   "cell_type": "code",
   "execution_count": 3,
   "metadata": {},
   "outputs": [],
   "source": [
    "df_pat = pd.read_excel('../data/tnbc2/256_TNBC__F_LEION_till_arvid.xlsx')\n",
    "df_pat = df_pat.replace(-0.99, np.NaN)\n",
    "df_pat = df_pat.replace(\"N/D\", np.NaN)\n",
    "\n",
    "df_pat[\"STR\"] = df_pat[\"TILs helsnitt\"]\n",
    "#df_pat[\"STR\"] = df_pat[\"TILs TMA\"]\n",
    "df_pat[\"nodes\"] = df_pat[\"Positive nodes\"]\n",
    "df_pat[\"age\"] = df_pat[\"Age at diagnosis\"]\n",
    "\n",
    "df_pat[\"treated\"] = df_pat[\"Chemo (schema)\"].apply(lambda x: x != \"None\")\n",
    "df_pat[\"relapse\"] = df_pat[\"Relapse yes 1 no 0\"].astype(np.bool)\n",
    "df_pat[\"dead\"] = df_pat[\"Dead yes 1 no 0\"].astype(np.bool)\n",
    "df_pat[\"OS\"] = df_pat[\"OS yes 1 no 0\"].astype(np.bool)\n",
    "df_pat[\"IDFS\"] = df_pat[\"IDFS yes 1 no 0\"].astype(np.bool)\n",
    "df_pat[\"DRFI\"] = df_pat[\"DRFI Breast cancer spec\"].astype(np.bool)\n",
    "\n",
    "df_pat[\"distant_relapse\"] = (df_pat[\"Months_surgery_distant_relapse\"] > 0)\n",
    "df_pat[\"local_relapse\"] = (df_pat[\"relapse\"].apply(int) - df_pat[\"distant_relapse\"].apply(int)) > 0\n",
    "\n",
    "df_pat[\"nodes\"] = df_pat[\"nodes\"].astype(float)"
   ]
  },
  {
   "cell_type": "code",
   "execution_count": 4,
   "metadata": {},
   "outputs": [],
   "source": [
    "import matplotlib.pyplot as plt\n",
    "import seaborn as sns\n",
    "from scipy.stats import pearsonr\n",
    "from scipy.spatial import distance\n",
    "\n",
    "def _image_path(patient_id):\n",
    "    block, letters, numbers = _tma_id(patient_id)\n",
    "    paths = []\n",
    "    dataset = TNBC2()\n",
    "    for let, num in zip(letters, numbers):\n",
    "        for file in os.listdir(dataset.image_dir):\n",
    "            b, n, l = re.findall(r\"Block_(\\d).*_(.*)_([A-Z])_\", file)[0]\n",
    "            if int(b) == block and int(n) == num and l == let:\n",
    "                paths.append(dataset.image_dir / file)\n",
    "    return paths\n",
    "\n",
    "def display(tma_id):\n",
    "    plt.figure(figsize=(20,10))\n",
    "    for n, path in enumerate(_image_path(tma_id), 1):\n",
    "        plt.subplot(1,2,n)\n",
    "        plt.imshow(imread(path))\n",
    "        \n",
    "def correlation(df, features):\n",
    "    corrmat = df[features].corr(method='spearman')\n",
    "    plt.figure(figsize=(8,8))\n",
    "    sns.clustermap(corrmat, vmin=-1, cmap=\"YlGnBu\", linewidth=0.1, annot=True)\n",
    "    \n",
    "def corrfunc(df, **kws):\n",
    "    x, y = zip(*df.dropna().values)\n",
    "    (r, p) = pearsonr(x, y)\n",
    "    ax = plt.gca()\n",
    "    ax.set_title(f\"r = {r:.2f}, p = {p:.2E}\")\n",
    "    "
   ]
  },
  {
   "cell_type": "markdown",
   "metadata": {},
   "source": [
    "## Split TILs into stromal and intratumoral\n",
    "\n",
    "<img src=\"../docs/stromal_intratumoral_tils.png\" width=\"500\" align=\"left\"/>\n"
   ]
  },
  {
   "cell_type": "code",
   "execution_count": 5,
   "metadata": {},
   "outputs": [],
   "source": [
    "\n",
    "def tumor_stroma_tils(immune_loc, tumor_loc, radius=[60], factor=1.0):\n",
    "    \"\"\" Estimates which immune cells are Stromal TILs and which\n",
    "        are Intratumoral.\"\"\"\n",
    "    n_tils= {}\n",
    "    \n",
    "    tumor_loc = np.array([list(coord) for coord in tumor_loc], np.float32)\n",
    "    immune_loc = np.array([list(coord) for coord in immune_loc], np.float32)\n",
    "    \n",
    "    if len(immune_loc) == 0 or len(tumor_loc) == 0:\n",
    "        return {}\n",
    "    \n",
    "    tumor_dist = distance.cdist(tumor_loc,immune_loc)\n",
    "    immune_dist = distance.cdist(immune_loc,immune_loc)\n",
    "    \n",
    "    for r in radius:\n",
    "        tumor_within_r = tumor_dist < r\n",
    "        immune_within_r = immune_dist < r\n",
    "    \n",
    "        n_tumor_within = tumor_within_r.sum(axis=0)\n",
    "        n_immune_within = immune_within_r.sum(axis=0)\n",
    "    \n",
    "        n_tils[f\"t_tils_{r}\"] = (n_tumor_within > n_immune_within*factor).astype(np.uint8).sum()\n",
    "        n_tils[f\"s_tils_{r}\"] = (n_tumor_within*factor < n_immune_within).astype(np.uint8).sum()\n",
    "        \n",
    "    return n_tils\n",
    "\n",
    "def ripleys_k(locations, radius=[200, 250, 300]):\n",
    "    \"\"\"en.wikipedia.org/wiki/Spatial_descriptive_statistics#Ripley.27s_K_and_L_functions\"\"\"\n",
    "    if len(locations) == 0:\n",
    "        return dict([\n",
    "            (f\"k_{r}\" , np.NaN) for r in radius\n",
    "        ])\n",
    "    locations = np.array([list(coord) for coord in locations], np.float32)\n",
    "    n = locations.shape[0]\n",
    "    distances = distance.cdist(locations, locations)\n",
    "    return dict([\n",
    "        (f\"k_{r}\" , 1024**2*np.sum(distances[0,1:] < r) / n**2) for r in radius\n",
    "    ])\n",
    "\n",
    "\n",
    "size = 8\n",
    "def display_cells(df):\n",
    "    tnbc = TNBC2()\n",
    "    for n, row in df.iterrows():\n",
    "        immune_loc = row[\"immune_loc\"]\n",
    "        tumor_loc = row[\"tumor_loc\"]\n",
    "        imid = row[\"image_id\"]\n",
    "        img = tnbc.load_image(imid)\n",
    "\n",
    "        tumor_tils, stroma_tils = tumor_stroma_tils(immune_loc, tumor_loc)\n",
    "\n",
    "        plt.figure(figsize=(20,10))\n",
    "        plt.subplot(121)\n",
    "        plt.imshow(img)\n",
    "        plt.subplot(122)\n",
    "        ax = plt.gca()\n",
    "        ax.invert_yaxis()\n",
    "        args = lambda locs: list(zip(*locs))[::-1]\n",
    "        plt.title(f\"Tumor cells: {len(tumor_loc)}\\n TILs: {len(immune_loc)}\")\n",
    "        plt.scatter(*args(tumor_loc), label=\"Tumor cells\", s=size)\n",
    "        #plt.scatter(*args(immune_loc), label=\"TILs\", s=size)\n",
    "        plt.scatter(*args(tumor_tils), label=\"Intratumoral TILs\", s=size)\n",
    "        plt.scatter(*args(stroma_tils), label=\"Stromal TILs\", s=size)\n",
    "        plt.legend()\n",
    "    \n",
    "def pat_id_wsi(image_id):\n",
    "    try:\n",
    "        return int(re.findall(r\"\\d+\", image_id)[0])\n",
    "    except:\n",
    "        return np.NaN\n",
    "\n",
    "def pat_id_tma(image_name):\n",
    "    block,  nr, letter = re.findall(r\"Block_(\\d).*_(.*)_([A-Z])_\", image_name)[0]\n",
    "    block_start = [1, 59, 113, 172, 210]\n",
    "    start = block_start[int(block)-1]\n",
    "    \n",
    "    letter = letter.lower()\n",
    "    key = np.array([i for i in range(start, start + int(10*12/2)) for n in range(2)]).reshape((10,12))\n",
    "    pat_id = key[int(nr)-1][11 - (ord(letter) - 97)]\n",
    "    return pat_id\n",
    "    \n",
    "def _tma_id(patient_id):\n",
    "    block_start = [1, 59, 113, 172, 210]\n",
    "    start = [s for s in block_start if patient_id >= s][-1]\n",
    "    block = block_start.index(start) + 1\n",
    "            \n",
    "    key = np.array([i for i in range(start, start + int(10*12/2)) for n in range(2)]).reshape((10,12))\n",
    "    Y, X = np.where(key == patient_id) \n",
    "    letters = [chr(11 - (x - 97)).upper() for x in X]\n",
    "    numbers = list(Y + 1)\n",
    "    return block, letters, numbers\n",
    "    "
   ]
  },
  {
   "cell_type": "code",
   "execution_count": 6,
   "metadata": {},
   "outputs": [],
   "source": [
    "with pd.option_context('display.max_rows', None, 'display.max_columns', None):  # more options can be specified also\n",
    "    pass\n",
    "    #print(df_wsi.sort_values(\"TMAid\"))\n",
    "    #print(df_wsi[\"TMAid\"].value_counts())"
   ]
  },
  {
   "cell_type": "code",
   "execution_count": 7,
   "metadata": {},
   "outputs": [],
   "source": [
    "from joblib import Memory\n",
    "\n",
    "memory = Memory('./cache/')\n",
    "\n",
    "def extract_features(path):\n",
    "    df = pd.read_feather(path)\n",
    "    \n",
    "    n_tils = ([\n",
    "        tumor_stroma_tils(imloc, tumloc, [10, 50, 100])\n",
    "        for imloc, tumloc in tqdm(zip(df[\"immune_loc\"], df[\"tumor_loc\"]), total=len(df))\n",
    "    ])\n",
    "    df = pd.concat([df, pd.DataFrame(n_tils)], axis=1)\n",
    "    \n",
    "    r = [10, 100, 300]\n",
    "    df_immune_k = pd.DataFrame([ripleys_k(imloc, r) for imloc in tqdm(df[\"immune_loc\"])])\n",
    "    df = pd.concat([df, df_immune_k.add_prefix(\"immune_\")], axis=1)\n",
    "                                     \n",
    "    df_tumor_k = pd.DataFrame([ripleys_k(tumloc, r) for tumloc in tqdm(df[\"tumor_loc\"])])\n",
    "    df = pd.concat([df, df_tumor_k.add_prefix(\"tumor_\")], axis=1)\n",
    "    return df\n",
    "\n",
    "\n",
    "def merge_patient_data_wsi(df_wsi, df_pat):\n",
    "    df_mean = df_wsi.groupby(\"image_id\").mean().reset_index()\n",
    "    df_mean[\"TMAid\"] = df_mean[\"image_id\"].apply(pat_id_wsi)\n",
    "    df_all = pd.merge(df_pat, df_mean, how='inner', on=[\"TMAid\"])\n",
    "\n",
    "    return df_all\n",
    "\n",
    "def merge_patient_data_tma(df_tma, df_pat):\n",
    "    df_mean = df_tma.groupby(\"image_id\").mean().reset_index()\n",
    "    df_mean[\"TMAid\"] = df_mean[\"image_id\"].apply(pat_id_tma)\n",
    "    df_all = pd.merge(df_pat, df_mean, how='inner', on=[\"TMAid\"])\n",
    "\n",
    "    return df_all\n"
   ]
  },
  {
   "cell_type": "code",
   "execution_count": 8,
   "metadata": {},
   "outputs": [],
   "source": [
    "#pd.concat([pd.read_feather(\"./wsi_quip2_0.2_5_1.0_800_part1.feather\"),\n",
    "#           pd.read_feather(\"./wsi_quip2_0.2_5_1.0_800.feather\")]).reset_index(\n",
    "#).to_feather(\"./wsi_quip2_0.2_5_1.0_800.feather\")"
   ]
  },
  {
   "cell_type": "code",
   "execution_count": 29,
   "metadata": {},
   "outputs": [
    {
     "name": "stderr",
     "output_type": "stream",
     "text": [
      "100%|██████████| 52727/52727 [00:40<00:00, 1296.63it/s]\n",
      "100%|██████████| 52727/52727 [00:12<00:00, 4079.97it/s]\n",
      "100%|██████████| 52727/52727 [00:24<00:00, 2115.56it/s]\n"
     ]
    }
   ],
   "source": [
    "df_wsi = extract_features('./wsi_quip2_0.3_5_1.0_200.feather')"
   ]
  },
  {
   "cell_type": "code",
   "execution_count": 30,
   "metadata": {},
   "outputs": [],
   "source": [
    "df_all = merge_patient_data_wsi(df_wsi, df_pat)"
   ]
  },
  {
   "cell_type": "code",
   "execution_count": 11,
   "metadata": {},
   "outputs": [
    {
     "data": {
      "text/html": [
       "<div>\n",
       "<style scoped>\n",
       "    .dataframe tbody tr th:only-of-type {\n",
       "        vertical-align: middle;\n",
       "    }\n",
       "\n",
       "    .dataframe tbody tr th {\n",
       "        vertical-align: top;\n",
       "    }\n",
       "\n",
       "    .dataframe thead th {\n",
       "        text-align: right;\n",
       "    }\n",
       "</style>\n",
       "<table border=\"1\" class=\"dataframe\">\n",
       "  <thead>\n",
       "    <tr style=\"text-align: right;\">\n",
       "      <th></th>\n",
       "      <th>TMAid</th>\n",
       "      <th>TILs helsnitt</th>\n",
       "      <th>TILs TMA</th>\n",
       "      <th>Patient SCANB research (external) ID</th>\n",
       "      <th>Age at diagnosis</th>\n",
       "      <th>Histological diagnosis</th>\n",
       "      <th>Size (mm)</th>\n",
       "      <th>Positive nodes</th>\n",
       "      <th>Total nodes</th>\n",
       "      <th>T</th>\n",
       "      <th>...</th>\n",
       "      <th>t_tils_50</th>\n",
       "      <th>s_tils_50</th>\n",
       "      <th>t_tils_100</th>\n",
       "      <th>s_tils_100</th>\n",
       "      <th>immune_k_10</th>\n",
       "      <th>immune_k_100</th>\n",
       "      <th>immune_k_300</th>\n",
       "      <th>tumor_k_10</th>\n",
       "      <th>tumor_k_100</th>\n",
       "      <th>tumor_k_300</th>\n",
       "    </tr>\n",
       "  </thead>\n",
       "  <tbody>\n",
       "    <tr>\n",
       "      <th>0</th>\n",
       "      <td>1</td>\n",
       "      <td>0.35</td>\n",
       "      <td>0.030</td>\n",
       "      <td>Q007627</td>\n",
       "      <td>32</td>\n",
       "      <td>IDC</td>\n",
       "      <td>10</td>\n",
       "      <td>0.0</td>\n",
       "      <td>4.0</td>\n",
       "      <td>1</td>\n",
       "      <td>...</td>\n",
       "      <td>20.705736</td>\n",
       "      <td>54.091022</td>\n",
       "      <td>39.518703</td>\n",
       "      <td>44.279302</td>\n",
       "      <td>2.746088</td>\n",
       "      <td>598.793086</td>\n",
       "      <td>3260.544040</td>\n",
       "      <td>1.004067</td>\n",
       "      <td>326.226538</td>\n",
       "      <td>2484.887199</td>\n",
       "    </tr>\n",
       "    <tr>\n",
       "      <th>1</th>\n",
       "      <td>4</td>\n",
       "      <td>0.40</td>\n",
       "      <td>0.075</td>\n",
       "      <td>Q006732</td>\n",
       "      <td>62</td>\n",
       "      <td>IDC</td>\n",
       "      <td>9</td>\n",
       "      <td>0.0</td>\n",
       "      <td>2.0</td>\n",
       "      <td>1</td>\n",
       "      <td>...</td>\n",
       "      <td>27.219451</td>\n",
       "      <td>62.342893</td>\n",
       "      <td>53.543641</td>\n",
       "      <td>48.142145</td>\n",
       "      <td>0.507027</td>\n",
       "      <td>385.134434</td>\n",
       "      <td>1956.525156</td>\n",
       "      <td>0.034224</td>\n",
       "      <td>195.220944</td>\n",
       "      <td>1427.127242</td>\n",
       "    </tr>\n",
       "    <tr>\n",
       "      <th>2</th>\n",
       "      <td>6</td>\n",
       "      <td>0.70</td>\n",
       "      <td>0.500</td>\n",
       "      <td>Q005948</td>\n",
       "      <td>60</td>\n",
       "      <td>IDC</td>\n",
       "      <td>25</td>\n",
       "      <td>1.0</td>\n",
       "      <td>18.0</td>\n",
       "      <td>2</td>\n",
       "      <td>...</td>\n",
       "      <td>40.072319</td>\n",
       "      <td>112.365337</td>\n",
       "      <td>72.972569</td>\n",
       "      <td>95.668329</td>\n",
       "      <td>0.402859</td>\n",
       "      <td>334.398271</td>\n",
       "      <td>1673.189628</td>\n",
       "      <td>0.223246</td>\n",
       "      <td>244.035661</td>\n",
       "      <td>1132.637195</td>\n",
       "    </tr>\n",
       "    <tr>\n",
       "      <th>3</th>\n",
       "      <td>7</td>\n",
       "      <td>0.60</td>\n",
       "      <td>0.050</td>\n",
       "      <td>Q005923</td>\n",
       "      <td>51</td>\n",
       "      <td>IDC</td>\n",
       "      <td>15</td>\n",
       "      <td>0.0</td>\n",
       "      <td>2.0</td>\n",
       "      <td>1</td>\n",
       "      <td>...</td>\n",
       "      <td>32.278402</td>\n",
       "      <td>129.962547</td>\n",
       "      <td>55.314607</td>\n",
       "      <td>121.284644</td>\n",
       "      <td>0.002856</td>\n",
       "      <td>316.538738</td>\n",
       "      <td>1703.047947</td>\n",
       "      <td>0.024876</td>\n",
       "      <td>186.862566</td>\n",
       "      <td>1276.965473</td>\n",
       "    </tr>\n",
       "    <tr>\n",
       "      <th>4</th>\n",
       "      <td>8</td>\n",
       "      <td>0.20</td>\n",
       "      <td>0.150</td>\n",
       "      <td>Q005909</td>\n",
       "      <td>38</td>\n",
       "      <td>IDC</td>\n",
       "      <td>35</td>\n",
       "      <td>2.0</td>\n",
       "      <td>14.0</td>\n",
       "      <td>2</td>\n",
       "      <td>...</td>\n",
       "      <td>17.204489</td>\n",
       "      <td>55.931421</td>\n",
       "      <td>36.026185</td>\n",
       "      <td>45.610973</td>\n",
       "      <td>0.000000</td>\n",
       "      <td>493.192170</td>\n",
       "      <td>2779.515507</td>\n",
       "      <td>2.188978</td>\n",
       "      <td>207.581154</td>\n",
       "      <td>1175.007547</td>\n",
       "    </tr>\n",
       "  </tbody>\n",
       "</table>\n",
       "<p>5 rows × 76 columns</p>\n",
       "</div>"
      ],
      "text/plain": [
       "   TMAid  TILs helsnitt  TILs TMA Patient SCANB research (external) ID  \\\n",
       "0      1           0.35     0.030                              Q007627   \n",
       "1      4           0.40     0.075                              Q006732   \n",
       "2      6           0.70     0.500                              Q005948   \n",
       "3      7           0.60     0.050                              Q005923   \n",
       "4      8           0.20     0.150                              Q005909   \n",
       "\n",
       "   Age at diagnosis Histological diagnosis Size (mm)  Positive nodes  \\\n",
       "0                32                    IDC        10             0.0   \n",
       "1                62                    IDC         9             0.0   \n",
       "2                60                    IDC        25             1.0   \n",
       "3                51                    IDC        15             0.0   \n",
       "4                38                    IDC        35             2.0   \n",
       "\n",
       "   Total nodes  T  ...  t_tils_50   s_tils_50 t_tils_100  s_tils_100  \\\n",
       "0          4.0  1  ...  20.705736   54.091022  39.518703   44.279302   \n",
       "1          2.0  1  ...  27.219451   62.342893  53.543641   48.142145   \n",
       "2         18.0  2  ...  40.072319  112.365337  72.972569   95.668329   \n",
       "3          2.0  1  ...  32.278402  129.962547  55.314607  121.284644   \n",
       "4         14.0  2  ...  17.204489   55.931421  36.026185   45.610973   \n",
       "\n",
       "  immune_k_10 immune_k_100 immune_k_300 tumor_k_10 tumor_k_100  tumor_k_300  \n",
       "0    2.746088   598.793086  3260.544040   1.004067  326.226538  2484.887199  \n",
       "1    0.507027   385.134434  1956.525156   0.034224  195.220944  1427.127242  \n",
       "2    0.402859   334.398271  1673.189628   0.223246  244.035661  1132.637195  \n",
       "3    0.002856   316.538738  1703.047947   0.024876  186.862566  1276.965473  \n",
       "4    0.000000   493.192170  2779.515507   2.188978  207.581154  1175.007547  \n",
       "\n",
       "[5 rows x 76 columns]"
      ]
     },
     "execution_count": 11,
     "metadata": {},
     "output_type": "execute_result"
    }
   ],
   "source": [
    "df_all.head()"
   ]
  },
  {
   "cell_type": "code",
   "execution_count": 12,
   "metadata": {},
   "outputs": [],
   "source": [
    "def plot_compare(ylabels, xlabels, df, **kwargs):\n",
    "    plt.figure(figsize=(5*len(ylabels),4))\n",
    "    features = [[x, y] for x in xlabels for y in ylabels]\n",
    "    for n, feat in enumerate(features, 1):\n",
    "        plt.subplot(1,len(ylabels),n)\n",
    "        sns.scatterplot(data=df, x=feat[0], y=feat[1], **kwargs)\n",
    "        corrfunc(df[feat])"
   ]
  },
  {
   "cell_type": "code",
   "execution_count": 13,
   "metadata": {},
   "outputs": [
    {
     "data": {
      "image/png": "[encoded data removed]",
      "text/plain": [
       "<Figure size 360x288 with 1 Axes>"
      ]
     },
     "metadata": {},
     "output_type": "display_data"
    }
   ],
   "source": [
    "plot_compare([\"immune_k_100\"], [\"immune_k_10\"], df_all[df_all[\"treated\"]], hue=\"distant_relapse\")"
   ]
  },
  {
   "cell_type": "code",
   "execution_count": 14,
   "metadata": {},
   "outputs": [],
   "source": [
    "import statsmodels.api as sm\n",
    "from numpy import mean\n",
    "from numpy import std\n",
    "from sklearn.datasets import make_classification\n",
    "from sklearn.model_selection import StratifiedKFold\n",
    "from sklearn.model_selection import GridSearchCV\n",
    "from sklearn.metrics import confusion_matrix, roc_curve, roc_auc_score\n",
    "from sklearn.ensemble import RandomForestClassifier\n",
    "from sklearn import preprocessing\n",
    "import seaborn as sn\n",
    "from imblearn.over_sampling import SMOTE\n",
    "from imblearn.under_sampling import RandomUnderSampler\n",
    "from imblearn.pipeline import Pipeline\n",
    "from sklearn.preprocessing import PolynomialFeatures\n",
    "\n",
    "from sklearn.preprocessing import StandardScaler\n",
    "from sklearn.datasets import make_moons, make_circles, make_classification\n",
    "from sklearn.neural_network import MLPClassifier\n",
    "from sklearn.neighbors import KNeighborsClassifier\n",
    "from sklearn.svm import LinearSVC as SVC\n",
    "from sklearn.gaussian_process import GaussianProcessClassifier\n",
    "from sklearn.gaussian_process.kernels import RBF\n",
    "from sklearn.tree import DecisionTreeClassifier\n",
    "from sklearn.ensemble import RandomForestClassifier, AdaBoostClassifier\n",
    "from sklearn.naive_bayes import GaussianNB\n",
    "from sklearn.discriminant_analysis import QuadraticDiscriminantAnalysis\n",
    "from sklearn.linear_model import LogisticRegression\n",
    "from numpy.linalg import LinAlgError\n",
    "from statsmodels.tools.sm_exceptions import PerfectSeparationError\n",
    "from sklearn.neural_network import MLPClassifier\n",
    "\n",
    "\n",
    "def _results_to_pandas(summary):\n",
    "    return pd.read_html(summary.tables[1].as_html(), header=0, index_col=0)[0]\n",
    "\n",
    "def logit(x_train, y_train, x_val, y_val):\n",
    "    try:\n",
    "        model = sm.Logit(y_train, x_train).fit(disp=False)\n",
    "        return model.predict(x_val), model\n",
    "    except (LinAlgError, PerfectSeparationError):\n",
    "        return np.random.rand(*y_val.shape), None\n",
    "        \n",
    "def logit_sklearn(x_train, y_train, x_val, y_val):\n",
    "    model = LogisticRegression()\n",
    "    model.fit(x_train, y_train.ravel())\n",
    "    return model.predict(x_val)\n",
    "\n",
    "def scv(x_train, y_train, x_val, y_val):\n",
    "    model = SVC(max_iter=80000)\n",
    "    model.fit(x_train, y_train.ravel())\n",
    "    return model.predict(x_val), None\n",
    "\n",
    "def mlp(x_train, y_train, x_val, y_val):\n",
    "    model = MLPClassifier((5,2), max_iter=9000)\n",
    "    model.fit(x_train, y_train.ravel())\n",
    "    return model.predict(x_val), None\n",
    "\n",
    "def random_forest(x_train, y_train, x_val, y_val):\n",
    "    model = RandomForestClassifier()\n",
    "    model.fit(x_train, y_train.ravel())\n",
    "    return model.predict(x_val), None\n",
    "\n",
    "def cross_validation(y, X, model = logit):\n",
    "    if len(y.shape) > 1:\n",
    "        y = y.iloc[:,0]\n",
    "    cv_outer = StratifiedKFold(n_splits=5, shuffle=True, random_state=1)\n",
    "\n",
    "    true, pred, = ([], [])\n",
    "    summaries = []\n",
    "    for train_val_idx, test_idx in cv_outer.split(X, y):\n",
    "        X_train_val, X_test = X.iloc[train_val_idx], X.iloc[test_idx]\n",
    "        y_train_val, y_test = y.iloc[train_val_idx], y.iloc[test_idx]\n",
    "\n",
    "        cv_inner = StratifiedKFold(n_splits=5, shuffle=True, random_state=1)\n",
    "        for train_idx, val_idx in cv_inner.split(X_train_val, y_train_val):\n",
    "            x_train, x_val = X_train_val.iloc[train_idx], X_train_val.iloc[val_idx]\n",
    "            y_train, y_val = y_train_val.iloc[train_idx], y_train_val.iloc[val_idx]\n",
    "\n",
    "            #x_train, y_train = pipeline.fit_resample(x_train, y_train)\n",
    "            \n",
    "            y_pred, m = model(x_train, y_train, x_val, y_val)\n",
    "            true.extend(list(y_val))\n",
    "            pred.extend(list(y_pred))\n",
    "            if m:\n",
    "                summaries.append(_results_to_pandas(m.summary()))\n",
    "                \n",
    "    if summaries:\n",
    "        result = sum(summaries) / len(summaries)\n",
    "    else:\n",
    "        result = None\n",
    "        \n",
    "    return true, pred, result"
   ]
  },
  {
   "cell_type": "code",
   "execution_count": 80,
   "metadata": {},
   "outputs": [],
   "source": [
    "from itertools import combinations, chain, product, permutations\n",
    "from tqdm import tqdm\n",
    "from patsy import dmatrices, dmatrix\n",
    "from scipy.stats import pearsonr\n",
    "group = [\"distant_relapse\"]\n",
    "\n",
    "features = [\n",
    "    \"STR\",\n",
    "    \"n_immune\",\n",
    "    \"n_tumor\",\n",
    "    \"tumor_area\",\n",
    "    \"immune_area\",\n",
    "    \"age\",\n",
    "    \"nodes\",\n",
    "]\n",
    "\n",
    "features.extend([\n",
    "    c for c in df_all.columns \n",
    "    if c.startswith(\"tumor_k\") \n",
    "    or c.startswith(\"immune_k\")\n",
    "    or c.startswith(\"t_tils\")\n",
    "    or c.startswith(\"s_tils\")\n",
    "])\n",
    "\n",
    "pd.options.mode.chained_assignment = None\n",
    "\n",
    "def _add_intercept(df):\n",
    "    df = pd.DataFrame(df)\n",
    "    df[\"Intercept\"] = 1.0\n",
    "    return df\n",
    "    \n",
    "\n",
    "def try_interactions(data, features, group, n_features = [1]):\n",
    "    d = []\n",
    "    for f in tqdm(list(chain(*[combinations(features, i) for i in n_features]))):\n",
    "        f = list(f)\n",
    "        nona = data[f + [group]].dropna()\n",
    "        y = nona[group]\n",
    "        X = _add_intercept(nona[f])\n",
    "        #X = nona[f]\n",
    "        true, pred, results = cross_validation(y, X, logit)\n",
    "        auc = roc_auc_score(true, pred)\n",
    "        fpr, tpr, thresholds = roc_curve(true, pred)\n",
    "        d.append({\n",
    "            \"formula\" : '+'.join(f),\n",
    "            \"AUC\" : auc,\n",
    "            \"tpr\" : tpr,\n",
    "            \"fpr\" : fpr,\n",
    "            \"thresh\" : thresholds,\n",
    "            \"model\" : results,\n",
    "        })\n",
    "            \n",
    "    return pd.DataFrame(d).sort_values(\"AUC\", ascending=False)\n",
    "\n",
    "def best_features(df,features, target, n=10):\n",
    "    result = []\n",
    "    for f in features:\n",
    "        y, X = dmatrices(f\"{target} ~ {f}\", df, NA_action='drop', return_type='dataframe')\n",
    "        true, pred, _ = cross_validation(y, X, logit)\n",
    "        auc = roc_auc_score(true, pred)\n",
    "        result.append((f, auc))\n",
    "        \n",
    "    return [f[0] for f in sorted(result, key = lambda x: x[1], reverse=True)[:n]]\n",
    "\n",
    "def filter_correlated(df, corr_limit = 0.9):\n",
    "    corr_matrix = df.corr().abs()\n",
    "    upper = corr_matrix.where(np.triu(np.ones(corr_matrix.shape), k=1).astype(np.bool))\n",
    "    to_drop = [column for column in upper.columns if any(upper[column] > corr_limit)]\n",
    "    return df.drop(to_drop, axis=1)\n",
    "\n",
    "def high_correlation(df, corr_limit):\n",
    "    return [(a,b) for a, b in combinations(df.columns, 2)\n",
    "            if df[[a,b]].corr().iloc[0,1] > corr_limit]\n",
    "\n",
    "def worse_predictor(df, feature_pairs, target):\n",
    "    f = []\n",
    "    for a, b in feature_pairs:\n",
    "        f.append(min(a,b, key = lambda x: auc_formula(df, f\"{target} ~ {x}\")))\n",
    "    return set(f)\n",
    "\n",
    "def auc_formula(data, formula):\n",
    "    y, X = dmatrices(formula, data, NA_action='drop', return_type='dataframe')\n",
    "    true, pred, m = cross_validation(y, X, logit)\n",
    "   # print(m)\n",
    "    return roc_auc_score(true, pred)\n"
   ]
  },
  {
   "cell_type": "code",
   "execution_count": 16,
   "metadata": {},
   "outputs": [
    {
     "data": {
      "text/plain": [
       "0.6844025560459563"
      ]
     },
     "execution_count": 16,
     "metadata": {},
     "output_type": "execute_result"
    }
   ],
   "source": [
    "df_all[features[:2]].corr().iloc[0,1]"
   ]
  },
  {
   "cell_type": "code",
   "execution_count": 17,
   "metadata": {},
   "outputs": [
    {
     "data": {
      "text/plain": [
       "0      0.35\n",
       "1      0.40\n",
       "2      0.70\n",
       "3      0.60\n",
       "4      0.20\n",
       "       ... \n",
       "162    0.30\n",
       "163    0.10\n",
       "164    0.70\n",
       "165    0.60\n",
       "166    0.10\n",
       "Name: STR, Length: 167, dtype: float64"
      ]
     },
     "execution_count": 17,
     "metadata": {},
     "output_type": "execute_result"
    }
   ],
   "source": [
    "df_all[\"STR\"]"
   ]
  },
  {
   "cell_type": "code",
   "execution_count": 83,
   "metadata": {},
   "outputs": [
    {
     "data": {
      "text/plain": [
       "0.7166810344827587"
      ]
     },
     "execution_count": 83,
     "metadata": {},
     "output_type": "execute_result"
    }
   ],
   "source": [
    "auc_formula(df_all[df_all[\"treated\"]], f\"local_relapse ~ immune_area\")"
   ]
  },
  {
   "cell_type": "code",
   "execution_count": 96,
   "metadata": {},
   "outputs": [],
   "source": [
    "def select_features(df, target, treated):\n",
    "    df = df[df[\"treated\"] == int(treated)]\n",
    "    df_target = df[target]\n",
    "   \n",
    "    # Adding quadradic features\n",
    "    \n",
    "    \n",
    "    ## Remvoing highly correlated interactions from \n",
    "    \n",
    "    # Computing interactions\n",
    "    f = features\n",
    "    #df = pd.concat([\n",
    "    #    dmatrix(f\"({'+'.join(f)})**2 - 1\", df, return_type='dataframe'),\n",
    "    #    pd.concat(\n",
    "    #    [\n",
    "    #        df[features],\n",
    "    #        pd.concat([df[feat]**(1/2) for feat in f], axis=1).add_suffix(\"_sq\")\n",
    "    #    ], axis=1)], axis=1)\n",
    "    \n",
    "    \n",
    "    \n",
    "    #f = df.columns\n",
    "    #df[target] = df_target\n",
    "    #f = best_features(df, f, target, 15)\n",
    "    df[target] = df_target\n",
    "    df_results = try_interactions(df, f, target, n_features=[1]) \n",
    "    df_results[\"Treated\"] = treated\n",
    "    df_results[\"Outcome\"] = target\n",
    "    return df_results\n",
    "#def select_features(df, target, treated):\n",
    "#    df = df[df[\"treated\"] == int(treated)]\n",
    "#    df_target = df[target]\n",
    "#    f = filter_correlated(df[features],  0.95).columns\n",
    "#    df = dmatrix(f\"({'+'.join(f)})**3 - 1\", df, return_type='dataframe')\n",
    "#    f = df.columns\n",
    "#    df[target] = df_target\n",
    "#    f = best_features(df, f, target, 20)\n",
    "#    f = filter_correlated(df[f],  0.95).columns\n",
    "#    df_results = try_interactions(df, f, target, n_features=[1,2,3,4]) \n",
    "#    df_results[\"Treated\"] = treated\n",
    "#    df_results[\"Outcome\"] = target\n",
    "#    return df_results.head()"
   ]
  },
  {
   "cell_type": "code",
   "execution_count": 97,
   "metadata": {},
   "outputs": [
    {
     "name": "stderr",
     "output_type": "stream",
     "text": [
      "100%|██████████| 19/19 [00:05<00:00,  3.22it/s]\n"
     ]
    }
   ],
   "source": [
    "distant_treated = select_features(df_all, \"distant_relapse\", treated=True)"
   ]
  },
  {
   "cell_type": "code",
   "execution_count": 98,
   "metadata": {},
   "outputs": [
    {
     "name": "stderr",
     "output_type": "stream",
     "text": [
      "100%|██████████| 19/19 [00:06<00:00,  3.03it/s]\n"
     ]
    }
   ],
   "source": [
    "local_treated = select_features(df_all, \"local_relapse\", treated=True)"
   ]
  },
  {
   "cell_type": "code",
   "execution_count": 99,
   "metadata": {},
   "outputs": [
    {
     "name": "stderr",
     "output_type": "stream",
     "text": [
      "100%|██████████| 19/19 [00:06<00:00,  3.09it/s]\n"
     ]
    }
   ],
   "source": [
    "dead_treated = select_features(df_all, \"dead\", treated=True)"
   ]
  },
  {
   "cell_type": "code",
   "execution_count": 100,
   "metadata": {},
   "outputs": [
    {
     "name": "stdout",
     "output_type": "stream",
     "text": [
      "               coef  std err        z    P>|z|   [0.025   0.975]\n",
      "n_immune  -0.021156  0.01072 -1.87564  0.09332 -0.04208 -0.00012\n",
      "Intercept -0.586744  0.70644 -0.88480  0.36216 -1.97132  0.79780\n",
      "                 coef   std err       z    P>|z|   [0.025    0.975]\n",
      "immune_area -0.000149  0.000062 -1.8136  0.10364 -0.00008  0.000007\n",
      "Intercept   -0.766856  0.638240 -1.2624  0.32136 -2.01772  0.484040\n",
      "               coef  std err        z    P>|z|   [0.025   0.975]\n",
      "s_tils_10 -0.020856  0.01068 -1.85020  0.09688 -0.04184  0.00016\n",
      "Intercept -0.601044  0.71020 -0.90068  0.36604 -1.99304  0.79088\n",
      "                  coef   std err        z    P>|z|   [0.025   0.975]\n",
      "immune_k_300  0.000163  0.000071  2.31120  0.04552  0.00002  0.00000\n",
      "Intercept    -3.221112  0.665120 -4.83684  0.00000 -4.52468 -1.91764\n",
      "               coef  std err        z    P>|z|   [0.025   0.975]\n",
      "s_tils_50 -0.029072  0.01624 -1.65660  0.13676 -0.06060  0.00256\n",
      "Intercept -0.883232  0.62948 -1.49892  0.26984 -2.11708  0.35052\n",
      "                 coef   std err        z    P>|z|   [0.025    0.975]\n",
      "immune_area -0.000198  0.000049 -1.47004  0.20360 -0.00036  0.000034\n",
      "Intercept   -1.225212  0.828120 -1.60332  0.26396 -2.84804  0.397640\n",
      "               coef  std err        z    P>|z|   [0.025   0.975]\n",
      "s_tils_10 -0.027580  0.01596 -1.56880  0.16432 -0.05872  0.00356\n",
      "Intercept -0.968636  0.93260 -1.13296  0.29744 -2.79652  0.85944\n",
      "               coef  std err        z    P>|z|   [0.025   0.975]\n",
      "n_immune  -0.026888  0.01548 -1.56292  0.16628 -0.05736  0.00360\n",
      "Intercept -1.005540  0.91968 -1.18096  0.29848 -2.80800  0.79696\n",
      "               coef  std err        z    P>|z|  [0.025    0.975]\n",
      "s_tils_50 -0.039908  0.02508 -1.45468  0.17652 -0.0892  0.009399\n",
      "Intercept -1.240440  0.84888 -1.55632  0.26000 -2.9040  0.423040\n",
      "                  coef   std err        z    P>|z|    [0.025   0.975]\n",
      "immune_k_300  0.000176  0.000075  1.91116  0.08172 -0.000005  0.00000\n",
      "Intercept    -3.928072  0.873960 -4.49528  0.00000 -5.640960 -2.21528\n",
      "                 coef   std err        z    P>|z|   [0.025    0.975]\n",
      "immune_area -0.000134  0.000058 -1.96296  0.07532 -0.00004 -0.000003\n",
      "Intercept   -0.479248  0.540560 -0.95756  0.34308 -1.53868  0.580240\n",
      "               coef  std err        z    P>|z|   [0.025   0.975]\n",
      "s_tils_50 -0.027260  0.01328 -1.93872  0.07488 -0.05320 -0.00124\n",
      "Intercept -0.474912  0.54344 -0.95872  0.32324 -1.53996  0.59020\n",
      "                coef  std err        z    P>|z|   [0.025   0.975]\n",
      "s_tils_100 -0.030020  0.01496 -1.89252  0.07916 -0.05916 -0.00080\n",
      "Intercept  -0.675296  0.46560 -1.52284  0.20944 -1.58768  0.23704\n",
      "               coef  std err        z    P>|z|   [0.025   0.975]\n",
      "n_immune  -0.018096  0.00848 -2.03860  0.06344 -0.03472 -0.00148\n",
      "Intercept -0.306436  0.60072 -0.56936  0.44788 -1.48392  0.87100\n",
      "               coef  std err        z    P>|z|   [0.025   0.975]\n",
      "s_tils_10 -0.018168  0.00856 -2.03120  0.06464 -0.03488 -0.00136\n",
      "Intercept -0.301640  0.60476 -0.55816  0.44808 -1.48688  0.88376\n"
     ]
    },
    {
     "data": {
      "image/png": "[encoded data removed]",
      "text/plain": [
       "<Figure size 1080x360 with 3 Axes>"
      ]
     },
     "metadata": {},
     "output_type": "display_data"
    }
   ],
   "source": [
    "def label(feature):\n",
    "    r = re.findall(\"\\d{1,3}\", feature)\n",
    "    if feature == \"n_immune\":\n",
    "        return \"$N_i$\"\n",
    "    elif feature == \"n_tumor\":\n",
    "        return \"$N_t$\"\n",
    "    elif feature == \"immune_area\":\n",
    "        return \"$A_i$\"\n",
    "    elif feature == \"tumor_area\":\n",
    "        return \"$A_t$\"\n",
    "    elif feature.startswith(\"s_tils\"):\n",
    "        return \"$N_{is}(\" + r[0] + \")$\"\n",
    "    elif feature.startswith(\"t_tils\"):\n",
    "        return \"$N_{it}(\" + r[0] + \")$\"\n",
    "    elif feature.startswith(\"immune_k\"):\n",
    "        return \"$K_{i}(\" + r[0] + \")$\"\n",
    "    elif feature.startswith(\"tumor_k\"):\n",
    "        return \"$K_{t}(\" + r[0] + \")$\"\n",
    "    else:\n",
    "        return feature\n",
    "\n",
    "def plot_roc(df, i=5):\n",
    "    for _, row in list(df.iterrows())[:i]:\n",
    "        print(row[\"model\"])\n",
    "        x = row[\"fpr\"]\n",
    "        y = row[\"tpr\"]\n",
    "        auc= round(row[\"AUC\"], 3)\n",
    "        sns.lineplot(x=x, y=y, linewidth=4, label=f\"{label(row['formula'])}, AUC: {auc}\")\n",
    "        \n",
    "plt.figure(figsize=(15, 5))\n",
    "plt.tight_layout()\n",
    "matplotlib.rcParams['font.size'] = 20\n",
    "\n",
    "plt.subplot(131)\n",
    "title = \"Distant relapse\"\n",
    "plt.title(title)\n",
    "plot_roc(distant_treated)\n",
    "plt.ylabel(\"True positive rate\")\n",
    "plt.xlabel(\"False positive rate\")\n",
    "\n",
    "plt.subplot(132)\n",
    "plt.title(\"Local relapse\")\n",
    "plot_roc(local_treated)\n",
    "plt.xlabel(\"False positive rate\")\n",
    "\n",
    "plt.subplot(133)\n",
    "plt.title(\"Overall survival\")\n",
    "plot_roc(dead_treated)\n",
    "plt.xlabel(\"False positive rate\")\n",
    "plt.savefig(\"../docs/outcome_roc_tma.svg\", bbox_inches='tight')"
   ]
  },
  {
   "cell_type": "code",
   "execution_count": 46,
   "metadata": {},
   "outputs": [
    {
     "name": "stdout",
     "output_type": "stream",
     "text": [
      "                 coef   std err        z  P>|z|  [0.025  0.975]\n",
      "immune_area -0.000232  0.000044 -5.33644    0.0     0.0     0.0\n",
      "             coef  std err        z  P>|z|   [0.025   0.975]\n",
      "n_immune -0.02874  0.00524 -5.53176    0.0 -0.03892 -0.01864\n",
      "               coef  std err        z  P>|z|   [0.025   0.975]\n",
      "s_tils_10 -0.028656  0.00524 -5.54088    0.0 -0.03888 -0.01864\n",
      "               coef  std err        z  P>|z|  [0.025   0.975]\n",
      "s_tils_50 -0.048644   0.0092 -5.27496    0.0 -0.0668 -0.03056\n",
      "                coef  std err        z  P>|z|   [0.025   0.975]\n",
      "s_tils_100 -0.063716    0.013 -4.88748    0.0 -0.08924 -0.03816\n",
      "                coef   std err        z  P>|z|   [0.025  0.975]\n",
      "immune_area -0.00034  0.000064 -5.14788    0.0 -0.00036     0.0\n",
      "          coef  std err        z  P>|z|    [0.025   0.975]\n",
      "STR -14.320064  3.40736 -4.33696    0.0 -20.99852 -7.64164\n",
      "              coef  std err        z  P>|z|   [0.025   0.975]\n",
      "s_tils_10 -0.04138  0.00792 -5.34744    0.0 -0.05652 -0.02604\n",
      "              coef  std err        z  P>|z|   [0.025  0.975]\n",
      "n_immune -0.041296  0.00792 -5.33652    0.0 -0.05652  -0.026\n",
      "               coef  std err       z  P>|z|   [0.025   0.975]\n",
      "t_tils_50 -0.173036  0.03304 -5.2846    0.0 -0.23784 -0.10816\n",
      "               coef  std err        z  P>|z|   [0.025   0.975]\n",
      "s_tils_100 -0.04728     0.01 -4.74152    0.0 -0.06676 -0.02776\n",
      "               coef  std err        z  P>|z|  [0.025   0.975]\n",
      "s_tils_50 -0.036504  0.00724 -5.07232    0.0 -0.0506 -0.02236\n",
      "                 coef   std err        z  P>|z|  [0.025    0.975]\n",
      "immune_area -0.000196  0.000034 -5.11864    0.0     0.0 -0.000038\n",
      "              coef  std err        z  P>|z|   [0.025   0.975]\n",
      "n_immune -0.021532  0.00408 -5.31232    0.0 -0.02944 -0.01356\n",
      "               coef  std err        z  P>|z|   [0.025  0.975]\n",
      "s_tils_10 -0.021544  0.00408 -5.31804    0.0 -0.02948 -0.0136\n"
     ]
    },
    {
     "data": {
      "image/png": "[encoded data removed]",
      "text/plain": [
       "<Figure size 1080x360 with 3 Axes>"
      ]
     },
     "metadata": {},
     "output_type": "display_data"
    }
   ],
   "source": [
    "# No intercept"
   ]
  },
  {
   "cell_type": "code",
   "execution_count": 24,
   "metadata": {},
   "outputs": [
    {
     "ename": "NameError",
     "evalue": "name 'df_results' is not defined",
     "output_type": "error",
     "traceback": [
      "\u001b[0;31m---------------------------------------------------------------------------\u001b[0m",
      "\u001b[0;31mNameError\u001b[0m                                 Traceback (most recent call last)",
      "\u001b[0;32m<ipython-input-24-edd34f49ce7c>\u001b[0m in \u001b[0;36m<module>\u001b[0;34m\u001b[0m\n\u001b[1;32m      1\u001b[0m \u001b[0mi\u001b[0m \u001b[0;34m=\u001b[0m \u001b[0;36m1\u001b[0m\u001b[0;34m\u001b[0m\u001b[0;34m\u001b[0m\u001b[0m\n\u001b[1;32m      2\u001b[0m \u001b[0mplt\u001b[0m\u001b[0;34m.\u001b[0m\u001b[0mfigure\u001b[0m\u001b[0;34m(\u001b[0m\u001b[0mfigsize\u001b[0m\u001b[0;34m=\u001b[0m\u001b[0;34m(\u001b[0m\u001b[0;36m10\u001b[0m\u001b[0;34m,\u001b[0m \u001b[0;36m15\u001b[0m\u001b[0;34m)\u001b[0m\u001b[0;34m)\u001b[0m\u001b[0;34m\u001b[0m\u001b[0;34m\u001b[0m\u001b[0m\n\u001b[0;32m----> 3\u001b[0;31m \u001b[0;32mfor\u001b[0m \u001b[0moutcome\u001b[0m\u001b[0;34m,\u001b[0m \u001b[0mdf_outcome\u001b[0m \u001b[0;32min\u001b[0m \u001b[0mdf_results\u001b[0m\u001b[0;34m.\u001b[0m\u001b[0mgroupby\u001b[0m\u001b[0;34m(\u001b[0m\u001b[0;34m'Outcome'\u001b[0m\u001b[0;34m)\u001b[0m\u001b[0;34m:\u001b[0m\u001b[0;34m\u001b[0m\u001b[0;34m\u001b[0m\u001b[0m\n\u001b[0m\u001b[1;32m      4\u001b[0m     \u001b[0;32mfor\u001b[0m \u001b[0mtreated\u001b[0m\u001b[0;34m,\u001b[0m \u001b[0mdf\u001b[0m \u001b[0;32min\u001b[0m \u001b[0mdf_outcome\u001b[0m\u001b[0;34m.\u001b[0m\u001b[0mgroupby\u001b[0m\u001b[0;34m(\u001b[0m\u001b[0;34m\"Treated\"\u001b[0m\u001b[0;34m)\u001b[0m\u001b[0;34m:\u001b[0m\u001b[0;34m\u001b[0m\u001b[0;34m\u001b[0m\u001b[0m\n\u001b[1;32m      5\u001b[0m         \u001b[0mplt\u001b[0m\u001b[0;34m.\u001b[0m\u001b[0msubplot\u001b[0m\u001b[0;34m(\u001b[0m\u001b[0;36m3\u001b[0m\u001b[0;34m,\u001b[0m\u001b[0;36m2\u001b[0m\u001b[0;34m,\u001b[0m\u001b[0mi\u001b[0m\u001b[0;34m)\u001b[0m\u001b[0;34m;\u001b[0m \u001b[0mi\u001b[0m\u001b[0;34m+=\u001b[0m\u001b[0;36m1\u001b[0m\u001b[0;34m\u001b[0m\u001b[0;34m\u001b[0m\u001b[0m\n",
      "\u001b[0;31mNameError\u001b[0m: name 'df_results' is not defined"
     ]
    },
    {
     "data": {
      "text/plain": [
       "<Figure size 720x1080 with 0 Axes>"
      ]
     },
     "metadata": {},
     "output_type": "display_data"
    }
   ],
   "source": [
    "i = 1\n",
    "plt.figure(figsize=(10, 15))\n",
    "for outcome, df_outcome in df_results.groupby('Outcome'):\n",
    "    for treated, df in df_outcome.groupby(\"Treated\"):\n",
    "        plt.subplot(3,2,i); i+=1\n",
    "        plt.tight_layout()\n",
    "        sns.lineplot(x=df[\"fpr\"].iloc[0], y=df[\"tpr\"].iloc[0], linewidth=4)\n",
    "        plt.title(f\"{outcome}, {treated}, AUC: {round(df['AUC'].iloc[0], 3)}\")\n",
    "        plt.ylabel(\"OTrue positive rate\")\n",
    "        plt.xlabel(\"False positive rate\")"
   ]
  },
  {
   "cell_type": "code",
   "execution_count": null,
   "metadata": {},
   "outputs": [],
   "source": [
    "plt.figure(figsize=(8,8))\n",
    "sns.set()\n",
    "plt.title(f\"{target}, 800 tiles\")\n",
    "for n, row in df_distant.iloc[:10].iterrows():\n",
    "    plt.plot(*row[\"roc\"], label=f\"{round(row['AUC'],3)} {row['formula']}\")\n",
    "plt.legend(bbox_to_anchor=(1.05, 1), loc=2, borderaxespad=0.)"
   ]
  },
  {
   "cell_type": "code",
   "execution_count": null,
   "metadata": {},
   "outputs": [],
   "source": [
    "df_all[\"treated\"].value_counts()"
   ]
  },
  {
   "cell_type": "code",
   "execution_count": null,
   "metadata": {},
   "outputs": [],
   "source": [
    "target = \"local_relapse\"\n",
    "df = df_all[df_all[\"treated\"] == 1]\n",
    "df_target = df[target]\n",
    "f = filter_correlated(df[features],  0.90).columns\n",
    "df = dmatrix(f\"({'+'.join(f)})**3 - 1\", df, return_type='dataframe')\n",
    "f = df.columns\n",
    "df[target] = df_target\n",
    "print(len(f))\n",
    "f = best_features(df, f, target, 20)\n",
    "f = filter_correlated(df[f],  0.95).columns\n",
    "df_distant = try_interactions(df, f, target, n_features=[1,2,3,4]) "
   ]
  },
  {
   "cell_type": "code",
   "execution_count": null,
   "metadata": {},
   "outputs": [],
   "source": [
    "plt.figure(figsize=(8,8))\n",
    "plt.title(\"Local relapse, 800 tiles\")\n",
    "for n, row in df_distant.iloc[0:20].iterrows():\n",
    "    plt.plot(*row[\"roc\"], label=f\"{round(row['AUC'],3)} {row['formula']}\")\n",
    "plt.legend()\n",
    "plt.legend(bbox_to_anchor=(1.05, 1), loc=2, borderaxespad=0.)"
   ]
  },
  {
   "cell_type": "code",
   "execution_count": null,
   "metadata": {},
   "outputs": [],
   "source": [
    "def test_samples(df_wsi, formula):\n",
    "    d = []\n",
    "    for frac in tqdm(np.arange(0.1,1.0,0.1)):\n",
    "        for i in range(20):\n",
    "            df_wsi_sample = df_wsi.groupby(\"image_id\").sample(frac = frac)\n",
    "\n",
    "            df = merge_patient_data_wsi(df_wsi_sample, df_pat[df_pat[\"treated\"] == 1])\n",
    "            y, X = dmatrices(formula, df, NA_action = \"drop\", return_type=\"dataframe\")\n",
    "            true, pred, _ = cross_validation(y, X, logit)\n",
    "            auc = roc_auc_score(true, pred)\n",
    "            tpr, fpr, thresholds = roc_curve(true, pred)\n",
    "            d.append({\n",
    "                \"n_samples\" : frac,\n",
    "                \"formula\" : formula,\n",
    "                \"AUC\" : auc,\n",
    "                \"roc\" : (tpr, fpr),\n",
    "                \"thresh\" : thresholds,\n",
    "            })\n",
    "        \n",
    "    return pd.DataFrame(d)\n"
   ]
  },
  {
   "cell_type": "code",
   "execution_count": null,
   "metadata": {},
   "outputs": [],
   "source": [
    "#results_distant = test_samples(df_wsi, df_distant[\"formula\"].iloc[0])\n",
    "results_distant = test_samples(df_wsi, \"distant_relapse ~ tumor_area:s_tils_60 -1\")\n",
    "sns.boxplot(data=results_distant, y=\"AUC\", x=\"n_samples\")"
   ]
  },
  {
   "cell_type": "code",
   "execution_count": null,
   "metadata": {},
   "outputs": [],
   "source": [
    "results_local = test_samples(df_wsi, df_local[\"formula\"].iloc[0])\n",
    "plt.figure()\n",
    "sns.boxplot(data=results_distant, y=\"AUC\", x=\"n_samples\")"
   ]
  },
  {
   "cell_type": "code",
   "execution_count": null,
   "metadata": {},
   "outputs": [],
   "source": [
    "formula = \"distant_relapse ~ n_tumor*(tumor_tils1+tumor_cluster)\"\n",
    "print(results_distant[\"formula\"].iloc[0])\n",
    "\n",
    "df_wsi_sample = df_wsi.groupby(\"image_id\").sample(400, replace=False)\n",
    "df = merge_patient_data(df_wsi_sample, df_pat[df_pat[\"treated\"] == 1])\n",
    "df = df[features + [\"distant_relapse\"]].replace([np.inf, -np.inf], np.nan).dropna()\n",
    "y, X = dmatrices(formula, df, NA_action=\"drop\")\n",
    "true, pred = cross_validation(y, X, logit)\n",
    "auc = roc_auc_score(true, pred)\n",
    "tpr, fpr, thresholds = roc_curve(true, pred)\n",
    "print(auc)"
   ]
  },
  {
   "cell_type": "code",
   "execution_count": null,
   "metadata": {},
   "outputs": [],
   "source": [
    "df_all[\"nodes\"].isna().value_counts()"
   ]
  },
  {
   "cell_type": "code",
   "execution_count": null,
   "metadata": {},
   "outputs": [],
   "source": [
    "import os \n",
    "from shutil import copyfile\n",
    "path = \"../data/tnbc_wsi/images/\"\n",
    "for image_name in os.listdir(path):\n",
    "    pat_id =  pat_id_wsi(image_name)\n",
    "    if pat_id in df_pat.index and df_pat.loc[pat_id][\"treated\"]:\n",
    "        copyfile(os.path.join(path, image_name), \"../data/tnbc_wsi/treated/\" + image_name)"
   ]
  },
  {
   "cell_type": "code",
   "execution_count": null,
   "metadata": {},
   "outputs": [],
   "source": [
    "df_pat[\"treated\"].value_counts()"
   ]
  }
 ],
 "metadata": {
  "kernelspec": {
   "display_name": "Python 3",
   "language": "python",
   "name": "python3"
  },
  "language_info": {
   "codemirror_mode": {
    "name": "ipython",
    "version": 3
   },
   "file_extension": ".py",
   "mimetype": "text/x-python",
   "name": "python",
   "nbconvert_exporter": "python",
   "pygments_lexer": "ipython3",
   "version": "3.8.2"
  }
 },
 "nbformat": 4,
 "nbformat_minor": 4
}
